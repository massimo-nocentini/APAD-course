{
 "cells": [
  {
   "cell_type": "markdown",
   "metadata": {},
   "source": [
    "# Core concepts\n",
    "\n",
    "This chapter deepens our understanding of some concepts seen in http://www.andreamarino.it/python/thinkcspy/.\n",
    "\n",
    "We quote from the official help system.\n",
    "\n",
    "First,  \n",
    ">*Objects* are Python’s abstraction for data.  All data in a Python\n",
    "program is represented by objects or by relations between objects. (In\n",
    "a sense, and in conformance to Von Neumann’s model of a “stored\n",
    "program computer”, code is also represented by objects.)\n",
    "\n",
    "Second,\n",
    ">Every object has an identity, a type and a value.  An object’s\n",
    "*identity* never changes once it has been created; you may think of it\n",
    "as the object’s address in memory.  The ‘\"is\"’ operator compares the\n",
    "identity of two objects; the \"id()\" function returns an integer\n",
    "representing its identity.\n",
    "\n",
    "where"
   ]
  },
  {
   "cell_type": "code",
   "execution_count": 8,
   "metadata": {},
   "outputs": [
    {
     "name": "stdout",
     "output_type": "stream",
     "text": [
      "Help on built-in function id in module builtins:\n",
      "\n",
      "id(obj, /)\n",
      "    Return the identity of an object.\n",
      "    \n",
      "    This is guaranteed to be unique among simultaneously existing objects.\n",
      "    (CPython uses the object's memory address.)\n",
      "\n"
     ]
    }
   ],
   "source": [
    "help(id)"
   ]
  },
  {
   "cell_type": "markdown",
   "metadata": {},
   "source": [
    "Third,\n",
    ">An object’s type determines the operations that the object supports\n",
    "(e.g., “does it have a length?”) and also defines the possible values\n",
    "for objects of that type.  The \"type()\" function returns an object’s\n",
    "type (which is an object itself).  Like its identity, an object’s\n",
    "*type* is also unchangeable.\n",
    "\n",
    "Fourth,\n",
    ">The *value* of some objects can change.  Objects whose value can\n",
    "change are said to be *mutable*; objects whose value is unchangeable\n",
    "once they are created are called *immutable*. (The value of an\n",
    "immutable container object that contains a reference to a mutable\n",
    "object can change when the latter’s value is changed; however the\n",
    "container is still considered immutable, because the collection of\n",
    "objects it contains cannot be changed.  So, immutability is not\n",
    "strictly the same as having an unchangeable value, it is more subtle.)\n",
    "An object’s mutability is determined by its type; for instance,\n",
    "numbers, strings and tuples are immutable, while dictionaries and\n",
    "lists are mutable.\n",
    "\n",
    "Fifth,\n",
    ">Some objects contain references to other objects; these are called\n",
    "*containers*. Examples of containers are tuples, lists and\n",
    "dictionaries.  The references are part of a container’s value.  In\n",
    "most cases, when we talk about the value of a container, we imply the\n",
    "values, not the identities of the contained objects; however, when we\n",
    "talk about the mutability of a container, only the identities of the\n",
    "immediately contained objects are implied.  So, if an immutable\n",
    "container (like a tuple) contains a reference to a mutable object, its\n",
    "value changes if that mutable object is changed.\n",
    "\n",
    "Sixth,\n",
    ">Types affect almost all aspects of object behavior.  Even the\n",
    "importance of object identity is affected in some sense: for immutable\n",
    "types, operations that compute new values may actually return a\n",
    "reference to any existing object with the same type and value, while\n",
    "for mutable objects this is not allowed.\n"
   ]
  },
  {
   "cell_type": "code",
   "execution_count": 9,
   "metadata": {},
   "outputs": [
    {
     "data": {
      "text/plain": [
       "(139857074039088, 139857074039088)"
      ]
     },
     "execution_count": 9,
     "metadata": {},
     "output_type": "execute_result"
    }
   ],
   "source": [
    "a = 1; b = 1 # \"a\" and \"b\" may or may not refer to the same object with the value one,\n",
    "id(a), id(b) # depending on the implementation"
   ]
  },
  {
   "cell_type": "code",
   "execution_count": 13,
   "metadata": {},
   "outputs": [
    {
     "data": {
      "text/plain": [
       "(139856721784704, 139856722422272)"
      ]
     },
     "execution_count": 13,
     "metadata": {},
     "output_type": "execute_result"
    }
   ],
   "source": [
    "c = []; d = []\n",
    "id(c), id(d) # \"c\" and \"d\" are guaranteed to refer to two different, unique, newly created empty lists."
   ]
  },
  {
   "cell_type": "markdown",
   "metadata": {},
   "source": [
    "A full description can be read by evaluating the following,"
   ]
  },
  {
   "cell_type": "code",
   "execution_count": null,
   "metadata": {
    "scrolled": false
   },
   "outputs": [],
   "source": [
    "help('OBJECTS')"
   ]
  },
  {
   "cell_type": "markdown",
   "metadata": {},
   "source": [
    "## Values and their types\n",
    "\n",
    "Some playground:"
   ]
  },
  {
   "cell_type": "code",
   "execution_count": 2,
   "metadata": {},
   "outputs": [
    {
     "data": {
      "text/plain": [
       "('Hello, World!', str)"
      ]
     },
     "execution_count": 2,
     "metadata": {},
     "output_type": "execute_result"
    }
   ],
   "source": [
    "\"Hello, World!\", type(\"Hello, World!\")"
   ]
  },
  {
   "cell_type": "code",
   "execution_count": 3,
   "metadata": {},
   "outputs": [
    {
     "data": {
      "text/plain": [
       "tuple"
      ]
     },
     "execution_count": 3,
     "metadata": {},
     "output_type": "execute_result"
    }
   ],
   "source": [
    "type(_)"
   ]
  },
  {
   "cell_type": "code",
   "execution_count": 7,
   "metadata": {},
   "outputs": [
    {
     "name": "stdout",
     "output_type": "stream",
     "text": [
      "Built-in immutable sequence.\n",
      "\n",
      "If no argument is given, the constructor returns an empty tuple.\n",
      "If iterable is specified the tuple is initialized from iterable's items.\n",
      "\n",
      "If the argument is a tuple, the return value is the same object.\n"
     ]
    }
   ],
   "source": [
    "print(tuple.__doc__)"
   ]
  },
  {
   "cell_type": "code",
   "execution_count": 105,
   "metadata": {},
   "outputs": [
    {
     "data": {
      "text/plain": [
       "(3.2, float)"
      ]
     },
     "execution_count": 105,
     "metadata": {},
     "output_type": "execute_result"
    }
   ],
   "source": [
    "3.2, type(3.2)"
   ]
  },
  {
   "cell_type": "code",
   "execution_count": 106,
   "metadata": {},
   "outputs": [
    {
     "data": {
      "text/plain": [
       "'\"Oh no\", she exclaimed, \"Ben\\'s bike is broken!\"'"
      ]
     },
     "execution_count": 106,
     "metadata": {},
     "output_type": "execute_result"
    }
   ],
   "source": [
    "'''\"Oh no\", she exclaimed, \"Ben's bike is broken!\"'''"
   ]
  },
  {
   "cell_type": "code",
   "execution_count": 107,
   "metadata": {},
   "outputs": [
    {
     "data": {
      "text/plain": [
       "'\"Oh no\", she exclaimed, \"Ben\\'s bike is broken!\"'"
      ]
     },
     "execution_count": 107,
     "metadata": {},
     "output_type": "execute_result"
    }
   ],
   "source": [
    "_"
   ]
  },
  {
   "cell_type": "code",
   "execution_count": 108,
   "metadata": {},
   "outputs": [
    {
     "data": {
      "text/plain": [
       "str"
      ]
     },
     "execution_count": 108,
     "metadata": {},
     "output_type": "execute_result"
    }
   ],
   "source": [
    "type(_)"
   ]
  },
  {
   "cell_type": "markdown",
   "metadata": {},
   "source": [
    "however, have a look at https://docs.python.org/3/reference/datamodel.html#data-model. From there:\n",
    "\n",
    ">Objects are Python’s abstraction for data. All data in a Python program is represented by objects or by relations between objects. (In a sense, and in conformance to Von Neumann’s model of a “stored program computer”, code is also represented by objects.)\n",
    "\n",
    "and\n",
    "\n",
    ">Every object has an identity, a type and a value. An object’s identity never changes once it has been created; you may think of it as the object’s address in memory. The ‘is’ operator compares the identity of two objects; the id() function returns an integer representing its identity.\n",
    "\n",
    "For types, \n",
    "\n",
    ">The principal built-in types are numerics, sequences, mappings, classes, instances and exceptions.\n",
    ">\n",
    ">Some collection classes are mutable. The methods that add, subtract, or rearrange their members in place, and don’t return a specific item, never return the collection instance itself but None.\n",
    ">\n",
    ">Some operations are supported by several object types; in particular, practically all objects can be compared for equality, tested for truth value, and converted to a string (with the repr() function or the slightly different str() function). The latter function is implicitly used when an object is written by the print() function.\n",
    "\n",
    "also see https://docs.python.org/3/library/stdtypes.html?highlight=built%20ins."
   ]
  },
  {
   "cell_type": "code",
   "execution_count": 11,
   "metadata": {
    "scrolled": false
   },
   "outputs": [
    {
     "name": "stdout",
     "output_type": "stream",
     "text": [
      "The standard type hierarchy\n",
      "***************************\n",
      "\n",
      "Below is a list of the types that are built into Python.  Extension\n",
      "modules (written in C, Java, or other languages, depending on the\n",
      "implementation) can define additional types.  Future versions of\n",
      "Python may add types to the type hierarchy (e.g., rational numbers,\n",
      "efficiently stored arrays of integers, etc.), although such additions\n",
      "will often be provided via the standard library instead.\n",
      "\n",
      "Some of the type descriptions below contain a paragraph listing\n",
      "‘special attributes.’  These are attributes that provide access to the\n",
      "implementation and are not intended for general use.  Their definition\n",
      "may change in the future.\n",
      "\n",
      "None\n",
      "   This type has a single value.  There is a single object with this\n",
      "   value. This object is accessed through the built-in name \"None\". It\n",
      "   is used to signify the absence of a value in many situations, e.g.,\n",
      "   it is returned from functions that don’t explicitly return\n",
      "   anything. Its truth value is false.\n",
      "\n",
      "NotImplemented\n",
      "   This type has a single value.  There is a single object with this\n",
      "   value. This object is accessed through the built-in name\n",
      "   \"NotImplemented\". Numeric methods and rich comparison methods\n",
      "   should return this value if they do not implement the operation for\n",
      "   the operands provided.  (The interpreter will then try the\n",
      "   reflected operation, or some other fallback, depending on the\n",
      "   operator.)  It should not be evaluated in a boolean context.\n",
      "\n",
      "   See Implementing the arithmetic operations for more details.\n",
      "\n",
      "   Changed in version 3.9: Evaluating \"NotImplemented\" in a boolean\n",
      "   context is deprecated. While it currently evaluates as true, it\n",
      "   will emit a \"DeprecationWarning\". It will raise a \"TypeError\" in a\n",
      "   future version of Python.\n",
      "\n",
      "Ellipsis\n",
      "   This type has a single value.  There is a single object with this\n",
      "   value. This object is accessed through the literal \"...\" or the\n",
      "   built-in name \"Ellipsis\".  Its truth value is true.\n",
      "\n",
      "\"numbers.Number\"\n",
      "   These are created by numeric literals and returned as results by\n",
      "   arithmetic operators and arithmetic built-in functions.  Numeric\n",
      "   objects are immutable; once created their value never changes.\n",
      "   Python numbers are of course strongly related to mathematical\n",
      "   numbers, but subject to the limitations of numerical representation\n",
      "   in computers.\n",
      "\n",
      "   Python distinguishes between integers, floating point numbers, and\n",
      "   complex numbers:\n",
      "\n",
      "   \"numbers.Integral\"\n",
      "      These represent elements from the mathematical set of integers\n",
      "      (positive and negative).\n",
      "\n",
      "      There are two types of integers:\n",
      "\n",
      "      Integers (\"int\")\n",
      "\n",
      "         These represent numbers in an unlimited range, subject to\n",
      "         available (virtual) memory only.  For the purpose of shift\n",
      "         and mask operations, a binary representation is assumed, and\n",
      "         negative numbers are represented in a variant of 2’s\n",
      "         complement which gives the illusion of an infinite string of\n",
      "         sign bits extending to the left.\n",
      "\n",
      "      Booleans (\"bool\")\n",
      "         These represent the truth values False and True.  The two\n",
      "         objects representing the values \"False\" and \"True\" are the\n",
      "         only Boolean objects. The Boolean type is a subtype of the\n",
      "         integer type, and Boolean values behave like the values 0 and\n",
      "         1, respectively, in almost all contexts, the exception being\n",
      "         that when converted to a string, the strings \"\"False\"\" or\n",
      "         \"\"True\"\" are returned, respectively.\n",
      "\n",
      "      The rules for integer representation are intended to give the\n",
      "      most meaningful interpretation of shift and mask operations\n",
      "      involving negative integers.\n",
      "\n",
      "   \"numbers.Real\" (\"float\")\n",
      "      These represent machine-level double precision floating point\n",
      "      numbers. You are at the mercy of the underlying machine\n",
      "      architecture (and C or Java implementation) for the accepted\n",
      "      range and handling of overflow. Python does not support single-\n",
      "      precision floating point numbers; the savings in processor and\n",
      "      memory usage that are usually the reason for using these are\n",
      "      dwarfed by the overhead of using objects in Python, so there is\n",
      "      no reason to complicate the language with two kinds of floating\n",
      "      point numbers.\n",
      "\n",
      "   \"numbers.Complex\" (\"complex\")\n",
      "      These represent complex numbers as a pair of machine-level\n",
      "      double precision floating point numbers.  The same caveats apply\n",
      "      as for floating point numbers. The real and imaginary parts of a\n",
      "      complex number \"z\" can be retrieved through the read-only\n",
      "      attributes \"z.real\" and \"z.imag\".\n",
      "\n",
      "Sequences\n",
      "   These represent finite ordered sets indexed by non-negative\n",
      "   numbers. The built-in function \"len()\" returns the number of items\n",
      "   of a sequence. When the length of a sequence is *n*, the index set\n",
      "   contains the numbers 0, 1, …, *n*-1.  Item *i* of sequence *a* is\n",
      "   selected by \"a[i]\".\n",
      "\n",
      "   Sequences also support slicing: \"a[i:j]\" selects all items with\n",
      "   index *k* such that *i* \"<=\" *k* \"<\" *j*.  When used as an\n",
      "   expression, a slice is a sequence of the same type.  This implies\n",
      "   that the index set is renumbered so that it starts at 0.\n",
      "\n",
      "   Some sequences also support “extended slicing” with a third “step”\n",
      "   parameter: \"a[i:j:k]\" selects all items of *a* with index *x* where\n",
      "   \"x = i + n*k\", *n* \">=\" \"0\" and *i* \"<=\" *x* \"<\" *j*.\n",
      "\n",
      "   Sequences are distinguished according to their mutability:\n",
      "\n",
      "   Immutable sequences\n",
      "      An object of an immutable sequence type cannot change once it is\n",
      "      created.  (If the object contains references to other objects,\n",
      "      these other objects may be mutable and may be changed; however,\n",
      "      the collection of objects directly referenced by an immutable\n",
      "      object cannot change.)\n",
      "\n",
      "      The following types are immutable sequences:\n",
      "\n",
      "      Strings\n",
      "         A string is a sequence of values that represent Unicode code\n",
      "         points. All the code points in the range \"U+0000 - U+10FFFF\"\n",
      "         can be represented in a string.  Python doesn’t have a \"char\"\n",
      "         type; instead, every code point in the string is represented\n",
      "         as a string object with length \"1\".  The built-in function\n",
      "         \"ord()\" converts a code point from its string form to an\n",
      "         integer in the range \"0 - 10FFFF\"; \"chr()\" converts an\n",
      "         integer in the range \"0 - 10FFFF\" to the corresponding length\n",
      "         \"1\" string object. \"str.encode()\" can be used to convert a\n",
      "         \"str\" to \"bytes\" using the given text encoding, and\n",
      "         \"bytes.decode()\" can be used to achieve the opposite.\n",
      "\n",
      "      Tuples\n",
      "         The items of a tuple are arbitrary Python objects. Tuples of\n",
      "         two or more items are formed by comma-separated lists of\n",
      "         expressions.  A tuple of one item (a ‘singleton’) can be\n",
      "         formed by affixing a comma to an expression (an expression by\n",
      "         itself does not create a tuple, since parentheses must be\n",
      "         usable for grouping of expressions).  An empty tuple can be\n",
      "         formed by an empty pair of parentheses.\n",
      "\n",
      "      Bytes\n",
      "         A bytes object is an immutable array.  The items are 8-bit\n",
      "         bytes, represented by integers in the range 0 <= x < 256.\n",
      "         Bytes literals (like \"b'abc'\") and the built-in \"bytes()\"\n",
      "         constructor can be used to create bytes objects.  Also, bytes\n",
      "         objects can be decoded to strings via the \"decode()\" method.\n",
      "\n",
      "   Mutable sequences\n",
      "      Mutable sequences can be changed after they are created.  The\n",
      "      subscription and slicing notations can be used as the target of\n",
      "      assignment and \"del\" (delete) statements.\n",
      "\n",
      "      There are currently two intrinsic mutable sequence types:\n",
      "\n",
      "      Lists\n",
      "         The items of a list are arbitrary Python objects.  Lists are\n",
      "         formed by placing a comma-separated list of expressions in\n",
      "         square brackets. (Note that there are no special cases needed\n",
      "         to form lists of length 0 or 1.)\n",
      "\n",
      "      Byte Arrays\n",
      "         A bytearray object is a mutable array. They are created by\n",
      "         the built-in \"bytearray()\" constructor.  Aside from being\n",
      "         mutable (and hence unhashable), byte arrays otherwise provide\n",
      "         the same interface and functionality as immutable \"bytes\"\n",
      "         objects.\n",
      "\n",
      "      The extension module \"array\" provides an additional example of a\n",
      "      mutable sequence type, as does the \"collections\" module.\n",
      "\n",
      "Set types\n",
      "   These represent unordered, finite sets of unique, immutable\n",
      "   objects. As such, they cannot be indexed by any subscript. However,\n",
      "   they can be iterated over, and the built-in function \"len()\"\n",
      "   returns the number of items in a set. Common uses for sets are fast\n",
      "   membership testing, removing duplicates from a sequence, and\n",
      "   computing mathematical operations such as intersection, union,\n",
      "   difference, and symmetric difference.\n",
      "\n",
      "   For set elements, the same immutability rules apply as for\n",
      "   dictionary keys. Note that numeric types obey the normal rules for\n",
      "   numeric comparison: if two numbers compare equal (e.g., \"1\" and\n",
      "   \"1.0\"), only one of them can be contained in a set.\n",
      "\n",
      "   There are currently two intrinsic set types:\n",
      "\n",
      "   Sets\n",
      "      These represent a mutable set. They are created by the built-in\n",
      "      \"set()\" constructor and can be modified afterwards by several\n",
      "      methods, such as \"add()\".\n",
      "\n",
      "   Frozen sets\n",
      "      These represent an immutable set.  They are created by the\n",
      "      built-in \"frozenset()\" constructor.  As a frozenset is immutable\n",
      "      and *hashable*, it can be used again as an element of another\n",
      "      set, or as a dictionary key.\n",
      "\n",
      "Mappings\n",
      "   These represent finite sets of objects indexed by arbitrary index\n",
      "   sets. The subscript notation \"a[k]\" selects the item indexed by \"k\"\n",
      "   from the mapping \"a\"; this can be used in expressions and as the\n",
      "   target of assignments or \"del\" statements. The built-in function\n",
      "   \"len()\" returns the number of items in a mapping.\n",
      "\n",
      "   There is currently a single intrinsic mapping type:\n",
      "\n",
      "   Dictionaries\n",
      "      These represent finite sets of objects indexed by nearly\n",
      "      arbitrary values.  The only types of values not acceptable as\n",
      "      keys are values containing lists or dictionaries or other\n",
      "      mutable types that are compared by value rather than by object\n",
      "      identity, the reason being that the efficient implementation of\n",
      "      dictionaries requires a key’s hash value to remain constant.\n",
      "      Numeric types used for keys obey the normal rules for numeric\n",
      "      comparison: if two numbers compare equal (e.g., \"1\" and \"1.0\")\n",
      "      then they can be used interchangeably to index the same\n",
      "      dictionary entry.\n",
      "\n",
      "      Dictionaries preserve insertion order, meaning that keys will be\n",
      "      produced in the same order they were added sequentially over the\n",
      "      dictionary. Replacing an existing key does not change the order,\n",
      "      however removing a key and re-inserting it will add it to the\n",
      "      end instead of keeping its old place.\n",
      "\n",
      "      Dictionaries are mutable; they can be created by the \"{...}\"\n",
      "      notation (see section Dictionary displays).\n",
      "\n",
      "      The extension modules \"dbm.ndbm\" and \"dbm.gnu\" provide\n",
      "      additional examples of mapping types, as does the \"collections\"\n",
      "      module.\n",
      "\n",
      "      Changed in version 3.7: Dictionaries did not preserve insertion\n",
      "      order in versions of Python before 3.6. In CPython 3.6,\n",
      "      insertion order was preserved, but it was considered an\n",
      "      implementation detail at that time rather than a language\n",
      "      guarantee.\n",
      "\n",
      "Callable types\n",
      "   These are the types to which the function call operation (see\n",
      "   section Calls) can be applied:\n",
      "\n",
      "   User-defined functions\n",
      "      A user-defined function object is created by a function\n",
      "      definition (see section Function definitions).  It should be\n",
      "      called with an argument list containing the same number of items\n",
      "      as the function’s formal parameter list.\n",
      "\n",
      "      Special attributes:\n",
      "\n",
      "      +---------------------------+---------------------------------+-------------+\n",
      "      | Attribute                 | Meaning                         |             |\n",
      "      |===========================|=================================|=============|\n",
      "      | \"__doc__\"                 | The function’s documentation    | Writable    |\n",
      "      |                           | string, or \"None\" if            |             |\n",
      "      |                           | unavailable; not inherited by   |             |\n",
      "      |                           | subclasses.                     |             |\n",
      "      +---------------------------+---------------------------------+-------------+\n",
      "      | \"__name__\"                | The function’s name.            | Writable    |\n",
      "      +---------------------------+---------------------------------+-------------+\n",
      "      | \"__qualname__\"            | The function’s *qualified       | Writable    |\n",
      "      |                           | name*.  New in version 3.3.     |             |\n",
      "      +---------------------------+---------------------------------+-------------+\n",
      "      | \"__module__\"              | The name of the module the      | Writable    |\n",
      "      |                           | function was defined in, or     |             |\n",
      "      |                           | \"None\" if unavailable.          |             |\n",
      "      +---------------------------+---------------------------------+-------------+\n",
      "      | \"__defaults__\"            | A tuple containing default      | Writable    |\n",
      "      |                           | argument values for those       |             |\n",
      "      |                           | arguments that have defaults,   |             |\n",
      "      |                           | or \"None\" if no arguments have  |             |\n",
      "      |                           | a default value.                |             |\n",
      "      +---------------------------+---------------------------------+-------------+\n",
      "      | \"__code__\"                | The code object representing    | Writable    |\n",
      "      |                           | the compiled function body.     |             |\n",
      "      +---------------------------+---------------------------------+-------------+\n",
      "      | \"__globals__\"             | A reference to the dictionary   | Read-only   |\n",
      "      |                           | that holds the function’s       |             |\n",
      "      |                           | global variables — the global   |             |\n",
      "      |                           | namespace of the module in      |             |\n",
      "      |                           | which the function was defined. |             |\n",
      "      +---------------------------+---------------------------------+-------------+\n",
      "      | \"__dict__\"                | The namespace supporting        | Writable    |\n",
      "      |                           | arbitrary function attributes.  |             |\n",
      "      +---------------------------+---------------------------------+-------------+\n",
      "      | \"__closure__\"             | \"None\" or a tuple of cells that | Read-only   |\n",
      "      |                           | contain bindings for the        |             |\n",
      "      |                           | function’s free variables. See  |             |\n",
      "      |                           | below for information on the    |             |\n",
      "      |                           | \"cell_contents\" attribute.      |             |\n",
      "      +---------------------------+---------------------------------+-------------+\n",
      "      | \"__annotations__\"         | A dict containing annotations   | Writable    |\n",
      "      |                           | of parameters.  The keys of the |             |\n",
      "      |                           | dict are the parameter names,   |             |\n",
      "      |                           | and \"'return'\" for the return   |             |\n",
      "      |                           | annotation, if provided.        |             |\n",
      "      +---------------------------+---------------------------------+-------------+\n",
      "      | \"__kwdefaults__\"          | A dict containing defaults for  | Writable    |\n",
      "      |                           | keyword-only parameters.        |             |\n",
      "      +---------------------------+---------------------------------+-------------+\n",
      "\n",
      "      Most of the attributes labelled “Writable” check the type of the\n",
      "      assigned value.\n",
      "\n",
      "      Function objects also support getting and setting arbitrary\n",
      "      attributes, which can be used, for example, to attach metadata\n",
      "      to functions.  Regular attribute dot-notation is used to get and\n",
      "      set such attributes. *Note that the current implementation only\n",
      "      supports function attributes on user-defined functions. Function\n",
      "      attributes on built-in functions may be supported in the\n",
      "      future.*\n",
      "\n",
      "      A cell object has the attribute \"cell_contents\". This can be\n",
      "      used to get the value of the cell, as well as set the value.\n",
      "\n",
      "      Additional information about a function’s definition can be\n",
      "      retrieved from its code object; see the description of internal\n",
      "      types below. The \"cell\" type can be accessed in the \"types\"\n",
      "      module.\n",
      "\n",
      "   Instance methods\n",
      "      An instance method object combines a class, a class instance and\n",
      "      any callable object (normally a user-defined function).\n",
      "\n",
      "      Special read-only attributes: \"__self__\" is the class instance\n",
      "      object, \"__func__\" is the function object; \"__doc__\" is the\n",
      "      method’s documentation (same as \"__func__.__doc__\"); \"__name__\"\n",
      "      is the method name (same as \"__func__.__name__\"); \"__module__\"\n",
      "      is the name of the module the method was defined in, or \"None\"\n",
      "      if unavailable.\n",
      "\n",
      "      Methods also support accessing (but not setting) the arbitrary\n",
      "      function attributes on the underlying function object.\n",
      "\n",
      "      User-defined method objects may be created when getting an\n",
      "      attribute of a class (perhaps via an instance of that class), if\n",
      "      that attribute is a user-defined function object or a class\n",
      "      method object.\n",
      "\n",
      "      When an instance method object is created by retrieving a user-\n",
      "      defined function object from a class via one of its instances,\n",
      "      its \"__self__\" attribute is the instance, and the method object\n",
      "      is said to be bound.  The new method’s \"__func__\" attribute is\n",
      "      the original function object.\n",
      "\n",
      "      When an instance method object is created by retrieving a class\n",
      "      method object from a class or instance, its \"__self__\" attribute\n",
      "      is the class itself, and its \"__func__\" attribute is the\n",
      "      function object underlying the class method.\n",
      "\n",
      "      When an instance method object is called, the underlying\n",
      "      function (\"__func__\") is called, inserting the class instance\n",
      "      (\"__self__\") in front of the argument list.  For instance, when\n",
      "      \"C\" is a class which contains a definition for a function \"f()\",\n",
      "      and \"x\" is an instance of \"C\", calling \"x.f(1)\" is equivalent to\n",
      "      calling \"C.f(x, 1)\".\n",
      "\n",
      "      When an instance method object is derived from a class method\n",
      "      object, the “class instance” stored in \"__self__\" will actually\n",
      "      be the class itself, so that calling either \"x.f(1)\" or \"C.f(1)\"\n",
      "      is equivalent to calling \"f(C,1)\" where \"f\" is the underlying\n",
      "      function.\n",
      "\n",
      "      Note that the transformation from function object to instance\n",
      "      method object happens each time the attribute is retrieved from\n",
      "      the instance.  In some cases, a fruitful optimization is to\n",
      "      assign the attribute to a local variable and call that local\n",
      "      variable. Also notice that this transformation only happens for\n",
      "      user-defined functions; other callable objects (and all non-\n",
      "      callable objects) are retrieved without transformation.  It is\n",
      "      also important to note that user-defined functions which are\n",
      "      attributes of a class instance are not converted to bound\n",
      "      methods; this *only* happens when the function is an attribute\n",
      "      of the class.\n",
      "\n",
      "   Generator functions\n",
      "      A function or method which uses the \"yield\" statement (see\n",
      "      section The yield statement) is called a *generator function*.\n",
      "      Such a function, when called, always returns an iterator object\n",
      "      which can be used to execute the body of the function:  calling\n",
      "      the iterator’s \"iterator.__next__()\" method will cause the\n",
      "      function to execute until it provides a value using the \"yield\"\n",
      "      statement.  When the function executes a \"return\" statement or\n",
      "      falls off the end, a \"StopIteration\" exception is raised and the\n",
      "      iterator will have reached the end of the set of values to be\n",
      "      returned.\n",
      "\n",
      "   Coroutine functions\n",
      "      A function or method which is defined using \"async def\" is\n",
      "      called a *coroutine function*.  Such a function, when called,\n",
      "      returns a *coroutine* object.  It may contain \"await\"\n",
      "      expressions, as well as \"async with\" and \"async for\" statements.\n",
      "      See also the Coroutine Objects section.\n",
      "\n",
      "   Asynchronous generator functions\n",
      "      A function or method which is defined using \"async def\" and\n",
      "      which uses the \"yield\" statement is called a *asynchronous\n",
      "      generator function*.  Such a function, when called, returns an\n",
      "      asynchronous iterator object which can be used in an \"async for\"\n",
      "      statement to execute the body of the function.\n",
      "\n",
      "      Calling the asynchronous iterator’s \"aiterator.__anext__()\"\n",
      "      method will return an *awaitable* which when awaited will\n",
      "      execute until it provides a value using the \"yield\" expression.\n",
      "      When the function executes an empty \"return\" statement or falls\n",
      "      off the end, a \"StopAsyncIteration\" exception is raised and the\n",
      "      asynchronous iterator will have reached the end of the set of\n",
      "      values to be yielded.\n",
      "\n",
      "   Built-in functions\n",
      "      A built-in function object is a wrapper around a C function.\n",
      "      Examples of built-in functions are \"len()\" and \"math.sin()\"\n",
      "      (\"math\" is a standard built-in module). The number and type of\n",
      "      the arguments are determined by the C function. Special read-\n",
      "      only attributes: \"__doc__\" is the function’s documentation\n",
      "      string, or \"None\" if unavailable; \"__name__\" is the function’s\n",
      "      name; \"__self__\" is set to \"None\" (but see the next item);\n",
      "      \"__module__\" is the name of the module the function was defined\n",
      "      in or \"None\" if unavailable.\n",
      "\n",
      "   Built-in methods\n",
      "      This is really a different disguise of a built-in function, this\n",
      "      time containing an object passed to the C function as an\n",
      "      implicit extra argument.  An example of a built-in method is\n",
      "      \"alist.append()\", assuming *alist* is a list object. In this\n",
      "      case, the special read-only attribute \"__self__\" is set to the\n",
      "      object denoted by *alist*.\n",
      "\n",
      "   Classes\n",
      "      Classes are callable.  These objects normally act as factories\n",
      "      for new instances of themselves, but variations are possible for\n",
      "      class types that override \"__new__()\".  The arguments of the\n",
      "      call are passed to \"__new__()\" and, in the typical case, to\n",
      "      \"__init__()\" to initialize the new instance.\n",
      "\n",
      "   Class Instances\n",
      "      Instances of arbitrary classes can be made callable by defining\n",
      "      a \"__call__()\" method in their class.\n",
      "\n",
      "Modules\n",
      "   Modules are a basic organizational unit of Python code, and are\n",
      "   created by the import system as invoked either by the \"import\"\n",
      "   statement, or by calling functions such as\n",
      "   \"importlib.import_module()\" and built-in \"__import__()\".  A module\n",
      "   object has a namespace implemented by a dictionary object (this is\n",
      "   the dictionary referenced by the \"__globals__\" attribute of\n",
      "   functions defined in the module).  Attribute references are\n",
      "   translated to lookups in this dictionary, e.g., \"m.x\" is equivalent\n",
      "   to \"m.__dict__[\"x\"]\". A module object does not contain the code\n",
      "   object used to initialize the module (since it isn’t needed once\n",
      "   the initialization is done).\n",
      "\n",
      "   Attribute assignment updates the module’s namespace dictionary,\n",
      "   e.g., \"m.x = 1\" is equivalent to \"m.__dict__[\"x\"] = 1\".\n",
      "\n",
      "   Predefined (writable) attributes: \"__name__\" is the module’s name;\n",
      "   \"__doc__\" is the module’s documentation string, or \"None\" if\n",
      "   unavailable; \"__annotations__\" (optional) is a dictionary\n",
      "   containing *variable annotations* collected during module body\n",
      "   execution; \"__file__\" is the pathname of the file from which the\n",
      "   module was loaded, if it was loaded from a file. The \"__file__\"\n",
      "   attribute may be missing for certain types of modules, such as C\n",
      "   modules that are statically linked into the interpreter; for\n",
      "   extension modules loaded dynamically from a shared library, it is\n",
      "   the pathname of the shared library file.\n",
      "\n",
      "   Special read-only attribute: \"__dict__\" is the module’s namespace\n",
      "   as a dictionary object.\n",
      "\n",
      "   **CPython implementation detail:** Because of the way CPython\n",
      "   clears module dictionaries, the module dictionary will be cleared\n",
      "   when the module falls out of scope even if the dictionary still has\n",
      "   live references.  To avoid this, copy the dictionary or keep the\n",
      "   module around while using its dictionary directly.\n",
      "\n",
      "Custom classes\n",
      "   Custom class types are typically created by class definitions (see\n",
      "   section Class definitions).  A class has a namespace implemented by\n",
      "   a dictionary object. Class attribute references are translated to\n",
      "   lookups in this dictionary, e.g., \"C.x\" is translated to\n",
      "   \"C.__dict__[\"x\"]\" (although there are a number of hooks which allow\n",
      "   for other means of locating attributes). When the attribute name is\n",
      "   not found there, the attribute search continues in the base\n",
      "   classes. This search of the base classes uses the C3 method\n",
      "   resolution order which behaves correctly even in the presence of\n",
      "   ‘diamond’ inheritance structures where there are multiple\n",
      "   inheritance paths leading back to a common ancestor. Additional\n",
      "   details on the C3 MRO used by Python can be found in the\n",
      "   documentation accompanying the 2.3 release at\n",
      "   https://www.python.org/download/releases/2.3/mro/.\n",
      "\n",
      "   When a class attribute reference (for class \"C\", say) would yield a\n",
      "   class method object, it is transformed into an instance method\n",
      "   object whose \"__self__\" attribute is \"C\".  When it would yield a\n",
      "   static method object, it is transformed into the object wrapped by\n",
      "   the static method object. See section Implementing Descriptors for\n",
      "   another way in which attributes retrieved from a class may differ\n",
      "   from those actually contained in its \"__dict__\".\n",
      "\n",
      "   Class attribute assignments update the class’s dictionary, never\n",
      "   the dictionary of a base class.\n",
      "\n",
      "   A class object can be called (see above) to yield a class instance\n",
      "   (see below).\n",
      "\n",
      "   Special attributes: \"__name__\" is the class name; \"__module__\" is\n",
      "   the module name in which the class was defined; \"__dict__\" is the\n",
      "   dictionary containing the class’s namespace; \"__bases__\" is a tuple\n",
      "   containing the base classes, in the order of their occurrence in\n",
      "   the base class list; \"__doc__\" is the class’s documentation string,\n",
      "   or \"None\" if undefined; \"__annotations__\" (optional) is a\n",
      "   dictionary containing *variable annotations* collected during class\n",
      "   body execution.\n",
      "\n",
      "Class instances\n",
      "   A class instance is created by calling a class object (see above).\n",
      "   A class instance has a namespace implemented as a dictionary which\n",
      "   is the first place in which attribute references are searched.\n",
      "   When an attribute is not found there, and the instance’s class has\n",
      "   an attribute by that name, the search continues with the class\n",
      "   attributes.  If a class attribute is found that is a user-defined\n",
      "   function object, it is transformed into an instance method object\n",
      "   whose \"__self__\" attribute is the instance.  Static method and\n",
      "   class method objects are also transformed; see above under\n",
      "   “Classes”.  See section Implementing Descriptors for another way in\n",
      "   which attributes of a class retrieved via its instances may differ\n",
      "   from the objects actually stored in the class’s \"__dict__\".  If no\n",
      "   class attribute is found, and the object’s class has a\n",
      "   \"__getattr__()\" method, that is called to satisfy the lookup.\n",
      "\n",
      "   Attribute assignments and deletions update the instance’s\n",
      "   dictionary, never a class’s dictionary.  If the class has a\n",
      "   \"__setattr__()\" or \"__delattr__()\" method, this is called instead\n",
      "   of updating the instance dictionary directly.\n",
      "\n",
      "   Class instances can pretend to be numbers, sequences, or mappings\n",
      "   if they have methods with certain special names.  See section\n",
      "   Special method names.\n",
      "\n",
      "   Special attributes: \"__dict__\" is the attribute dictionary;\n",
      "   \"__class__\" is the instance’s class.\n",
      "\n",
      "I/O objects (also known as file objects)\n",
      "   A *file object* represents an open file.  Various shortcuts are\n",
      "   available to create file objects: the \"open()\" built-in function,\n",
      "   and also \"os.popen()\", \"os.fdopen()\", and the \"makefile()\" method\n",
      "   of socket objects (and perhaps by other functions or methods\n",
      "   provided by extension modules).\n",
      "\n",
      "   The objects \"sys.stdin\", \"sys.stdout\" and \"sys.stderr\" are\n",
      "   initialized to file objects corresponding to the interpreter’s\n",
      "   standard input, output and error streams; they are all open in text\n",
      "   mode and therefore follow the interface defined by the\n",
      "   \"io.TextIOBase\" abstract class.\n",
      "\n",
      "Internal types\n",
      "   A few types used internally by the interpreter are exposed to the\n",
      "   user. Their definitions may change with future versions of the\n",
      "   interpreter, but they are mentioned here for completeness.\n",
      "\n",
      "   Code objects\n",
      "      Code objects represent *byte-compiled* executable Python code,\n",
      "      or *bytecode*. The difference between a code object and a\n",
      "      function object is that the function object contains an explicit\n",
      "      reference to the function’s globals (the module in which it was\n",
      "      defined), while a code object contains no context; also the\n",
      "      default argument values are stored in the function object, not\n",
      "      in the code object (because they represent values calculated at\n",
      "      run-time).  Unlike function objects, code objects are immutable\n",
      "      and contain no references (directly or indirectly) to mutable\n",
      "      objects.\n",
      "\n",
      "      Special read-only attributes: \"co_name\" gives the function name;\n",
      "      \"co_argcount\" is the total number of positional arguments\n",
      "      (including positional-only arguments and arguments with default\n",
      "      values); \"co_posonlyargcount\" is the number of positional-only\n",
      "      arguments (including arguments with default values);\n",
      "      \"co_kwonlyargcount\" is the number of keyword-only arguments\n",
      "      (including arguments with default values); \"co_nlocals\" is the\n",
      "      number of local variables used by the function (including\n",
      "      arguments); \"co_varnames\" is a tuple containing the names of the\n",
      "      local variables (starting with the argument names);\n",
      "      \"co_cellvars\" is a tuple containing the names of local variables\n",
      "      that are referenced by nested functions; \"co_freevars\" is a\n",
      "      tuple containing the names of free variables; \"co_code\" is a\n",
      "      string representing the sequence of bytecode instructions;\n",
      "      \"co_consts\" is a tuple containing the literals used by the\n",
      "      bytecode; \"co_names\" is a tuple containing the names used by the\n",
      "      bytecode; \"co_filename\" is the filename from which the code was\n",
      "      compiled; \"co_firstlineno\" is the first line number of the\n",
      "      function; \"co_lnotab\" is a string encoding the mapping from\n",
      "      bytecode offsets to line numbers (for details see the source\n",
      "      code of the interpreter); \"co_stacksize\" is the required stack\n",
      "      size; \"co_flags\" is an integer encoding a number of flags for\n",
      "      the interpreter.\n",
      "\n",
      "      The following flag bits are defined for \"co_flags\": bit \"0x04\"\n",
      "      is set if the function uses the \"*arguments\" syntax to accept an\n",
      "      arbitrary number of positional arguments; bit \"0x08\" is set if\n",
      "      the function uses the \"**keywords\" syntax to accept arbitrary\n",
      "      keyword arguments; bit \"0x20\" is set if the function is a\n",
      "      generator.\n",
      "\n",
      "      Future feature declarations (\"from __future__ import division\")\n",
      "      also use bits in \"co_flags\" to indicate whether a code object\n",
      "      was compiled with a particular feature enabled: bit \"0x2000\" is\n",
      "      set if the function was compiled with future division enabled;\n",
      "      bits \"0x10\" and \"0x1000\" were used in earlier versions of\n",
      "      Python.\n",
      "\n",
      "      Other bits in \"co_flags\" are reserved for internal use.\n",
      "\n",
      "      If a code object represents a function, the first item in\n",
      "      \"co_consts\" is the documentation string of the function, or\n",
      "      \"None\" if undefined.\n",
      "\n",
      "   Frame objects\n",
      "      Frame objects represent execution frames.  They may occur in\n",
      "      traceback objects (see below), and are also passed to registered\n",
      "      trace functions.\n",
      "\n",
      "      Special read-only attributes: \"f_back\" is to the previous stack\n",
      "      frame (towards the caller), or \"None\" if this is the bottom\n",
      "      stack frame; \"f_code\" is the code object being executed in this\n",
      "      frame; \"f_locals\" is the dictionary used to look up local\n",
      "      variables; \"f_globals\" is used for global variables;\n",
      "      \"f_builtins\" is used for built-in (intrinsic) names; \"f_lasti\"\n",
      "      gives the precise instruction (this is an index into the\n",
      "      bytecode string of the code object).\n",
      "\n",
      "      Special writable attributes: \"f_trace\", if not \"None\", is a\n",
      "      function called for various events during code execution (this\n",
      "      is used by the debugger). Normally an event is triggered for\n",
      "      each new source line - this can be disabled by setting\n",
      "      \"f_trace_lines\" to \"False\".\n",
      "\n",
      "      Implementations *may* allow per-opcode events to be requested by\n",
      "      setting \"f_trace_opcodes\" to \"True\". Note that this may lead to\n",
      "      undefined interpreter behaviour if exceptions raised by the\n",
      "      trace function escape to the function being traced.\n",
      "\n",
      "      \"f_lineno\" is the current line number of the frame — writing to\n",
      "      this from within a trace function jumps to the given line (only\n",
      "      for the bottom-most frame).  A debugger can implement a Jump\n",
      "      command (aka Set Next Statement) by writing to f_lineno.\n",
      "\n",
      "      Frame objects support one method:\n",
      "\n",
      "      frame.clear()\n",
      "\n",
      "         This method clears all references to local variables held by\n",
      "         the frame.  Also, if the frame belonged to a generator, the\n",
      "         generator is finalized.  This helps break reference cycles\n",
      "         involving frame objects (for example when catching an\n",
      "         exception and storing its traceback for later use).\n",
      "\n",
      "         \"RuntimeError\" is raised if the frame is currently executing.\n",
      "\n",
      "         New in version 3.4.\n",
      "\n",
      "   Traceback objects\n",
      "      Traceback objects represent a stack trace of an exception.  A\n",
      "      traceback object is implicitly created when an exception occurs,\n",
      "      and may also be explicitly created by calling\n",
      "      \"types.TracebackType\".\n",
      "\n",
      "      For implicitly created tracebacks, when the search for an\n",
      "      exception handler unwinds the execution stack, at each unwound\n",
      "      level a traceback object is inserted in front of the current\n",
      "      traceback.  When an exception handler is entered, the stack\n",
      "      trace is made available to the program. (See section The try\n",
      "      statement.) It is accessible as the third item of the tuple\n",
      "      returned by \"sys.exc_info()\", and as the \"__traceback__\"\n",
      "      attribute of the caught exception.\n",
      "\n",
      "      When the program contains no suitable handler, the stack trace\n",
      "      is written (nicely formatted) to the standard error stream; if\n",
      "      the interpreter is interactive, it is also made available to the\n",
      "      user as \"sys.last_traceback\".\n",
      "\n",
      "      For explicitly created tracebacks, it is up to the creator of\n",
      "      the traceback to determine how the \"tb_next\" attributes should\n",
      "      be linked to form a full stack trace.\n",
      "\n",
      "      Special read-only attributes: \"tb_frame\" points to the execution\n",
      "      frame of the current level; \"tb_lineno\" gives the line number\n",
      "      where the exception occurred; \"tb_lasti\" indicates the precise\n",
      "      instruction. The line number and last instruction in the\n",
      "      traceback may differ from the line number of its frame object if\n",
      "      the exception occurred in a \"try\" statement with no matching\n",
      "      except clause or with a finally clause.\n",
      "\n",
      "      Special writable attribute: \"tb_next\" is the next level in the\n",
      "      stack trace (towards the frame where the exception occurred), or\n",
      "      \"None\" if there is no next level.\n",
      "\n",
      "      Changed in version 3.7: Traceback objects can now be explicitly\n",
      "      instantiated from Python code, and the \"tb_next\" attribute of\n",
      "      existing instances can be updated.\n",
      "\n",
      "   Slice objects\n",
      "      Slice objects are used to represent slices for \"__getitem__()\"\n",
      "      methods.  They are also created by the built-in \"slice()\"\n",
      "      function.\n",
      "\n",
      "      Special read-only attributes: \"start\" is the lower bound; \"stop\"\n",
      "      is the upper bound; \"step\" is the step value; each is \"None\" if\n",
      "      omitted.  These attributes can have any type.\n",
      "\n",
      "      Slice objects support one method:\n",
      "\n",
      "      slice.indices(self, length)\n",
      "\n",
      "         This method takes a single integer argument *length* and\n",
      "         computes information about the slice that the slice object\n",
      "         would describe if applied to a sequence of *length* items.\n",
      "         It returns a tuple of three integers; respectively these are\n",
      "         the *start* and *stop* indices and the *step* or stride\n",
      "         length of the slice. Missing or out-of-bounds indices are\n",
      "         handled in a manner consistent with regular slices.\n",
      "\n",
      "   Static method objects\n",
      "      Static method objects provide a way of defeating the\n",
      "      transformation of function objects to method objects described\n",
      "      above. A static method object is a wrapper around any other\n",
      "      object, usually a user-defined method object. When a static\n",
      "      method object is retrieved from a class or a class instance, the\n",
      "      object actually returned is the wrapped object, which is not\n",
      "      subject to any further transformation. Static method objects are\n",
      "      not themselves callable, although the objects they wrap usually\n",
      "      are. Static method objects are created by the built-in\n",
      "      \"staticmethod()\" constructor.\n",
      "\n",
      "   Class method objects\n",
      "      A class method object, like a static method object, is a wrapper\n",
      "      around another object that alters the way in which that object\n",
      "      is retrieved from classes and class instances. The behaviour of\n",
      "      class method objects upon such retrieval is described above,\n",
      "      under “User-defined methods”. Class method objects are created\n",
      "      by the built-in \"classmethod()\" constructor.\n",
      "\n",
      "Related help topics: STRINGS, UNICODE, NUMBERS, SEQUENCES, MAPPINGS,\n",
      "FUNCTIONS, CLASSES, MODULES, FILES, inspect\n",
      "\n"
     ]
    }
   ],
   "source": [
    "help('TYPES')"
   ]
  },
  {
   "cell_type": "markdown",
   "metadata": {},
   "source": [
    "## Variables"
   ]
  },
  {
   "cell_type": "code",
   "execution_count": 17,
   "metadata": {},
   "outputs": [
    {
     "data": {
      "text/plain": [
       "(2, 3)"
      ]
     },
     "execution_count": 17,
     "metadata": {},
     "output_type": "execute_result"
    }
   ],
   "source": [
    "a = 2\n",
    "b = 3\n",
    "a, b"
   ]
  },
  {
   "cell_type": "code",
   "execution_count": 18,
   "metadata": {},
   "outputs": [
    {
     "data": {
      "text/plain": [
       "(3, 2)"
      ]
     },
     "execution_count": 18,
     "metadata": {},
     "output_type": "execute_result"
    }
   ],
   "source": [
    "b, a = a, b # aka, TUPLE UNPACKING\n",
    "a, b"
   ]
  },
  {
   "cell_type": "markdown",
   "metadata": {},
   "source": [
    "## Operators and operands\n",
    "\n",
    "Built-ins are described at https://docs.python.org/3/library/functions.html#built-in-funcs."
   ]
  },
  {
   "cell_type": "code",
   "execution_count": 9,
   "metadata": {},
   "outputs": [
    {
     "data": {
      "text/plain": [
       "1"
      ]
     },
     "execution_count": 9,
     "metadata": {},
     "output_type": "execute_result"
    }
   ],
   "source": [
    "int(1.1)"
   ]
  },
  {
   "cell_type": "code",
   "execution_count": 28,
   "metadata": {
    "scrolled": false
   },
   "outputs": [
    {
     "name": "stdout",
     "output_type": "stream",
     "text": [
      "Integer literals\n",
      "****************\n",
      "\n",
      "Integer literals are described by the following lexical definitions:\n",
      "\n",
      "   integer      ::= decinteger | bininteger | octinteger | hexinteger\n",
      "   decinteger   ::= nonzerodigit ([\"_\"] digit)* | \"0\"+ ([\"_\"] \"0\")*\n",
      "   bininteger   ::= \"0\" (\"b\" | \"B\") ([\"_\"] bindigit)+\n",
      "   octinteger   ::= \"0\" (\"o\" | \"O\") ([\"_\"] octdigit)+\n",
      "   hexinteger   ::= \"0\" (\"x\" | \"X\") ([\"_\"] hexdigit)+\n",
      "   nonzerodigit ::= \"1\"...\"9\"\n",
      "   digit        ::= \"0\"...\"9\"\n",
      "   bindigit     ::= \"0\" | \"1\"\n",
      "   octdigit     ::= \"0\"...\"7\"\n",
      "   hexdigit     ::= digit | \"a\"...\"f\" | \"A\"...\"F\"\n",
      "\n",
      "There is no limit for the length of integer literals apart from what\n",
      "can be stored in available memory.\n",
      "\n",
      "Underscores are ignored for determining the numeric value of the\n",
      "literal.  They can be used to group digits for enhanced readability.\n",
      "One underscore can occur between digits, and after base specifiers\n",
      "like \"0x\".\n",
      "\n",
      "Note that leading zeros in a non-zero decimal number are not allowed.\n",
      "This is for disambiguation with C-style octal literals, which Python\n",
      "used before version 3.0.\n",
      "\n",
      "Some examples of integer literals:\n",
      "\n",
      "   7     2147483647                        0o177    0b100110111\n",
      "   3     79228162514264337593543950336     0o377    0xdeadbeef\n",
      "         100_000_000_000                   0b_1110_0101\n",
      "\n",
      "Changed in version 3.6: Underscores are now allowed for grouping\n",
      "purposes in literals.\n",
      "\n",
      "Related help topics: int, range\n",
      "\n"
     ]
    }
   ],
   "source": [
    "help('INTEGER')"
   ]
  },
  {
   "cell_type": "code",
   "execution_count": 11,
   "metadata": {},
   "outputs": [
    {
     "data": {
      "text/plain": [
       "'bananabananabanana'"
      ]
     },
     "execution_count": 11,
     "metadata": {},
     "output_type": "execute_result"
    }
   ],
   "source": [
    "'banana' * 3"
   ]
  },
  {
   "cell_type": "code",
   "execution_count": 12,
   "metadata": {},
   "outputs": [
    {
     "data": {
      "text/plain": [
       "str"
      ]
     },
     "execution_count": 12,
     "metadata": {},
     "output_type": "execute_result"
    }
   ],
   "source": [
    "type(_)"
   ]
  },
  {
   "cell_type": "code",
   "execution_count": 19,
   "metadata": {
    "scrolled": false
   },
   "outputs": [
    {
     "name": "stdout",
     "output_type": "stream",
     "text": [
      "String and Bytes literals\n",
      "*************************\n",
      "\n",
      "String literals are described by the following lexical definitions:\n",
      "\n",
      "   stringliteral   ::= [stringprefix](shortstring | longstring)\n",
      "   stringprefix    ::= \"r\" | \"u\" | \"R\" | \"U\" | \"f\" | \"F\"\n",
      "                    | \"fr\" | \"Fr\" | \"fR\" | \"FR\" | \"rf\" | \"rF\" | \"Rf\" | \"RF\"\n",
      "   shortstring     ::= \"'\" shortstringitem* \"'\" | '\"' shortstringitem* '\"'\n",
      "   longstring      ::= \"'''\" longstringitem* \"'''\" | '\"\"\"' longstringitem* '\"\"\"'\n",
      "   shortstringitem ::= shortstringchar | stringescapeseq\n",
      "   longstringitem  ::= longstringchar | stringescapeseq\n",
      "   shortstringchar ::= <any source character except \"\\\" or newline or the quote>\n",
      "   longstringchar  ::= <any source character except \"\\\">\n",
      "   stringescapeseq ::= \"\\\" <any source character>\n",
      "\n",
      "   bytesliteral   ::= bytesprefix(shortbytes | longbytes)\n",
      "   bytesprefix    ::= \"b\" | \"B\" | \"br\" | \"Br\" | \"bR\" | \"BR\" | \"rb\" | \"rB\" | \"Rb\" | \"RB\"\n",
      "   shortbytes     ::= \"'\" shortbytesitem* \"'\" | '\"' shortbytesitem* '\"'\n",
      "   longbytes      ::= \"'''\" longbytesitem* \"'''\" | '\"\"\"' longbytesitem* '\"\"\"'\n",
      "   shortbytesitem ::= shortbyteschar | bytesescapeseq\n",
      "   longbytesitem  ::= longbyteschar | bytesescapeseq\n",
      "   shortbyteschar ::= <any ASCII character except \"\\\" or newline or the quote>\n",
      "   longbyteschar  ::= <any ASCII character except \"\\\">\n",
      "   bytesescapeseq ::= \"\\\" <any ASCII character>\n",
      "\n",
      "One syntactic restriction not indicated by these productions is that\n",
      "whitespace is not allowed between the \"stringprefix\" or \"bytesprefix\"\n",
      "and the rest of the literal. The source character set is defined by\n",
      "the encoding declaration; it is UTF-8 if no encoding declaration is\n",
      "given in the source file; see section Encoding declarations.\n",
      "\n",
      "In plain English: Both types of literals can be enclosed in matching\n",
      "single quotes (\"'\") or double quotes (\"\"\").  They can also be enclosed\n",
      "in matching groups of three single or double quotes (these are\n",
      "generally referred to as *triple-quoted strings*).  The backslash\n",
      "(\"\\\") character is used to escape characters that otherwise have a\n",
      "special meaning, such as newline, backslash itself, or the quote\n",
      "character.\n",
      "\n",
      "Bytes literals are always prefixed with \"'b'\" or \"'B'\"; they produce\n",
      "an instance of the \"bytes\" type instead of the \"str\" type.  They may\n",
      "only contain ASCII characters; bytes with a numeric value of 128 or\n",
      "greater must be expressed with escapes.\n",
      "\n",
      "Both string and bytes literals may optionally be prefixed with a\n",
      "letter \"'r'\" or \"'R'\"; such strings are called *raw strings* and treat\n",
      "backslashes as literal characters.  As a result, in string literals,\n",
      "\"'\\U'\" and \"'\\u'\" escapes in raw strings are not treated specially.\n",
      "Given that Python 2.x’s raw unicode literals behave differently than\n",
      "Python 3.x’s the \"'ur'\" syntax is not supported.\n",
      "\n",
      "New in version 3.3: The \"'rb'\" prefix of raw bytes literals has been\n",
      "added as a synonym of \"'br'\".\n",
      "\n",
      "New in version 3.3: Support for the unicode legacy literal\n",
      "(\"u'value'\") was reintroduced to simplify the maintenance of dual\n",
      "Python 2.x and 3.x codebases. See **PEP 414** for more information.\n",
      "\n",
      "A string literal with \"'f'\" or \"'F'\" in its prefix is a *formatted\n",
      "string literal*; see Formatted string literals.  The \"'f'\" may be\n",
      "combined with \"'r'\", but not with \"'b'\" or \"'u'\", therefore raw\n",
      "formatted strings are possible, but formatted bytes literals are not.\n",
      "\n",
      "In triple-quoted literals, unescaped newlines and quotes are allowed\n",
      "(and are retained), except that three unescaped quotes in a row\n",
      "terminate the literal.  (A “quote” is the character used to open the\n",
      "literal, i.e. either \"'\" or \"\"\".)\n",
      "\n",
      "Unless an \"'r'\" or \"'R'\" prefix is present, escape sequences in string\n",
      "and bytes literals are interpreted according to rules similar to those\n",
      "used by Standard C.  The recognized escape sequences are:\n",
      "\n",
      "+-------------------+-----------------------------------+---------+\n",
      "| Escape Sequence   | Meaning                           | Notes   |\n",
      "|===================|===================================|=========|\n",
      "| \"\\newline\"        | Backslash and newline ignored     |         |\n",
      "+-------------------+-----------------------------------+---------+\n",
      "| \"\\\\\"              | Backslash (\"\\\")                   |         |\n",
      "+-------------------+-----------------------------------+---------+\n",
      "| \"\\'\"              | Single quote (\"'\")                |         |\n",
      "+-------------------+-----------------------------------+---------+\n",
      "| \"\\\"\"              | Double quote (\"\"\")                |         |\n",
      "+-------------------+-----------------------------------+---------+\n",
      "| \"\\a\"              | ASCII Bell (BEL)                  |         |\n",
      "+-------------------+-----------------------------------+---------+\n",
      "| \"\\b\"              | ASCII Backspace (BS)              |         |\n",
      "+-------------------+-----------------------------------+---------+\n",
      "| \"\\f\"              | ASCII Formfeed (FF)               |         |\n",
      "+-------------------+-----------------------------------+---------+\n",
      "| \"\\n\"              | ASCII Linefeed (LF)               |         |\n",
      "+-------------------+-----------------------------------+---------+\n",
      "| \"\\r\"              | ASCII Carriage Return (CR)        |         |\n",
      "+-------------------+-----------------------------------+---------+\n",
      "| \"\\t\"              | ASCII Horizontal Tab (TAB)        |         |\n",
      "+-------------------+-----------------------------------+---------+\n",
      "| \"\\v\"              | ASCII Vertical Tab (VT)           |         |\n",
      "+-------------------+-----------------------------------+---------+\n",
      "| \"\\ooo\"            | Character with octal value *ooo*  | (1,3)   |\n",
      "+-------------------+-----------------------------------+---------+\n",
      "| \"\\xhh\"            | Character with hex value *hh*     | (2,3)   |\n",
      "+-------------------+-----------------------------------+---------+\n",
      "\n",
      "Escape sequences only recognized in string literals are:\n",
      "\n",
      "+-------------------+-----------------------------------+---------+\n",
      "| Escape Sequence   | Meaning                           | Notes   |\n",
      "|===================|===================================|=========|\n",
      "| \"\\N{name}\"        | Character named *name* in the     | (4)     |\n",
      "|                   | Unicode database                  |         |\n",
      "+-------------------+-----------------------------------+---------+\n",
      "| \"\\uxxxx\"          | Character with 16-bit hex value   | (5)     |\n",
      "|                   | *xxxx*                            |         |\n",
      "+-------------------+-----------------------------------+---------+\n",
      "| \"\\Uxxxxxxxx\"      | Character with 32-bit hex value   | (6)     |\n",
      "|                   | *xxxxxxxx*                        |         |\n",
      "+-------------------+-----------------------------------+---------+\n",
      "\n",
      "Notes:\n",
      "\n",
      "1. As in Standard C, up to three octal digits are accepted.\n",
      "\n",
      "2. Unlike in Standard C, exactly two hex digits are required.\n",
      "\n",
      "3. In a bytes literal, hexadecimal and octal escapes denote the byte\n",
      "   with the given value. In a string literal, these escapes denote a\n",
      "   Unicode character with the given value.\n",
      "\n",
      "4. Changed in version 3.3: Support for name aliases [1] has been\n",
      "   added.\n",
      "\n",
      "5. Exactly four hex digits are required.\n",
      "\n",
      "6. Any Unicode character can be encoded this way.  Exactly eight hex\n",
      "   digits are required.\n",
      "\n",
      "Unlike Standard C, all unrecognized escape sequences are left in the\n",
      "string unchanged, i.e., *the backslash is left in the result*.  (This\n",
      "behavior is useful when debugging: if an escape sequence is mistyped,\n",
      "the resulting output is more easily recognized as broken.)  It is also\n",
      "important to note that the escape sequences only recognized in string\n",
      "literals fall into the category of unrecognized escapes for bytes\n",
      "literals.\n",
      "\n",
      "   Changed in version 3.6: Unrecognized escape sequences produce a\n",
      "   \"DeprecationWarning\".  In a future Python version they will be a\n",
      "   \"SyntaxWarning\" and eventually a \"SyntaxError\".\n",
      "\n",
      "Even in a raw literal, quotes can be escaped with a backslash, but the\n",
      "backslash remains in the result; for example, \"r\"\\\"\"\" is a valid\n",
      "string literal consisting of two characters: a backslash and a double\n",
      "quote; \"r\"\\\"\" is not a valid string literal (even a raw string cannot\n",
      "end in an odd number of backslashes).  Specifically, *a raw literal\n",
      "cannot end in a single backslash* (since the backslash would escape\n",
      "the following quote character).  Note also that a single backslash\n",
      "followed by a newline is interpreted as those two characters as part\n",
      "of the literal, *not* as a line continuation.\n",
      "\n",
      "Related help topics: str, UNICODE, SEQUENCES, STRINGMETHODS, FORMATTING,\n",
      "TYPES\n",
      "\n"
     ]
    }
   ],
   "source": [
    "help('STRINGS')"
   ]
  },
  {
   "cell_type": "code",
   "execution_count": 14,
   "metadata": {},
   "outputs": [
    {
     "data": {
      "text/plain": [
       "'avorp'"
      ]
     },
     "execution_count": 14,
     "metadata": {},
     "output_type": "execute_result"
    }
   ],
   "source": [
    "''.join(reversed('prova')) # `string`s are collections too"
   ]
  },
  {
   "cell_type": "code",
   "execution_count": 45,
   "metadata": {},
   "outputs": [
    {
     "data": {
      "text/plain": [
       "'1 < 2 is actually true.'"
      ]
     },
     "execution_count": 45,
     "metadata": {},
     "output_type": "execute_result"
    }
   ],
   "source": [
    "a = 1; b = 2\n",
    "'{} < {} is actually true.'.format(a, b)"
   ]
  },
  {
   "cell_type": "code",
   "execution_count": 44,
   "metadata": {},
   "outputs": [
    {
     "data": {
      "text/plain": [
       "'1 < 2 is actually true.'"
      ]
     },
     "execution_count": 44,
     "metadata": {},
     "output_type": "execute_result"
    }
   ],
   "source": [
    "f'{a} < {b} is actually true.'"
   ]
  },
  {
   "cell_type": "code",
   "execution_count": 16,
   "metadata": {},
   "outputs": [
    {
     "data": {
      "text/plain": [
       "\"12h 12' 23''\""
      ]
     },
     "execution_count": 16,
     "metadata": {},
     "output_type": "execute_result"
    }
   ],
   "source": [
    "total_secs = 43943\n",
    "hours = total_secs // 3600\n",
    "secs_still_remaining = total_secs % 3600\n",
    "minutes =  secs_still_remaining // 60\n",
    "secs_finally_remaining = secs_still_remaining  % 60\n",
    "\n",
    "\"{}h {}' {}''\".format(hours, minutes, secs_finally_remaining)"
   ]
  },
  {
   "cell_type": "markdown",
   "metadata": {},
   "source": [
    "operators are described here https://docs.python.org/3/library/operator.html?highlight=operator."
   ]
  },
  {
   "cell_type": "code",
   "execution_count": 18,
   "metadata": {
    "scrolled": false
   },
   "outputs": [
    {
     "name": "stdout",
     "output_type": "stream",
     "text": [
      "Operator precedence\n",
      "*******************\n",
      "\n",
      "The following table summarizes the operator precedence in Python, from\n",
      "lowest precedence (least binding) to highest precedence (most\n",
      "binding).  Operators in the same box have the same precedence.  Unless\n",
      "the syntax is explicitly given, operators are binary.  Operators in\n",
      "the same box group left to right (except for exponentiation, which\n",
      "groups from right to left).\n",
      "\n",
      "Note that comparisons, membership tests, and identity tests, all have\n",
      "the same precedence and have a left-to-right chaining feature as\n",
      "described in the Comparisons section.\n",
      "\n",
      "+-------------------------------------------------+---------------------------------------+\n",
      "| Operator                                        | Description                           |\n",
      "|=================================================|=======================================|\n",
      "| \":=\"                                            | Assignment expression                 |\n",
      "+-------------------------------------------------+---------------------------------------+\n",
      "| \"lambda\"                                        | Lambda expression                     |\n",
      "+-------------------------------------------------+---------------------------------------+\n",
      "| \"if\" – \"else\"                                   | Conditional expression                |\n",
      "+-------------------------------------------------+---------------------------------------+\n",
      "| \"or\"                                            | Boolean OR                            |\n",
      "+-------------------------------------------------+---------------------------------------+\n",
      "| \"and\"                                           | Boolean AND                           |\n",
      "+-------------------------------------------------+---------------------------------------+\n",
      "| \"not\" \"x\"                                       | Boolean NOT                           |\n",
      "+-------------------------------------------------+---------------------------------------+\n",
      "| \"in\", \"not in\", \"is\", \"is not\", \"<\", \"<=\", \">\", | Comparisons, including membership     |\n",
      "| \">=\", \"!=\", \"==\"                                | tests and identity tests              |\n",
      "+-------------------------------------------------+---------------------------------------+\n",
      "| \"|\"                                             | Bitwise OR                            |\n",
      "+-------------------------------------------------+---------------------------------------+\n",
      "| \"^\"                                             | Bitwise XOR                           |\n",
      "+-------------------------------------------------+---------------------------------------+\n",
      "| \"&\"                                             | Bitwise AND                           |\n",
      "+-------------------------------------------------+---------------------------------------+\n",
      "| \"<<\", \">>\"                                      | Shifts                                |\n",
      "+-------------------------------------------------+---------------------------------------+\n",
      "| \"+\", \"-\"                                        | Addition and subtraction              |\n",
      "+-------------------------------------------------+---------------------------------------+\n",
      "| \"*\", \"@\", \"/\", \"//\", \"%\"                        | Multiplication, matrix                |\n",
      "|                                                 | multiplication, division, floor       |\n",
      "|                                                 | division, remainder [5]               |\n",
      "+-------------------------------------------------+---------------------------------------+\n",
      "| \"+x\", \"-x\", \"~x\"                                | Positive, negative, bitwise NOT       |\n",
      "+-------------------------------------------------+---------------------------------------+\n",
      "| \"**\"                                            | Exponentiation [6]                    |\n",
      "+-------------------------------------------------+---------------------------------------+\n",
      "| \"await\" \"x\"                                     | Await expression                      |\n",
      "+-------------------------------------------------+---------------------------------------+\n",
      "| \"x[index]\", \"x[index:index]\",                   | Subscription, slicing, call,          |\n",
      "| \"x(arguments...)\", \"x.attribute\"                | attribute reference                   |\n",
      "+-------------------------------------------------+---------------------------------------+\n",
      "| \"(expressions...)\",  \"[expressions...]\", \"{key: | Binding or parenthesized expression,  |\n",
      "| value...}\", \"{expressions...}\"                  | list display, dictionary display, set |\n",
      "|                                                 | display                               |\n",
      "+-------------------------------------------------+---------------------------------------+\n",
      "\n",
      "-[ Footnotes ]-\n",
      "\n",
      "[1] While \"abs(x%y) < abs(y)\" is true mathematically, for floats it\n",
      "    may not be true numerically due to roundoff.  For example, and\n",
      "    assuming a platform on which a Python float is an IEEE 754 double-\n",
      "    precision number, in order that \"-1e-100 % 1e100\" have the same\n",
      "    sign as \"1e100\", the computed result is \"-1e-100 + 1e100\", which\n",
      "    is numerically exactly equal to \"1e100\".  The function\n",
      "    \"math.fmod()\" returns a result whose sign matches the sign of the\n",
      "    first argument instead, and so returns \"-1e-100\" in this case.\n",
      "    Which approach is more appropriate depends on the application.\n",
      "\n",
      "[2] If x is very close to an exact integer multiple of y, it’s\n",
      "    possible for \"x//y\" to be one larger than \"(x-x%y)//y\" due to\n",
      "    rounding.  In such cases, Python returns the latter result, in\n",
      "    order to preserve that \"divmod(x,y)[0] * y + x % y\" be very close\n",
      "    to \"x\".\n",
      "\n",
      "[3] The Unicode standard distinguishes between *code points* (e.g.\n",
      "    U+0041) and *abstract characters* (e.g. “LATIN CAPITAL LETTER A”).\n",
      "    While most abstract characters in Unicode are only represented\n",
      "    using one code point, there is a number of abstract characters\n",
      "    that can in addition be represented using a sequence of more than\n",
      "    one code point.  For example, the abstract character “LATIN\n",
      "    CAPITAL LETTER C WITH CEDILLA” can be represented as a single\n",
      "    *precomposed character* at code position U+00C7, or as a sequence\n",
      "    of a *base character* at code position U+0043 (LATIN CAPITAL\n",
      "    LETTER C), followed by a *combining character* at code position\n",
      "    U+0327 (COMBINING CEDILLA).\n",
      "\n",
      "    The comparison operators on strings compare at the level of\n",
      "    Unicode code points. This may be counter-intuitive to humans.  For\n",
      "    example, \"\"\\u00C7\" == \"\\u0043\\u0327\"\" is \"False\", even though both\n",
      "    strings represent the same abstract character “LATIN CAPITAL\n",
      "    LETTER C WITH CEDILLA”.\n",
      "\n",
      "    To compare strings at the level of abstract characters (that is,\n",
      "    in a way intuitive to humans), use \"unicodedata.normalize()\".\n",
      "\n",
      "[4] Due to automatic garbage-collection, free lists, and the dynamic\n",
      "    nature of descriptors, you may notice seemingly unusual behaviour\n",
      "    in certain uses of the \"is\" operator, like those involving\n",
      "    comparisons between instance methods, or constants.  Check their\n",
      "    documentation for more info.\n",
      "\n",
      "[5] The \"%\" operator is also used for string formatting; the same\n",
      "    precedence applies.\n",
      "\n",
      "[6] The power operator \"**\" binds less tightly than an arithmetic or\n",
      "    bitwise unary operator on its right, that is, \"2**-1\" is \"0.5\".\n",
      "\n",
      "Related help topics: lambda, or, and, not, in, is, BOOLEAN, COMPARISON,\n",
      "BITWISE, SHIFTING, BINARY, FORMATTING, POWER, UNARY, ATTRIBUTES,\n",
      "SUBSCRIPTS, SLICINGS, CALLS, TUPLES, LISTS, DICTIONARIES\n",
      "\n"
     ]
    }
   ],
   "source": [
    "help('OPERATORS')"
   ]
  },
  {
   "cell_type": "markdown",
   "metadata": {},
   "source": [
    "## `Slice`s"
   ]
  },
  {
   "cell_type": "code",
   "execution_count": 42,
   "metadata": {},
   "outputs": [
    {
     "data": {
      "text/plain": [
       "(5, 11)"
      ]
     },
     "execution_count": 42,
     "metadata": {},
     "output_type": "execute_result"
    }
   ],
   "source": [
    "s = slice(5, 11)\n",
    "s.start, s.stop"
   ]
  },
  {
   "cell_type": "code",
   "execution_count": 21,
   "metadata": {},
   "outputs": [
    {
     "name": "stdout",
     "output_type": "stream",
     "text": [
      "Slicings\n",
      "********\n",
      "\n",
      "A slicing selects a range of items in a sequence object (e.g., a\n",
      "string, tuple or list).  Slicings may be used as expressions or as\n",
      "targets in assignment or \"del\" statements.  The syntax for a slicing:\n",
      "\n",
      "   slicing      ::= primary \"[\" slice_list \"]\"\n",
      "   slice_list   ::= slice_item (\",\" slice_item)* [\",\"]\n",
      "   slice_item   ::= expression | proper_slice\n",
      "   proper_slice ::= [lower_bound] \":\" [upper_bound] [ \":\" [stride] ]\n",
      "   lower_bound  ::= expression\n",
      "   upper_bound  ::= expression\n",
      "   stride       ::= expression\n",
      "\n",
      "There is ambiguity in the formal syntax here: anything that looks like\n",
      "an expression list also looks like a slice list, so any subscription\n",
      "can be interpreted as a slicing.  Rather than further complicating the\n",
      "syntax, this is disambiguated by defining that in this case the\n",
      "interpretation as a subscription takes priority over the\n",
      "interpretation as a slicing (this is the case if the slice list\n",
      "contains no proper slice).\n",
      "\n",
      "The semantics for a slicing are as follows.  The primary is indexed\n",
      "(using the same \"__getitem__()\" method as normal subscription) with a\n",
      "key that is constructed from the slice list, as follows.  If the slice\n",
      "list contains at least one comma, the key is a tuple containing the\n",
      "conversion of the slice items; otherwise, the conversion of the lone\n",
      "slice item is the key.  The conversion of a slice item that is an\n",
      "expression is that expression.  The conversion of a proper slice is a\n",
      "slice object (see section The standard type hierarchy) whose \"start\",\n",
      "\"stop\" and \"step\" attributes are the values of the expressions given\n",
      "as lower bound, upper bound and stride, respectively, substituting\n",
      "\"None\" for missing expressions.\n",
      "\n",
      "Related help topics: SEQUENCEMETHODS\n",
      "\n"
     ]
    }
   ],
   "source": [
    "help('SLICINGS')"
   ]
  },
  {
   "cell_type": "markdown",
   "metadata": {},
   "source": [
    "## `range`s"
   ]
  },
  {
   "cell_type": "code",
   "execution_count": 114,
   "metadata": {},
   "outputs": [
    {
     "data": {
      "text/plain": [
       "range(2, 20)"
      ]
     },
     "execution_count": 114,
     "metadata": {},
     "output_type": "execute_result"
    }
   ],
   "source": [
    "range(2, 20)"
   ]
  },
  {
   "cell_type": "code",
   "execution_count": 27,
   "metadata": {
    "scrolled": false
   },
   "outputs": [
    {
     "name": "stdout",
     "output_type": "stream",
     "text": [
      "Help on class range in module builtins:\n",
      "\n",
      "class range(object)\n",
      " |  range(stop) -> range object\n",
      " |  range(start, stop[, step]) -> range object\n",
      " |  \n",
      " |  Return an object that produces a sequence of integers from start (inclusive)\n",
      " |  to stop (exclusive) by step.  range(i, j) produces i, i+1, i+2, ..., j-1.\n",
      " |  start defaults to 0, and stop is omitted!  range(4) produces 0, 1, 2, 3.\n",
      " |  These are exactly the valid indices for a list of 4 elements.\n",
      " |  When step is given, it specifies the increment (or decrement).\n",
      " |  \n",
      " |  Methods defined here:\n",
      " |  \n",
      " |  __bool__(self, /)\n",
      " |      self != 0\n",
      " |  \n",
      " |  __contains__(self, key, /)\n",
      " |      Return key in self.\n",
      " |  \n",
      " |  __eq__(self, value, /)\n",
      " |      Return self==value.\n",
      " |  \n",
      " |  __ge__(self, value, /)\n",
      " |      Return self>=value.\n",
      " |  \n",
      " |  __getattribute__(self, name, /)\n",
      " |      Return getattr(self, name).\n",
      " |  \n",
      " |  __getitem__(self, key, /)\n",
      " |      Return self[key].\n",
      " |  \n",
      " |  __gt__(self, value, /)\n",
      " |      Return self>value.\n",
      " |  \n",
      " |  __hash__(self, /)\n",
      " |      Return hash(self).\n",
      " |  \n",
      " |  __iter__(self, /)\n",
      " |      Implement iter(self).\n",
      " |  \n",
      " |  __le__(self, value, /)\n",
      " |      Return self<=value.\n",
      " |  \n",
      " |  __len__(self, /)\n",
      " |      Return len(self).\n",
      " |  \n",
      " |  __lt__(self, value, /)\n",
      " |      Return self<value.\n",
      " |  \n",
      " |  __ne__(self, value, /)\n",
      " |      Return self!=value.\n",
      " |  \n",
      " |  __reduce__(...)\n",
      " |      Helper for pickle.\n",
      " |  \n",
      " |  __repr__(self, /)\n",
      " |      Return repr(self).\n",
      " |  \n",
      " |  __reversed__(...)\n",
      " |      Return a reverse iterator.\n",
      " |  \n",
      " |  count(...)\n",
      " |      rangeobject.count(value) -> integer -- return number of occurrences of value\n",
      " |  \n",
      " |  index(...)\n",
      " |      rangeobject.index(value) -> integer -- return index of value.\n",
      " |      Raise ValueError if the value is not present.\n",
      " |  \n",
      " |  ----------------------------------------------------------------------\n",
      " |  Static methods defined here:\n",
      " |  \n",
      " |  __new__(*args, **kwargs) from builtins.type\n",
      " |      Create and return a new object.  See help(type) for accurate signature.\n",
      " |  \n",
      " |  ----------------------------------------------------------------------\n",
      " |  Data descriptors defined here:\n",
      " |  \n",
      " |  start\n",
      " |  \n",
      " |  step\n",
      " |  \n",
      " |  stop\n",
      "\n"
     ]
    }
   ],
   "source": [
    "help(range)"
   ]
  },
  {
   "cell_type": "markdown",
   "metadata": {},
   "source": [
    "## `lambda`s"
   ]
  },
  {
   "cell_type": "code",
   "execution_count": 66,
   "metadata": {},
   "outputs": [],
   "source": [
    "def add(a, b):\n",
    "    return a + b"
   ]
  },
  {
   "cell_type": "code",
   "execution_count": 120,
   "metadata": {},
   "outputs": [
    {
     "name": "stdout",
     "output_type": "stream",
     "text": [
      "Functions\n",
      "*********\n",
      "\n",
      "Function objects are created by function definitions.  The only\n",
      "operation on a function object is to call it: \"func(argument-list)\".\n",
      "\n",
      "There are really two flavors of function objects: built-in functions\n",
      "and user-defined functions.  Both support the same operation (to call\n",
      "the function), but the implementation is different, hence the\n",
      "different object types.\n",
      "\n",
      "See Function definitions for more information.\n",
      "\n",
      "Related help topics: def, TYPES\n",
      "\n"
     ]
    }
   ],
   "source": [
    "help('FUNCTIONS')"
   ]
  },
  {
   "cell_type": "code",
   "execution_count": 67,
   "metadata": {},
   "outputs": [],
   "source": [
    "add_l = lambda a, b: a + b"
   ]
  },
  {
   "cell_type": "code",
   "execution_count": 118,
   "metadata": {},
   "outputs": [
    {
     "name": "stdout",
     "output_type": "stream",
     "text": [
      "Lambdas\n",
      "*******\n",
      "\n",
      "   lambda_expr        ::= \"lambda\" [parameter_list] \":\" expression\n",
      "   lambda_expr_nocond ::= \"lambda\" [parameter_list] \":\" expression_nocond\n",
      "\n",
      "Lambda expressions (sometimes called lambda forms) are used to create\n",
      "anonymous functions. The expression \"lambda parameters: expression\"\n",
      "yields a function object.  The unnamed object behaves like a function\n",
      "object defined with:\n",
      "\n",
      "   def <lambda>(parameters):\n",
      "       return expression\n",
      "\n",
      "See section Function definitions for the syntax of parameter lists.\n",
      "Note that functions created with lambda expressions cannot contain\n",
      "statements or annotations.\n",
      "\n",
      "Related help topics: FUNCTIONS\n",
      "\n"
     ]
    }
   ],
   "source": [
    "help('lambda')"
   ]
  },
  {
   "cell_type": "code",
   "execution_count": 83,
   "metadata": {},
   "outputs": [],
   "source": [
    "assert add(1, 2) == add_l(1, 2)"
   ]
  },
  {
   "cell_type": "markdown",
   "metadata": {},
   "source": [
    "## `yield`s"
   ]
  },
  {
   "cell_type": "code",
   "execution_count": 57,
   "metadata": {},
   "outputs": [
    {
     "data": {
      "text/plain": [
       "<map at 0x7f32ed59dd30>"
      ]
     },
     "execution_count": 57,
     "metadata": {},
     "output_type": "execute_result"
    }
   ],
   "source": [
    "L = range(5)\n",
    "M = map(lambda i: i + 1, L)\n",
    "M"
   ]
  },
  {
   "cell_type": "code",
   "execution_count": 58,
   "metadata": {},
   "outputs": [
    {
     "data": {
      "text/plain": [
       "1"
      ]
     },
     "execution_count": 58,
     "metadata": {},
     "output_type": "execute_result"
    }
   ],
   "source": [
    "next(M)"
   ]
  },
  {
   "cell_type": "code",
   "execution_count": 59,
   "metadata": {},
   "outputs": [
    {
     "name": "stdout",
     "output_type": "stream",
     "text": [
      "Help on built-in function next in module builtins:\n",
      "\n",
      "next(...)\n",
      "    next(iterator[, default])\n",
      "    \n",
      "    Return the next item from the iterator. If default is given and the iterator\n",
      "    is exhausted, it is returned instead of raising StopIteration.\n",
      "\n"
     ]
    }
   ],
   "source": [
    "help(next)"
   ]
  },
  {
   "cell_type": "code",
   "execution_count": 60,
   "metadata": {},
   "outputs": [
    {
     "data": {
      "text/plain": [
       "2"
      ]
     },
     "execution_count": 60,
     "metadata": {},
     "output_type": "execute_result"
    }
   ],
   "source": [
    "next(M)"
   ]
  },
  {
   "cell_type": "code",
   "execution_count": 61,
   "metadata": {},
   "outputs": [
    {
     "data": {
      "text/plain": [
       "3"
      ]
     },
     "execution_count": 61,
     "metadata": {},
     "output_type": "execute_result"
    }
   ],
   "source": [
    "next(M)"
   ]
  },
  {
   "cell_type": "code",
   "execution_count": 62,
   "metadata": {},
   "outputs": [
    {
     "data": {
      "text/plain": [
       "4"
      ]
     },
     "execution_count": 62,
     "metadata": {},
     "output_type": "execute_result"
    }
   ],
   "source": [
    "next(M)"
   ]
  },
  {
   "cell_type": "code",
   "execution_count": 63,
   "metadata": {},
   "outputs": [
    {
     "data": {
      "text/plain": [
       "5"
      ]
     },
     "execution_count": 63,
     "metadata": {},
     "output_type": "execute_result"
    }
   ],
   "source": [
    "next(M)"
   ]
  },
  {
   "cell_type": "code",
   "execution_count": 64,
   "metadata": {},
   "outputs": [
    {
     "ename": "StopIteration",
     "evalue": "",
     "output_type": "error",
     "traceback": [
      "\u001b[0;31m---------------------------------------------------------------------------\u001b[0m",
      "\u001b[0;31mStopIteration\u001b[0m                             Traceback (most recent call last)",
      "\u001b[0;32m<ipython-input-64-0666361e9047>\u001b[0m in \u001b[0;36m<module>\u001b[0;34m\u001b[0m\n\u001b[0;32m----> 1\u001b[0;31m \u001b[0mnext\u001b[0m\u001b[0;34m(\u001b[0m\u001b[0mM\u001b[0m\u001b[0;34m)\u001b[0m\u001b[0;34m\u001b[0m\u001b[0;34m\u001b[0m\u001b[0m\n\u001b[0m",
      "\u001b[0;31mStopIteration\u001b[0m: "
     ]
    }
   ],
   "source": [
    "next(M)"
   ]
  },
  {
   "cell_type": "code",
   "execution_count": 75,
   "metadata": {},
   "outputs": [
    {
     "data": {
      "text/plain": [
       "<generator object <genexpr> at 0x7f32ee175740>"
      ]
     },
     "execution_count": 75,
     "metadata": {},
     "output_type": "execute_result"
    }
   ],
   "source": [
    "N = (i for i in range(1, 10))\n",
    "N"
   ]
  },
  {
   "cell_type": "code",
   "execution_count": 76,
   "metadata": {},
   "outputs": [],
   "source": [
    "def saturate(g, L=[]):\n",
    "    while True:\n",
    "        try:\n",
    "            L.append(next(g))\n",
    "        except StopIteration:\n",
    "            break\n",
    "    return L"
   ]
  },
  {
   "cell_type": "code",
   "execution_count": 77,
   "metadata": {},
   "outputs": [
    {
     "data": {
      "text/plain": [
       "[0, 1, 2, 3, 4, 5, 6, 7, 8, 9]"
      ]
     },
     "execution_count": 77,
     "metadata": {},
     "output_type": "execute_result"
    }
   ],
   "source": [
    "saturate(N, [0])"
   ]
  },
  {
   "cell_type": "markdown",
   "metadata": {},
   "source": [
    "## Help about `help`"
   ]
  },
  {
   "cell_type": "code",
   "execution_count": 14,
   "metadata": {},
   "outputs": [
    {
     "name": "stdout",
     "output_type": "stream",
     "text": [
      "\n",
      "Welcome to Python 3.9's help utility!\n",
      "\n",
      "If this is your first time using Python, you should definitely check out\n",
      "the tutorial on the Internet at https://docs.python.org/3.9/tutorial/.\n",
      "\n",
      "Enter the name of any module, keyword, or topic to get help on writing\n",
      "Python programs and using Python modules.  To quit this help utility and\n",
      "return to the interpreter, just type \"quit\".\n",
      "\n",
      "To get a list of available modules, keywords, symbols, or topics, type\n",
      "\"modules\", \"keywords\", \"symbols\", or \"topics\".  Each module also comes\n",
      "with a one-line summary of what it does; to list the modules whose name\n",
      "or summary contain a given string such as \"spam\", type \"modules spam\".\n",
      "\n",
      "help> topics\n",
      "\n",
      "Here is a list of available topics.  Enter any topic name to get more help.\n",
      "\n",
      "ASSERTION           DELETION            LOOPING             SHIFTING\n",
      "ASSIGNMENT          DICTIONARIES        MAPPINGMETHODS      SLICINGS\n",
      "ATTRIBUTEMETHODS    DICTIONARYLITERALS  MAPPINGS            SPECIALATTRIBUTES\n",
      "ATTRIBUTES          DYNAMICFEATURES     METHODS             SPECIALIDENTIFIERS\n",
      "AUGMENTEDASSIGNMENT ELLIPSIS            MODULES             SPECIALMETHODS\n",
      "BASICMETHODS        EXCEPTIONS          NAMESPACES          STRINGMETHODS\n",
      "BINARY              EXECUTION           NONE                STRINGS\n",
      "BITWISE             EXPRESSIONS         NUMBERMETHODS       SUBSCRIPTS\n",
      "BOOLEAN             FLOAT               NUMBERS             TRACEBACKS\n",
      "CALLABLEMETHODS     FORMATTING          OBJECTS             TRUTHVALUE\n",
      "CALLS               FRAMEOBJECTS        OPERATORS           TUPLELITERALS\n",
      "CLASSES             FRAMES              PACKAGES            TUPLES\n",
      "CODEOBJECTS         FUNCTIONS           POWER               TYPEOBJECTS\n",
      "COMPARISON          IDENTIFIERS         PRECEDENCE          TYPES\n",
      "COMPLEX             IMPORTING           PRIVATENAMES        UNARY\n",
      "CONDITIONAL         INTEGER             RETURNING           UNICODE\n",
      "CONTEXTMANAGERS     LISTLITERALS        SCOPING             \n",
      "CONVERSIONS         LISTS               SEQUENCEMETHODS     \n",
      "DEBUGGING           LITERALS            SEQUENCES           \n",
      "\n",
      "help> POWER\n",
      "The power operator\n",
      "******************\n",
      "\n",
      "The power operator binds more tightly than unary operators on its\n",
      "left; it binds less tightly than unary operators on its right.  The\n",
      "syntax is:\n",
      "\n",
      "   power ::= (await_expr | primary) [\"**\" u_expr]\n",
      "\n",
      "Thus, in an unparenthesized sequence of power and unary operators, the\n",
      "operators are evaluated from right to left (this does not constrain\n",
      "the evaluation order for the operands): \"-1**2\" results in \"-1\".\n",
      "\n",
      "The power operator has the same semantics as the built-in \"pow()\"\n",
      "function, when called with two arguments: it yields its left argument\n",
      "raised to the power of its right argument.  The numeric arguments are\n",
      "first converted to a common type, and the result is of that type.\n",
      "\n",
      "For int operands, the result has the same type as the operands unless\n",
      "the second argument is negative; in that case, all arguments are\n",
      "converted to float and a float result is delivered. For example,\n",
      "\"10**2\" returns \"100\", but \"10**-2\" returns \"0.01\".\n",
      "\n",
      "Raising \"0.0\" to a negative power results in a \"ZeroDivisionError\".\n",
      "Raising a negative number to a fractional power results in a \"complex\"\n",
      "number. (In earlier versions it raised a \"ValueError\".)\n",
      "\n",
      "Related help topics: EXPRESSIONS\n",
      "\n",
      "\n",
      "You are now leaving help and returning to the Python interpreter.\n",
      "If you want to ask for help on a particular object directly from the\n",
      "interpreter, you can type \"help(object)\".  Executing \"help('string')\"\n",
      "has the same effect as typing a particular string at the help> prompt.\n"
     ]
    }
   ],
   "source": [
    "help()"
   ]
  }
 ],
 "metadata": {
  "kernelspec": {
   "display_name": "Python 3",
   "language": "python",
   "name": "python3"
  },
  "language_info": {
   "codemirror_mode": {
    "name": "ipython",
    "version": 3
   },
   "file_extension": ".py",
   "mimetype": "text/x-python",
   "name": "python",
   "nbconvert_exporter": "python",
   "pygments_lexer": "ipython3",
   "version": "3.8.8"
  }
 },
 "nbformat": 4,
 "nbformat_minor": 4
}
