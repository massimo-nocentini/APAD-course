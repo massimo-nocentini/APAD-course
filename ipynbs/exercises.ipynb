{
 "cells": [
  {
   "cell_type": "markdown",
   "metadata": {},
   "source": [
    "# Exercises\n",
    "\n",
    "This chapter is an intermezzo that allows us to check and have a deeper understanding of the concepts seen so far by means of exercises. We will see how the code shown can be rewritten to take advantage of battle-tested solutions and idioms that emerges from daily practice.\n",
    "\n",
    "First of all, we import some modules (be free to skim the corresponding documentation for each one of them),"
   ]
  },
  {
   "cell_type": "code",
   "execution_count": 1,
   "metadata": {},
   "outputs": [],
   "source": [
    "import functools, operator, math, itertools, random, collections, statistics, bisect"
   ]
  },
  {
   "cell_type": "markdown",
   "metadata": {},
   "source": [
    "that contains useful definitions for the code that we are going to write. Moreover, an utility for generators,"
   ]
  },
  {
   "cell_type": "code",
   "execution_count": 2,
   "metadata": {},
   "outputs": [],
   "source": [
    "def take(iterable, n):\n",
    "    yield from map(lambda p: p[1], zip(range(n), iterable))"
   ]
  },
  {
   "cell_type": "markdown",
   "metadata": {},
   "source": [
    "that consumes an iterable and return a generator that will yield $n$ objects at most. For the sake of clarity,"
   ]
  },
  {
   "cell_type": "code",
   "execution_count": 3,
   "metadata": {},
   "outputs": [
    {
     "data": {
      "text/plain": [
       "<generator object take at 0x7f88a402d120>"
      ]
     },
     "execution_count": 3,
     "metadata": {},
     "output_type": "execute_result"
    }
   ],
   "source": [
    "taken = take(itertools.count(), 50)\n",
    "taken"
   ]
  },
  {
   "cell_type": "markdown",
   "metadata": {},
   "source": [
    "is a actually generator and its content equals"
   ]
  },
  {
   "cell_type": "code",
   "execution_count": 4,
   "metadata": {},
   "outputs": [],
   "source": [
    "assert list(taken) == list(range(50))"
   ]
  },
  {
   "cell_type": "markdown",
   "metadata": {},
   "source": [
    "Before starting, we initialize the random generator with a nice prime"
   ]
  },
  {
   "cell_type": "code",
   "execution_count": 5,
   "metadata": {},
   "outputs": [],
   "source": [
    "random.seed(11)"
   ]
  },
  {
   "cell_type": "markdown",
   "metadata": {},
   "source": [
    "## (Pythagorean) tuples\n",
    "\n",
    "Let"
   ]
  },
  {
   "cell_type": "code",
   "execution_count": 6,
   "metadata": {},
   "outputs": [],
   "source": [
    "def tuples(*slices):\n",
    "    return itertools.product(*map(lambda s: range(s.start, s.stop), slices))"
   ]
  },
  {
   "cell_type": "markdown",
   "metadata": {},
   "source": [
    "**INTERMEZZO**"
   ]
  },
  {
   "cell_type": "code",
   "execution_count": 7,
   "metadata": {},
   "outputs": [],
   "source": [
    "def A(a, b, c, d):\n",
    "    pass"
   ]
  },
  {
   "cell_type": "code",
   "execution_count": 8,
   "metadata": {},
   "outputs": [],
   "source": [
    "def A(*args):\n",
    "    return list(map(lambda i: i + 4, args))"
   ]
  },
  {
   "cell_type": "code",
   "execution_count": 9,
   "metadata": {},
   "outputs": [],
   "source": [
    "def AA(args):\n",
    "    return list(map(lambda i: i + 4, args))"
   ]
  },
  {
   "cell_type": "code",
   "execution_count": 10,
   "metadata": {},
   "outputs": [],
   "source": [
    "def B(a, b, *args):\n",
    "    return [a, b] + list(map(lambda i: i + 4, args))"
   ]
  },
  {
   "cell_type": "code",
   "execution_count": 11,
   "metadata": {},
   "outputs": [
    {
     "data": {
      "text/plain": [
       "[5, 6, 7]"
      ]
     },
     "execution_count": 11,
     "metadata": {},
     "output_type": "execute_result"
    }
   ],
   "source": [
    "A(1, 2, 3)"
   ]
  },
  {
   "cell_type": "code",
   "execution_count": 12,
   "metadata": {},
   "outputs": [
    {
     "ename": "TypeError",
     "evalue": "can only concatenate list (not \"int\") to list",
     "output_type": "error",
     "traceback": [
      "\u001b[0;31m---------------------------------------------------------------------------\u001b[0m",
      "\u001b[0;31mTypeError\u001b[0m                                 Traceback (most recent call last)",
      "\u001b[0;32m<ipython-input-12-ff414da197ec>\u001b[0m in \u001b[0;36m<module>\u001b[0;34m\u001b[0m\n\u001b[0;32m----> 1\u001b[0;31m \u001b[0mA\u001b[0m\u001b[0;34m(\u001b[0m\u001b[0;34m[\u001b[0m\u001b[0;36m1\u001b[0m\u001b[0;34m,\u001b[0m \u001b[0;36m2\u001b[0m\u001b[0;34m,\u001b[0m \u001b[0;36m3\u001b[0m\u001b[0;34m]\u001b[0m\u001b[0;34m)\u001b[0m\u001b[0;34m\u001b[0m\u001b[0;34m\u001b[0m\u001b[0m\n\u001b[0m",
      "\u001b[0;32m<ipython-input-8-224bcd67b941>\u001b[0m in \u001b[0;36mA\u001b[0;34m(*args)\u001b[0m\n\u001b[1;32m      1\u001b[0m \u001b[0;32mdef\u001b[0m \u001b[0mA\u001b[0m\u001b[0;34m(\u001b[0m\u001b[0;34m*\u001b[0m\u001b[0margs\u001b[0m\u001b[0;34m)\u001b[0m\u001b[0;34m:\u001b[0m\u001b[0;34m\u001b[0m\u001b[0;34m\u001b[0m\u001b[0m\n\u001b[0;32m----> 2\u001b[0;31m     \u001b[0;32mreturn\u001b[0m \u001b[0mlist\u001b[0m\u001b[0;34m(\u001b[0m\u001b[0mmap\u001b[0m\u001b[0;34m(\u001b[0m\u001b[0;32mlambda\u001b[0m \u001b[0mi\u001b[0m\u001b[0;34m:\u001b[0m \u001b[0mi\u001b[0m \u001b[0;34m+\u001b[0m \u001b[0;36m4\u001b[0m\u001b[0;34m,\u001b[0m \u001b[0margs\u001b[0m\u001b[0;34m)\u001b[0m\u001b[0;34m)\u001b[0m\u001b[0;34m\u001b[0m\u001b[0;34m\u001b[0m\u001b[0m\n\u001b[0m",
      "\u001b[0;32m<ipython-input-8-224bcd67b941>\u001b[0m in \u001b[0;36m<lambda>\u001b[0;34m(i)\u001b[0m\n\u001b[1;32m      1\u001b[0m \u001b[0;32mdef\u001b[0m \u001b[0mA\u001b[0m\u001b[0;34m(\u001b[0m\u001b[0;34m*\u001b[0m\u001b[0margs\u001b[0m\u001b[0;34m)\u001b[0m\u001b[0;34m:\u001b[0m\u001b[0;34m\u001b[0m\u001b[0;34m\u001b[0m\u001b[0m\n\u001b[0;32m----> 2\u001b[0;31m     \u001b[0;32mreturn\u001b[0m \u001b[0mlist\u001b[0m\u001b[0;34m(\u001b[0m\u001b[0mmap\u001b[0m\u001b[0;34m(\u001b[0m\u001b[0;32mlambda\u001b[0m \u001b[0mi\u001b[0m\u001b[0;34m:\u001b[0m \u001b[0mi\u001b[0m \u001b[0;34m+\u001b[0m \u001b[0;36m4\u001b[0m\u001b[0;34m,\u001b[0m \u001b[0margs\u001b[0m\u001b[0;34m)\u001b[0m\u001b[0;34m)\u001b[0m\u001b[0;34m\u001b[0m\u001b[0;34m\u001b[0m\u001b[0m\n\u001b[0m",
      "\u001b[0;31mTypeError\u001b[0m: can only concatenate list (not \"int\") to list"
     ]
    }
   ],
   "source": [
    "A([1, 2, 3])"
   ]
  },
  {
   "cell_type": "code",
   "execution_count": 13,
   "metadata": {},
   "outputs": [
    {
     "data": {
      "text/plain": [
       "[5, 6, 7]"
      ]
     },
     "execution_count": 13,
     "metadata": {},
     "output_type": "execute_result"
    }
   ],
   "source": [
    "AA([1, 2, 3])"
   ]
  },
  {
   "cell_type": "code",
   "execution_count": 14,
   "metadata": {},
   "outputs": [
    {
     "ename": "TypeError",
     "evalue": "B() missing 1 required positional argument: 'b'",
     "output_type": "error",
     "traceback": [
      "\u001b[0;31m---------------------------------------------------------------------------\u001b[0m",
      "\u001b[0;31mTypeError\u001b[0m                                 Traceback (most recent call last)",
      "\u001b[0;32m<ipython-input-14-e0b11ae7ec43>\u001b[0m in \u001b[0;36m<module>\u001b[0;34m\u001b[0m\n\u001b[0;32m----> 1\u001b[0;31m \u001b[0mB\u001b[0m\u001b[0;34m(\u001b[0m\u001b[0;36m1\u001b[0m\u001b[0;34m,\u001b[0m\u001b[0;34m)\u001b[0m\u001b[0;34m\u001b[0m\u001b[0;34m\u001b[0m\u001b[0m\n\u001b[0m",
      "\u001b[0;31mTypeError\u001b[0m: B() missing 1 required positional argument: 'b'"
     ]
    }
   ],
   "source": [
    "B(1,)"
   ]
  },
  {
   "cell_type": "code",
   "execution_count": 15,
   "metadata": {},
   "outputs": [
    {
     "data": {
      "text/plain": [
       "[1, 2]"
      ]
     },
     "execution_count": 15,
     "metadata": {},
     "output_type": "execute_result"
    }
   ],
   "source": [
    "B(1, 2)"
   ]
  },
  {
   "cell_type": "code",
   "execution_count": 16,
   "metadata": {},
   "outputs": [
    {
     "data": {
      "text/plain": [
       "[1, 2, 7]"
      ]
     },
     "execution_count": 16,
     "metadata": {},
     "output_type": "execute_result"
    }
   ],
   "source": [
    "B(1, 2, 3)"
   ]
  },
  {
   "cell_type": "code",
   "execution_count": 17,
   "metadata": {},
   "outputs": [
    {
     "data": {
      "text/plain": [
       "[]"
      ]
     },
     "execution_count": 17,
     "metadata": {},
     "output_type": "execute_result"
    }
   ],
   "source": [
    "A()"
   ]
  },
  {
   "cell_type": "code",
   "execution_count": 18,
   "metadata": {},
   "outputs": [
    {
     "data": {
      "text/plain": [
       "[5, 6, 7]"
      ]
     },
     "execution_count": 18,
     "metadata": {},
     "output_type": "execute_result"
    }
   ],
   "source": [
    "A(1, 2, 3)"
   ]
  },
  {
   "cell_type": "code",
   "execution_count": 19,
   "metadata": {},
   "outputs": [
    {
     "data": {
      "text/plain": [
       "[5, 6, 7, 8, 9, 10, 11]"
      ]
     },
     "execution_count": 19,
     "metadata": {},
     "output_type": "execute_result"
    }
   ],
   "source": [
    "A(1, 2, 3, 4, 5, 6, 7)"
   ]
  },
  {
   "cell_type": "code",
   "execution_count": 20,
   "metadata": {},
   "outputs": [
    {
     "data": {
      "text/plain": [
       "[4, 5, 6, 7, 8]"
      ]
     },
     "execution_count": 20,
     "metadata": {},
     "output_type": "execute_result"
    }
   ],
   "source": [
    "container = range(5)\n",
    "A( *container  )"
   ]
  },
  {
   "cell_type": "markdown",
   "metadata": {},
   "source": [
    "---"
   ]
  },
  {
   "cell_type": "markdown",
   "metadata": {},
   "source": [
    "where"
   ]
  },
  {
   "cell_type": "code",
   "execution_count": null,
   "metadata": {},
   "outputs": [],
   "source": [
    "help(itertools.product)"
   ]
  },
  {
   "cell_type": "markdown",
   "metadata": {},
   "source": [
    "Consider the application to an empty sequence of `slide`s,"
   ]
  },
  {
   "cell_type": "code",
   "execution_count": 23,
   "metadata": {},
   "outputs": [
    {
     "data": {
      "text/plain": [
       "<itertools.product at 0x7f888f745600>"
      ]
     },
     "execution_count": 23,
     "metadata": {},
     "output_type": "execute_result"
    }
   ],
   "source": [
    "units = tuples()\n",
    "units"
   ]
  },
  {
   "cell_type": "markdown",
   "metadata": {},
   "source": [
    "then saturate it"
   ]
  },
  {
   "cell_type": "code",
   "execution_count": 24,
   "metadata": {},
   "outputs": [
    {
     "data": {
      "text/plain": [
       "[()]"
      ]
     },
     "execution_count": 24,
     "metadata": {},
     "output_type": "execute_result"
    }
   ],
   "source": [
    "list(units)"
   ]
  },
  {
   "cell_type": "markdown",
   "metadata": {},
   "source": [
    "Now, build tuples using just a `slide` object,"
   ]
  },
  {
   "cell_type": "code",
   "execution_count": 25,
   "metadata": {},
   "outputs": [
    {
     "data": {
      "text/plain": [
       "<itertools.product at 0x7f888f747580>"
      ]
     },
     "execution_count": 25,
     "metadata": {},
     "output_type": "execute_result"
    }
   ],
   "source": [
    "singletons = tuples(slice(5, 11))\n",
    "singletons"
   ]
  },
  {
   "cell_type": "markdown",
   "metadata": {},
   "source": [
    "then saturate it"
   ]
  },
  {
   "cell_type": "code",
   "execution_count": 26,
   "metadata": {},
   "outputs": [
    {
     "data": {
      "text/plain": [
       "[(5,), (6,), (7,), (8,), (9,), (10,)]"
      ]
     },
     "execution_count": 26,
     "metadata": {},
     "output_type": "execute_result"
    }
   ],
   "source": [
    "list(singletons)"
   ]
  },
  {
   "cell_type": "markdown",
   "metadata": {},
   "source": [
    "Now, build tuples using a twin `slide` object,"
   ]
  },
  {
   "cell_type": "code",
   "execution_count": 27,
   "metadata": {},
   "outputs": [
    {
     "data": {
      "text/plain": [
       "<itertools.product at 0x7f888f745500>"
      ]
     },
     "execution_count": 27,
     "metadata": {},
     "output_type": "execute_result"
    }
   ],
   "source": [
    "s = slice(5, 11)\n",
    "pairs = tuples(s, s)\n",
    "pairs"
   ]
  },
  {
   "cell_type": "markdown",
   "metadata": {},
   "source": [
    "then saturate it"
   ]
  },
  {
   "cell_type": "code",
   "execution_count": 28,
   "metadata": {},
   "outputs": [
    {
     "data": {
      "text/plain": [
       "[(5, 5),\n",
       " (5, 6),\n",
       " (5, 7),\n",
       " (5, 8),\n",
       " (5, 9),\n",
       " (5, 10),\n",
       " (6, 5),\n",
       " (6, 6),\n",
       " (6, 7),\n",
       " (6, 8),\n",
       " (6, 9),\n",
       " (6, 10),\n",
       " (7, 5),\n",
       " (7, 6),\n",
       " (7, 7),\n",
       " (7, 8),\n",
       " (7, 9),\n",
       " (7, 10),\n",
       " (8, 5),\n",
       " (8, 6),\n",
       " (8, 7),\n",
       " (8, 8),\n",
       " (8, 9),\n",
       " (8, 10),\n",
       " (9, 5),\n",
       " (9, 6),\n",
       " (9, 7),\n",
       " (9, 8),\n",
       " (9, 9),\n",
       " (9, 10),\n",
       " (10, 5),\n",
       " (10, 6),\n",
       " (10, 7),\n",
       " (10, 8),\n",
       " (10, 9),\n",
       " (10, 10)]"
      ]
     },
     "execution_count": 28,
     "metadata": {},
     "output_type": "execute_result"
    }
   ],
   "source": [
    "list(pairs)"
   ]
  },
  {
   "cell_type": "markdown",
   "metadata": {},
   "source": [
    "Now, build tuples using a three different `slide` objects (taking into account of splitting the returned generator),"
   ]
  },
  {
   "cell_type": "code",
   "execution_count": 29,
   "metadata": {},
   "outputs": [],
   "source": [
    "triples_a, triples_b = itertools.tee(tuples(slice(5, 11), slice(6, 13), slice(7, 14)))"
   ]
  },
  {
   "cell_type": "markdown",
   "metadata": {},
   "source": [
    "where"
   ]
  },
  {
   "cell_type": "code",
   "execution_count": 30,
   "metadata": {},
   "outputs": [
    {
     "name": "stdout",
     "output_type": "stream",
     "text": [
      "Help on built-in function tee in module itertools:\n",
      "\n",
      "tee(iterable, n=2, /)\n",
      "    Returns a tuple of n independent iterators.\n",
      "\n"
     ]
    }
   ],
   "source": [
    "help(itertools.tee)"
   ]
  },
  {
   "cell_type": "markdown",
   "metadata": {},
   "source": [
    "then saturate it"
   ]
  },
  {
   "cell_type": "code",
   "execution_count": 31,
   "metadata": {
    "scrolled": false
   },
   "outputs": [
    {
     "data": {
      "text/plain": [
       "[(5, 6, 7),\n",
       " (5, 6, 8),\n",
       " (5, 6, 9),\n",
       " (5, 6, 10),\n",
       " (5, 6, 11),\n",
       " (5, 6, 12),\n",
       " (5, 6, 13),\n",
       " (5, 7, 7),\n",
       " (5, 7, 8),\n",
       " (5, 7, 9),\n",
       " (5, 7, 10),\n",
       " (5, 7, 11),\n",
       " (5, 7, 12),\n",
       " (5, 7, 13),\n",
       " (5, 8, 7),\n",
       " (5, 8, 8),\n",
       " (5, 8, 9),\n",
       " (5, 8, 10),\n",
       " (5, 8, 11),\n",
       " (5, 8, 12),\n",
       " (5, 8, 13),\n",
       " (5, 9, 7),\n",
       " (5, 9, 8),\n",
       " (5, 9, 9),\n",
       " (5, 9, 10),\n",
       " (5, 9, 11),\n",
       " (5, 9, 12),\n",
       " (5, 9, 13),\n",
       " (5, 10, 7),\n",
       " (5, 10, 8),\n",
       " (5, 10, 9),\n",
       " (5, 10, 10),\n",
       " (5, 10, 11),\n",
       " (5, 10, 12),\n",
       " (5, 10, 13),\n",
       " (5, 11, 7),\n",
       " (5, 11, 8),\n",
       " (5, 11, 9),\n",
       " (5, 11, 10),\n",
       " (5, 11, 11),\n",
       " (5, 11, 12),\n",
       " (5, 11, 13),\n",
       " (5, 12, 7),\n",
       " (5, 12, 8),\n",
       " (5, 12, 9),\n",
       " (5, 12, 10),\n",
       " (5, 12, 11),\n",
       " (5, 12, 12),\n",
       " (5, 12, 13),\n",
       " (6, 6, 7),\n",
       " (6, 6, 8),\n",
       " (6, 6, 9),\n",
       " (6, 6, 10),\n",
       " (6, 6, 11),\n",
       " (6, 6, 12),\n",
       " (6, 6, 13),\n",
       " (6, 7, 7),\n",
       " (6, 7, 8),\n",
       " (6, 7, 9),\n",
       " (6, 7, 10),\n",
       " (6, 7, 11),\n",
       " (6, 7, 12),\n",
       " (6, 7, 13),\n",
       " (6, 8, 7),\n",
       " (6, 8, 8),\n",
       " (6, 8, 9),\n",
       " (6, 8, 10),\n",
       " (6, 8, 11),\n",
       " (6, 8, 12),\n",
       " (6, 8, 13),\n",
       " (6, 9, 7),\n",
       " (6, 9, 8),\n",
       " (6, 9, 9),\n",
       " (6, 9, 10),\n",
       " (6, 9, 11),\n",
       " (6, 9, 12),\n",
       " (6, 9, 13),\n",
       " (6, 10, 7),\n",
       " (6, 10, 8),\n",
       " (6, 10, 9),\n",
       " (6, 10, 10),\n",
       " (6, 10, 11),\n",
       " (6, 10, 12),\n",
       " (6, 10, 13),\n",
       " (6, 11, 7),\n",
       " (6, 11, 8),\n",
       " (6, 11, 9),\n",
       " (6, 11, 10),\n",
       " (6, 11, 11),\n",
       " (6, 11, 12),\n",
       " (6, 11, 13),\n",
       " (6, 12, 7),\n",
       " (6, 12, 8),\n",
       " (6, 12, 9),\n",
       " (6, 12, 10),\n",
       " (6, 12, 11),\n",
       " (6, 12, 12),\n",
       " (6, 12, 13),\n",
       " (7, 6, 7),\n",
       " (7, 6, 8),\n",
       " (7, 6, 9),\n",
       " (7, 6, 10),\n",
       " (7, 6, 11),\n",
       " (7, 6, 12),\n",
       " (7, 6, 13),\n",
       " (7, 7, 7),\n",
       " (7, 7, 8),\n",
       " (7, 7, 9),\n",
       " (7, 7, 10),\n",
       " (7, 7, 11),\n",
       " (7, 7, 12),\n",
       " (7, 7, 13),\n",
       " (7, 8, 7),\n",
       " (7, 8, 8),\n",
       " (7, 8, 9),\n",
       " (7, 8, 10),\n",
       " (7, 8, 11),\n",
       " (7, 8, 12),\n",
       " (7, 8, 13),\n",
       " (7, 9, 7),\n",
       " (7, 9, 8),\n",
       " (7, 9, 9),\n",
       " (7, 9, 10),\n",
       " (7, 9, 11),\n",
       " (7, 9, 12),\n",
       " (7, 9, 13),\n",
       " (7, 10, 7),\n",
       " (7, 10, 8),\n",
       " (7, 10, 9),\n",
       " (7, 10, 10),\n",
       " (7, 10, 11),\n",
       " (7, 10, 12),\n",
       " (7, 10, 13),\n",
       " (7, 11, 7),\n",
       " (7, 11, 8),\n",
       " (7, 11, 9),\n",
       " (7, 11, 10),\n",
       " (7, 11, 11),\n",
       " (7, 11, 12),\n",
       " (7, 11, 13),\n",
       " (7, 12, 7),\n",
       " (7, 12, 8),\n",
       " (7, 12, 9),\n",
       " (7, 12, 10),\n",
       " (7, 12, 11),\n",
       " (7, 12, 12),\n",
       " (7, 12, 13),\n",
       " (8, 6, 7),\n",
       " (8, 6, 8),\n",
       " (8, 6, 9),\n",
       " (8, 6, 10),\n",
       " (8, 6, 11),\n",
       " (8, 6, 12),\n",
       " (8, 6, 13),\n",
       " (8, 7, 7),\n",
       " (8, 7, 8),\n",
       " (8, 7, 9),\n",
       " (8, 7, 10),\n",
       " (8, 7, 11),\n",
       " (8, 7, 12),\n",
       " (8, 7, 13),\n",
       " (8, 8, 7),\n",
       " (8, 8, 8),\n",
       " (8, 8, 9),\n",
       " (8, 8, 10),\n",
       " (8, 8, 11),\n",
       " (8, 8, 12),\n",
       " (8, 8, 13),\n",
       " (8, 9, 7),\n",
       " (8, 9, 8),\n",
       " (8, 9, 9),\n",
       " (8, 9, 10),\n",
       " (8, 9, 11),\n",
       " (8, 9, 12),\n",
       " (8, 9, 13),\n",
       " (8, 10, 7),\n",
       " (8, 10, 8),\n",
       " (8, 10, 9),\n",
       " (8, 10, 10),\n",
       " (8, 10, 11),\n",
       " (8, 10, 12),\n",
       " (8, 10, 13),\n",
       " (8, 11, 7),\n",
       " (8, 11, 8),\n",
       " (8, 11, 9),\n",
       " (8, 11, 10),\n",
       " (8, 11, 11),\n",
       " (8, 11, 12),\n",
       " (8, 11, 13),\n",
       " (8, 12, 7),\n",
       " (8, 12, 8),\n",
       " (8, 12, 9),\n",
       " (8, 12, 10),\n",
       " (8, 12, 11),\n",
       " (8, 12, 12),\n",
       " (8, 12, 13),\n",
       " (9, 6, 7),\n",
       " (9, 6, 8),\n",
       " (9, 6, 9),\n",
       " (9, 6, 10),\n",
       " (9, 6, 11),\n",
       " (9, 6, 12),\n",
       " (9, 6, 13),\n",
       " (9, 7, 7),\n",
       " (9, 7, 8),\n",
       " (9, 7, 9),\n",
       " (9, 7, 10),\n",
       " (9, 7, 11),\n",
       " (9, 7, 12),\n",
       " (9, 7, 13),\n",
       " (9, 8, 7),\n",
       " (9, 8, 8),\n",
       " (9, 8, 9),\n",
       " (9, 8, 10),\n",
       " (9, 8, 11),\n",
       " (9, 8, 12),\n",
       " (9, 8, 13),\n",
       " (9, 9, 7),\n",
       " (9, 9, 8),\n",
       " (9, 9, 9),\n",
       " (9, 9, 10),\n",
       " (9, 9, 11),\n",
       " (9, 9, 12),\n",
       " (9, 9, 13),\n",
       " (9, 10, 7),\n",
       " (9, 10, 8),\n",
       " (9, 10, 9),\n",
       " (9, 10, 10),\n",
       " (9, 10, 11),\n",
       " (9, 10, 12),\n",
       " (9, 10, 13),\n",
       " (9, 11, 7),\n",
       " (9, 11, 8),\n",
       " (9, 11, 9),\n",
       " (9, 11, 10),\n",
       " (9, 11, 11),\n",
       " (9, 11, 12),\n",
       " (9, 11, 13),\n",
       " (9, 12, 7),\n",
       " (9, 12, 8),\n",
       " (9, 12, 9),\n",
       " (9, 12, 10),\n",
       " (9, 12, 11),\n",
       " (9, 12, 12),\n",
       " (9, 12, 13),\n",
       " (10, 6, 7),\n",
       " (10, 6, 8),\n",
       " (10, 6, 9),\n",
       " (10, 6, 10),\n",
       " (10, 6, 11),\n",
       " (10, 6, 12),\n",
       " (10, 6, 13),\n",
       " (10, 7, 7),\n",
       " (10, 7, 8),\n",
       " (10, 7, 9),\n",
       " (10, 7, 10),\n",
       " (10, 7, 11),\n",
       " (10, 7, 12),\n",
       " (10, 7, 13),\n",
       " (10, 8, 7),\n",
       " (10, 8, 8),\n",
       " (10, 8, 9),\n",
       " (10, 8, 10),\n",
       " (10, 8, 11),\n",
       " (10, 8, 12),\n",
       " (10, 8, 13),\n",
       " (10, 9, 7),\n",
       " (10, 9, 8),\n",
       " (10, 9, 9),\n",
       " (10, 9, 10),\n",
       " (10, 9, 11),\n",
       " (10, 9, 12),\n",
       " (10, 9, 13),\n",
       " (10, 10, 7),\n",
       " (10, 10, 8),\n",
       " (10, 10, 9),\n",
       " (10, 10, 10),\n",
       " (10, 10, 11),\n",
       " (10, 10, 12),\n",
       " (10, 10, 13),\n",
       " (10, 11, 7),\n",
       " (10, 11, 8),\n",
       " (10, 11, 9),\n",
       " (10, 11, 10),\n",
       " (10, 11, 11),\n",
       " (10, 11, 12),\n",
       " (10, 11, 13),\n",
       " (10, 12, 7),\n",
       " (10, 12, 8),\n",
       " (10, 12, 9),\n",
       " (10, 12, 10),\n",
       " (10, 12, 11),\n",
       " (10, 12, 12),\n",
       " (10, 12, 13)]"
      ]
     },
     "execution_count": 31,
     "metadata": {},
     "output_type": "execute_result"
    }
   ],
   "source": [
    "list(triples_a)"
   ]
  },
  {
   "cell_type": "markdown",
   "metadata": {},
   "source": [
    "Now a corner case, but still interesting for ensuring a sound behavior,"
   ]
  },
  {
   "cell_type": "code",
   "execution_count": 32,
   "metadata": {},
   "outputs": [],
   "source": [
    "triples = tuples(slice(5, 11), slice(6, 6), slice(7, 14)) # ouch!"
   ]
  },
  {
   "cell_type": "code",
   "execution_count": 33,
   "metadata": {},
   "outputs": [
    {
     "data": {
      "text/plain": [
       "[]"
      ]
     },
     "execution_count": 33,
     "metadata": {},
     "output_type": "execute_result"
    }
   ],
   "source": [
    "L = [1, 2, 3, 4]\n",
    "L[2:2]"
   ]
  },
  {
   "cell_type": "code",
   "execution_count": 34,
   "metadata": {},
   "outputs": [
    {
     "data": {
      "text/plain": [
       "[]"
      ]
     },
     "execution_count": 34,
     "metadata": {},
     "output_type": "execute_result"
    }
   ],
   "source": [
    "L[slice(2, 2)]"
   ]
  },
  {
   "cell_type": "markdown",
   "metadata": {},
   "source": [
    "then saturate it"
   ]
  },
  {
   "cell_type": "code",
   "execution_count": 35,
   "metadata": {},
   "outputs": [
    {
     "data": {
      "text/plain": [
       "[]"
      ]
     },
     "execution_count": 35,
     "metadata": {},
     "output_type": "execute_result"
    }
   ],
   "source": [
    "list(triples) # who we have to blame?"
   ]
  },
  {
   "cell_type": "markdown",
   "metadata": {},
   "source": [
    "Finally, let"
   ]
  },
  {
   "cell_type": "code",
   "execution_count": 36,
   "metadata": {},
   "outputs": [
    {
     "data": {
      "text/plain": [
       "bool"
      ]
     },
     "execution_count": 36,
     "metadata": {},
     "output_type": "execute_result"
    }
   ],
   "source": [
    "type(True)"
   ]
  },
  {
   "cell_type": "code",
   "execution_count": 37,
   "metadata": {},
   "outputs": [],
   "source": [
    "def is_pythagorean(tup: tuple, n=2) -> bool: # is_pythagorean is a *predicate*\n",
    "    '''A Pythagorean triple consists of three positive integers a, b, and c, such that a^2 + b^2 = c^2. \n",
    "    \n",
    "    Such a triple is commonly written (a, b, c), and a well-known example is (3, 4, 5). \n",
    "    If (a, b, c) is a Pythagorean triple, then so is (ka, kb, kc) for any positive integer k. \n",
    "    \n",
    "    A primitive Pythagorean triple is one in which a, b and c are coprime (that is, \n",
    "    they have no common divisor larger than 1).\n",
    "    \n",
    "    See also https://en.wikipedia.org/wiki/Pythagorean_triple.\n",
    "    '''\n",
    "    a, b, c = tup # tuple unpacking\n",
    "    return (a**n + b**n == c**n) if a <= b <= c else False"
   ]
  },
  {
   "cell_type": "markdown",
   "metadata": {},
   "source": [
    "in"
   ]
  },
  {
   "cell_type": "code",
   "execution_count": 38,
   "metadata": {},
   "outputs": [
    {
     "data": {
      "text/plain": [
       "<filter at 0x7f888f7bc370>"
      ]
     },
     "execution_count": 38,
     "metadata": {},
     "output_type": "execute_result"
    }
   ],
   "source": [
    "filter(is_pythagorean, triples_b)"
   ]
  },
  {
   "cell_type": "code",
   "execution_count": 39,
   "metadata": {},
   "outputs": [
    {
     "data": {
      "text/plain": [
       "[(5, 12, 13), (6, 8, 10)]"
      ]
     },
     "execution_count": 39,
     "metadata": {},
     "output_type": "execute_result"
    }
   ],
   "source": [
    "list(filter(is_pythagorean, triples_b)) # do a selection"
   ]
  },
  {
   "cell_type": "markdown",
   "metadata": {},
   "source": [
    "and"
   ]
  },
  {
   "cell_type": "code",
   "execution_count": 40,
   "metadata": {},
   "outputs": [
    {
     "name": "stdout",
     "output_type": "stream",
     "text": [
      "Help on function is_pythagorean in module __main__:\n",
      "\n",
      "is_pythagorean(tup: tuple, n=2) -> bool\n",
      "    A Pythagorean triple consists of three positive integers a, b, and c, such that a^2 + b^2 = c^2. \n",
      "    \n",
      "    Such a triple is commonly written (a, b, c), and a well-known example is (3, 4, 5). \n",
      "    If (a, b, c) is a Pythagorean triple, then so is (ka, kb, kc) for any positive integer k. \n",
      "    \n",
      "    A primitive Pythagorean triple is one in which a, b and c are coprime (that is, \n",
      "    they have no common divisor larger than 1).\n",
      "    \n",
      "    See also https://en.wikipedia.org/wiki/Pythagorean_triple.\n",
      "\n"
     ]
    }
   ],
   "source": [
    "help(is_pythagorean) # just to show that writing docstrings is cool and useful."
   ]
  },
  {
   "cell_type": "markdown",
   "metadata": {},
   "source": [
    "## `sum_upto`"
   ]
  },
  {
   "cell_type": "markdown",
   "metadata": {},
   "source": [
    "Let"
   ]
  },
  {
   "cell_type": "code",
   "execution_count": 41,
   "metadata": {},
   "outputs": [],
   "source": [
    "def sum_upto(n):\n",
    "    return functools.reduce(operator.add, range(n+1))"
   ]
  },
  {
   "cell_type": "markdown",
   "metadata": {},
   "source": [
    "and test according to Euler's quicker formula"
   ]
  },
  {
   "cell_type": "code",
   "execution_count": 42,
   "metadata": {},
   "outputs": [],
   "source": [
    "n = 100\n",
    "v = sum_upto(n)\n",
    "gauss = (n*(n+1)/2)\n",
    "assert v == gauss == 5050"
   ]
  },
  {
   "cell_type": "markdown",
   "metadata": {},
   "source": [
    "where"
   ]
  },
  {
   "cell_type": "code",
   "execution_count": 43,
   "metadata": {},
   "outputs": [
    {
     "name": "stdout",
     "output_type": "stream",
     "text": [
      "Help on built-in function reduce in module _functools:\n",
      "\n",
      "reduce(...)\n",
      "    reduce(function, sequence[, initial]) -> value\n",
      "    \n",
      "    Apply a function of two arguments cumulatively to the items of a sequence,\n",
      "    from left to right, so as to reduce the sequence to a single value.\n",
      "    For example, reduce(lambda x, y: x+y, [1, 2, 3, 4, 5]) calculates\n",
      "    ((((1+2)+3)+4)+5).  If initial is present, it is placed before the items\n",
      "    of the sequence in the calculation, and serves as a default when the\n",
      "    sequence is empty.\n",
      "\n"
     ]
    }
   ],
   "source": [
    "help(functools.reduce)"
   ]
  },
  {
   "cell_type": "markdown",
   "metadata": {},
   "source": [
    "and"
   ]
  },
  {
   "cell_type": "code",
   "execution_count": 44,
   "metadata": {},
   "outputs": [
    {
     "name": "stdout",
     "output_type": "stream",
     "text": [
      "Help on built-in function add in module _operator:\n",
      "\n",
      "add(a, b, /)\n",
      "    Same as a + b.\n",
      "\n"
     ]
    }
   ],
   "source": [
    "help(operator.add)"
   ]
  },
  {
   "cell_type": "markdown",
   "metadata": {},
   "source": [
    "## `sqrt`"
   ]
  },
  {
   "cell_type": "markdown",
   "metadata": {},
   "source": [
    "Let"
   ]
  },
  {
   "cell_type": "code",
   "execution_count": 45,
   "metadata": {},
   "outputs": [],
   "source": [
    "def sqrt(n):\n",
    "    \n",
    "    refined = n\n",
    "    while True:\n",
    "        yield refined\n",
    "        refined = (n/refined + refined)/2"
   ]
  },
  {
   "cell_type": "markdown",
   "metadata": {},
   "source": [
    "to enumerate 15 approximation of the square root of 37"
   ]
  },
  {
   "cell_type": "code",
   "execution_count": 46,
   "metadata": {},
   "outputs": [
    {
     "data": {
      "text/plain": [
       "[37,\n",
       " 19.0,\n",
       " 10.473684210526315,\n",
       " 7.003173763554615,\n",
       " 6.143246310003449,\n",
       " 6.08306027903096,\n",
       " 6.082762537585202,\n",
       " 6.08276253029822,\n",
       " 6.08276253029822,\n",
       " 6.08276253029822,\n",
       " 6.08276253029822,\n",
       " 6.08276253029822,\n",
       " 6.08276253029822,\n",
       " 6.08276253029822,\n",
       " 6.08276253029822]"
      ]
     },
     "execution_count": 46,
     "metadata": {},
     "output_type": "execute_result"
    }
   ],
   "source": [
    "n = 37\n",
    "list(take(sqrt(37), 15))"
   ]
  },
  {
   "cell_type": "markdown",
   "metadata": {},
   "source": [
    "and check with respect to"
   ]
  },
  {
   "cell_type": "code",
   "execution_count": 47,
   "metadata": {},
   "outputs": [
    {
     "data": {
      "text/plain": [
       "6.082762530298219"
      ]
     },
     "execution_count": 47,
     "metadata": {},
     "output_type": "execute_result"
    }
   ],
   "source": [
    "math.sqrt(n)"
   ]
  },
  {
   "cell_type": "markdown",
   "metadata": {},
   "source": [
    "where"
   ]
  },
  {
   "cell_type": "code",
   "execution_count": 48,
   "metadata": {},
   "outputs": [
    {
     "name": "stdout",
     "output_type": "stream",
     "text": [
      "Help on built-in function sqrt in module math:\n",
      "\n",
      "sqrt(x, /)\n",
      "    Return the square root of x.\n",
      "\n"
     ]
    }
   ],
   "source": [
    "help(math.sqrt)"
   ]
  },
  {
   "cell_type": "markdown",
   "metadata": {},
   "source": [
    "## $\\pi$\n",
    "\n",
    "According to https://en.wikipedia.org/wiki/Leibniz_formula_for_%CF%80, let"
   ]
  },
  {
   "cell_type": "code",
   "execution_count": 49,
   "metadata": {},
   "outputs": [],
   "source": [
    "def pi_Leibniz():\n",
    "    \n",
    "    d = 0\n",
    "    for i, coeff in enumerate(itertools.count(1, step=2)):\n",
    "        yield 4*d\n",
    "        d += (-1)**i/coeff"
   ]
  },
  {
   "cell_type": "markdown",
   "metadata": {},
   "source": [
    "in"
   ]
  },
  {
   "cell_type": "code",
   "execution_count": 50,
   "metadata": {},
   "outputs": [
    {
     "data": {
      "text/plain": [
       "[3.140582552837346,\n",
       " 3.1426017350685425,\n",
       " 3.140584589329763,\n",
       " 3.1425997026798886,\n",
       " 3.140586617627045,\n",
       " 3.142597678461635,\n",
       " 3.1405886377785612,\n",
       " 3.1425956623646125,\n",
       " 3.140590649833284,\n",
       " 3.142593654340044]"
      ]
     },
     "execution_count": 50,
     "metadata": {},
     "output_type": "execute_result"
    }
   ],
   "source": [
    "list(take(pi_Leibniz(), 1000))[-10:]"
   ]
  },
  {
   "cell_type": "markdown",
   "metadata": {},
   "source": [
    "and check against the"
   ]
  },
  {
   "cell_type": "code",
   "execution_count": 51,
   "metadata": {},
   "outputs": [
    {
     "data": {
      "text/plain": [
       "3.141592653589793"
      ]
     },
     "execution_count": 51,
     "metadata": {},
     "output_type": "execute_result"
    }
   ],
   "source": [
    "math.pi"
   ]
  },
  {
   "cell_type": "markdown",
   "metadata": {},
   "source": [
    "where"
   ]
  },
  {
   "cell_type": "code",
   "execution_count": 52,
   "metadata": {},
   "outputs": [
    {
     "name": "stdout",
     "output_type": "stream",
     "text": [
      "Help on class count in module itertools:\n",
      "\n",
      "class count(builtins.object)\n",
      " |  count(start=0, step=1)\n",
      " |  \n",
      " |  Return a count object whose .__next__() method returns consecutive values.\n",
      " |  \n",
      " |  Equivalent to:\n",
      " |      def count(firstval=0, step=1):\n",
      " |          x = firstval\n",
      " |          while 1:\n",
      " |              yield x\n",
      " |              x += step\n",
      " |  \n",
      " |  Methods defined here:\n",
      " |  \n",
      " |  __getattribute__(self, name, /)\n",
      " |      Return getattr(self, name).\n",
      " |  \n",
      " |  __iter__(self, /)\n",
      " |      Implement iter(self).\n",
      " |  \n",
      " |  __next__(self, /)\n",
      " |      Implement next(self).\n",
      " |  \n",
      " |  __reduce__(...)\n",
      " |      Return state information for pickling.\n",
      " |  \n",
      " |  __repr__(self, /)\n",
      " |      Return repr(self).\n",
      " |  \n",
      " |  ----------------------------------------------------------------------\n",
      " |  Static methods defined here:\n",
      " |  \n",
      " |  __new__(*args, **kwargs) from builtins.type\n",
      " |      Create and return a new object.  See help(type) for accurate signature.\n",
      "\n"
     ]
    }
   ],
   "source": [
    "help(itertools.count)"
   ]
  },
  {
   "cell_type": "markdown",
   "metadata": {},
   "source": [
    "## The Collatz's conjecture\n",
    "\n",
    "Consider the following operation on an arbitrary positive integer:\n",
    "\n",
    "    If the number is even, divide it by two.\n",
    "    If the number is odd, triple it and add one.\n",
    "    \n",
    "See also https://en.wikipedia.org/wiki/Collatz_conjecture. Let"
   ]
  },
  {
   "cell_type": "code",
   "execution_count": 53,
   "metadata": {},
   "outputs": [],
   "source": [
    "def collatz(n):\n",
    "    \n",
    "    while True:\n",
    "        \n",
    "        yield n\n",
    "        n = 3*n + 1 if n % 2 else n // 2 # be aware that we lose track of the original `n`!"
   ]
  },
  {
   "cell_type": "markdown",
   "metadata": {},
   "source": [
    "in"
   ]
  },
  {
   "cell_type": "code",
   "execution_count": 54,
   "metadata": {
    "scrolled": false
   },
   "outputs": [
    {
     "data": {
      "text/plain": [
       "[[1, 4, 2, 1, 4, 2, 1, 4, 2, 1, 4, 2, 1, 4, 2],\n",
       " [2, 1, 4, 2, 1, 4, 2, 1, 4, 2, 1, 4, 2, 1, 4],\n",
       " [3, 10, 5, 16, 8, 4, 2, 1, 4, 2, 1, 4, 2, 1, 4],\n",
       " [4, 2, 1, 4, 2, 1, 4, 2, 1, 4, 2, 1, 4, 2, 1],\n",
       " [5, 16, 8, 4, 2, 1, 4, 2, 1, 4, 2, 1, 4, 2, 1],\n",
       " [6, 3, 10, 5, 16, 8, 4, 2, 1, 4, 2, 1, 4, 2, 1],\n",
       " [7, 22, 11, 34, 17, 52, 26, 13, 40, 20, 10, 5, 16, 8, 4],\n",
       " [8, 4, 2, 1, 4, 2, 1, 4, 2, 1, 4, 2, 1, 4, 2],\n",
       " [9, 28, 14, 7, 22, 11, 34, 17, 52, 26, 13, 40, 20, 10, 5],\n",
       " [10, 5, 16, 8, 4, 2, 1, 4, 2, 1, 4, 2, 1, 4, 2],\n",
       " [11, 34, 17, 52, 26, 13, 40, 20, 10, 5, 16, 8, 4, 2, 1],\n",
       " [12, 6, 3, 10, 5, 16, 8, 4, 2, 1, 4, 2, 1, 4, 2],\n",
       " [13, 40, 20, 10, 5, 16, 8, 4, 2, 1, 4, 2, 1, 4, 2],\n",
       " [14, 7, 22, 11, 34, 17, 52, 26, 13, 40, 20, 10, 5, 16, 8],\n",
       " [15, 46, 23, 70, 35, 106, 53, 160, 80, 40, 20, 10, 5, 16, 8],\n",
       " [16, 8, 4, 2, 1, 4, 2, 1, 4, 2, 1, 4, 2, 1, 4],\n",
       " [17, 52, 26, 13, 40, 20, 10, 5, 16, 8, 4, 2, 1, 4, 2],\n",
       " [18, 9, 28, 14, 7, 22, 11, 34, 17, 52, 26, 13, 40, 20, 10],\n",
       " [19, 58, 29, 88, 44, 22, 11, 34, 17, 52, 26, 13, 40, 20, 10]]"
      ]
     },
     "execution_count": 54,
     "metadata": {},
     "output_type": "execute_result"
    }
   ],
   "source": [
    "[list(take(collatz(n), 15)) for n in range(1, 20)]"
   ]
  },
  {
   "cell_type": "markdown",
   "metadata": {},
   "source": [
    "## Fibonacci numbers\n",
    "\n",
    "Directly from https://docs.python.org/3/library/functools.html#functools.cache:"
   ]
  },
  {
   "cell_type": "code",
   "execution_count": 55,
   "metadata": {},
   "outputs": [],
   "source": [
    "@functools.lru_cache()\n",
    "def factorial(n):\n",
    "    print('•', end='')\n",
    "    return n * factorial(n-1) if n else 1"
   ]
  },
  {
   "cell_type": "markdown",
   "metadata": {},
   "source": [
    "no previously cached result, makes 11 recursive calls (count the • symbols)"
   ]
  },
  {
   "cell_type": "code",
   "execution_count": 56,
   "metadata": {},
   "outputs": [
    {
     "name": "stdout",
     "output_type": "stream",
     "text": [
      "•••••••••••"
     ]
    },
    {
     "data": {
      "text/plain": [
       "3628800"
      ]
     },
     "execution_count": 56,
     "metadata": {},
     "output_type": "execute_result"
    }
   ],
   "source": [
    "factorial(10)"
   ]
  },
  {
   "cell_type": "markdown",
   "metadata": {},
   "source": [
    "just looks up cached value result"
   ]
  },
  {
   "cell_type": "code",
   "execution_count": 57,
   "metadata": {},
   "outputs": [
    {
     "data": {
      "text/plain": [
       "120"
      ]
     },
     "execution_count": 57,
     "metadata": {},
     "output_type": "execute_result"
    }
   ],
   "source": [
    "factorial(5)"
   ]
  },
  {
   "cell_type": "markdown",
   "metadata": {},
   "source": [
    "makes two new recursive calls, the other 10 are cached"
   ]
  },
  {
   "cell_type": "code",
   "execution_count": 58,
   "metadata": {},
   "outputs": [
    {
     "name": "stdout",
     "output_type": "stream",
     "text": [
      "••"
     ]
    },
    {
     "data": {
      "text/plain": [
       "479001600"
      ]
     },
     "execution_count": 58,
     "metadata": {},
     "output_type": "execute_result"
    }
   ],
   "source": [
    "factorial(12)"
   ]
  },
  {
   "cell_type": "markdown",
   "metadata": {},
   "source": [
    "## Uniform `random` on segmented interval\n",
    "\n",
    "The problem here reads as follow: sample uniformly from $[a, b)$ and $[c, d)$ where $b <= c$. <br>Eventually, try to generate to an arbitrary sequence of `slice`s, assuming they are fed in sorted order with respect to `<`."
   ]
  },
  {
   "cell_type": "code",
   "execution_count": 59,
   "metadata": {},
   "outputs": [
    {
     "name": "stdout",
     "output_type": "stream",
     "text": [
      "Help on built-in function random:\n",
      "\n",
      "random() method of random.Random instance\n",
      "    random() -> x in the interval [0, 1).\n",
      "\n"
     ]
    }
   ],
   "source": [
    "help(random.random)"
   ]
  },
  {
   "cell_type": "code",
   "execution_count": 60,
   "metadata": {},
   "outputs": [],
   "source": [
    "def samples(*slices):\n",
    "    \n",
    "    step = 1/len(slices)\n",
    "    \n",
    "    steps = itertools.count(step, step)\n",
    "    bins = [(s, sl) for sl, s in zip(slices, steps)]\n",
    "    \n",
    "    while True:\n",
    "        r = random.random()\n",
    "        i = bisect.bisect_left(bins, (r, None))\n",
    "        sl = slices[i]\n",
    "        yield abs(sl.stop - sl.start) * (r - (i*step))/step + sl.start"
   ]
  },
  {
   "cell_type": "code",
   "execution_count": 61,
   "metadata": {},
   "outputs": [
    {
     "data": {
      "text/plain": [
       "<generator object samples at 0x7f888f74ceb0>"
      ]
     },
     "execution_count": 61,
     "metadata": {},
     "output_type": "execute_result"
    }
   ],
   "source": [
    "samples(slice(10, 20), slice(35, 40))"
   ]
  },
  {
   "cell_type": "markdown",
   "metadata": {},
   "source": [
    "Then define the generator with respect to $[10, 20)$ and $[35, 40)$"
   ]
  },
  {
   "cell_type": "code",
   "execution_count": 62,
   "metadata": {},
   "outputs": [],
   "source": [
    "observations = take(samples(slice(10, 20), slice(35, 40)), 1000000)"
   ]
  },
  {
   "cell_type": "markdown",
   "metadata": {},
   "source": [
    "have a look at some observations"
   ]
  },
  {
   "cell_type": "code",
   "execution_count": 63,
   "metadata": {},
   "outputs": [
    {
     "data": {
      "text/plain": [
       "[10.01089874111141,\n",
       " 10.300014738992099,\n",
       " 10.601651784495772,\n",
       " 10.83760672739692,\n",
       " 11.1910221033771,\n",
       " 11.197868058821534,\n",
       " 11.404469991198518,\n",
       " 11.460766876673958,\n",
       " 11.467971067768483,\n",
       " 11.742883967043403,\n",
       " 11.802343459238605,\n",
       " 11.813410749836788,\n",
       " 11.88246912458437,\n",
       " 12.00665504367766,\n",
       " 12.0209261791341,\n",
       " 12.330159752794112,\n",
       " 12.359833588391016,\n",
       " 12.619341674332393,\n",
       " 13.149881902803248,\n",
       " 13.553562563967322,\n",
       " 13.693206877097532,\n",
       " 13.804165255958583,\n",
       " 13.813688305807322,\n",
       " 14.194348294592222,\n",
       " 14.214204428688788,\n",
       " 14.257313460181788,\n",
       " 14.264867371550451,\n",
       " 14.59331803215811,\n",
       " 14.838860273304295,\n",
       " 14.860258402751247,\n",
       " 14.927758977862599,\n",
       " 15.165551157232409,\n",
       " 15.395511737002854,\n",
       " 15.395899543811966,\n",
       " 15.563257993277716,\n",
       " 15.780798946284042,\n",
       " 15.926495251978928,\n",
       " 16.06802525249051,\n",
       " 16.08290299741979,\n",
       " 16.305544340311,\n",
       " 16.579108510954597,\n",
       " 16.651712509266957,\n",
       " 17.73027063411869,\n",
       " 17.885492741441087,\n",
       " 17.948487761585625,\n",
       " 18.007996098369823,\n",
       " 18.415112344928417,\n",
       " 18.810622333133136,\n",
       " 18.94849755002043,\n",
       " 19.047591070196372,\n",
       " 19.146597631991153,\n",
       " 19.27868922446569,\n",
       " 19.313001401995464,\n",
       " 19.399745520273328,\n",
       " 19.995463044135832,\n",
       " 35.07841273062271,\n",
       " 35.119086390418055,\n",
       " 35.19124114764077,\n",
       " 35.283812661704786,\n",
       " 35.59295141610395,\n",
       " 35.59772386080496,\n",
       " 35.82734798167552,\n",
       " 35.87384828849897,\n",
       " 36.01283843581939,\n",
       " 36.15562704578571,\n",
       " 36.29454912234024,\n",
       " 36.29882720216802,\n",
       " 36.402917079191774,\n",
       " 36.4183565659046,\n",
       " 36.43715123711167,\n",
       " 36.53922533533841,\n",
       " 36.62449531890368,\n",
       " 36.934384825412394,\n",
       " 37.078096214979496,\n",
       " 37.3189421571435,\n",
       " 37.58040516993759,\n",
       " 37.66287886410407,\n",
       " 37.72689689772823,\n",
       " 37.78510858676651,\n",
       " 37.92976872519952,\n",
       " 37.97021511843974,\n",
       " 38.034115030820715,\n",
       " 38.096445343671775,\n",
       " 38.40215549492862,\n",
       " 38.42427128518532,\n",
       " 38.46583621881179,\n",
       " 38.47309773302804,\n",
       " 38.5437690170123,\n",
       " 38.84865112748971,\n",
       " 39.102719281041814,\n",
       " 39.24210584023729,\n",
       " 39.58042383319813,\n",
       " 39.640762165937645,\n",
       " 39.647577811255665,\n",
       " 39.709290562186915,\n",
       " 39.80358941174292,\n",
       " 39.82193420798778,\n",
       " 39.89301697510172,\n",
       " 39.956916416561995,\n",
       " 39.97656200463084]"
      ]
     },
     "execution_count": 63,
     "metadata": {},
     "output_type": "execute_result"
    }
   ],
   "source": [
    "sorted([i for _, i in zip(range(100), observations)])"
   ]
  },
  {
   "cell_type": "markdown",
   "metadata": {},
   "source": [
    "then observe the quantiles:"
   ]
  },
  {
   "cell_type": "code",
   "execution_count": 64,
   "metadata": {},
   "outputs": [
    {
     "data": {
      "text/plain": [
       "[14.985642471160405, 19.985354416460936, 37.49597915696282]"
      ]
     },
     "execution_count": 64,
     "metadata": {},
     "output_type": "execute_result"
    }
   ],
   "source": [
    "statistics.quantiles(observations)"
   ]
  },
  {
   "cell_type": "markdown",
   "metadata": {},
   "source": [
    "it looks uniform. By the way, use different intervals, $[14, 20)$ and $[35,40)$,"
   ]
  },
  {
   "cell_type": "code",
   "execution_count": 65,
   "metadata": {},
   "outputs": [],
   "source": [
    "observations = take(samples(slice(14, 20), slice(35, 40)), 1000000)"
   ]
  },
  {
   "cell_type": "markdown",
   "metadata": {},
   "source": [
    "look again at some observations,"
   ]
  },
  {
   "cell_type": "code",
   "execution_count": 66,
   "metadata": {},
   "outputs": [
    {
     "data": {
      "text/plain": [
       "[14.014619663597463,\n",
       " 14.052438519792538,\n",
       " 14.132675986671885,\n",
       " 14.365572869327819,\n",
       " 14.375279651043002,\n",
       " 14.44005687888616,\n",
       " 14.494164154855097,\n",
       " 14.52365935169827,\n",
       " 14.75495260607719,\n",
       " 15.010419226971491,\n",
       " 15.087980162635876,\n",
       " 15.1521083235012,\n",
       " 15.535534625198157,\n",
       " 15.561348870019186,\n",
       " 15.566597002913658,\n",
       " 15.901528022924364,\n",
       " 15.905917212697016,\n",
       " 15.991399993945283,\n",
       " 16.110867407949364,\n",
       " 16.18995183090716,\n",
       " 16.35613893522816,\n",
       " 16.36937349290418,\n",
       " 16.447222854087045,\n",
       " 16.4543077391816,\n",
       " 16.682461924694984,\n",
       " 17.05059846735326,\n",
       " 17.237752433229527,\n",
       " 17.34808057156958,\n",
       " 17.441144893103193,\n",
       " 17.459483446565894,\n",
       " 17.53415548556346,\n",
       " 17.662529093751296,\n",
       " 17.920664038903396,\n",
       " 17.930288584380648,\n",
       " 18.183673786496605,\n",
       " 18.342478974997196,\n",
       " 18.44297582937519,\n",
       " 18.457021424020276,\n",
       " 18.63991829104162,\n",
       " 18.93728551640552,\n",
       " 19.126223958247124,\n",
       " 19.25030747898533,\n",
       " 19.33506588429524,\n",
       " 19.338155055318495,\n",
       " 19.4437737017626,\n",
       " 19.5540907356674,\n",
       " 19.623060350639307,\n",
       " 19.719343270455752,\n",
       " 35.02078724359754,\n",
       " 35.235647780621505,\n",
       " 35.257710505765345,\n",
       " 35.28149211664586,\n",
       " 35.42464501543233,\n",
       " 35.434974133758494,\n",
       " 35.58950458392653,\n",
       " 35.73955452489873,\n",
       " 35.87230694927965,\n",
       " 35.977198220424725,\n",
       " 35.97983504690883,\n",
       " 36.03966413535634,\n",
       " 36.127094105156154,\n",
       " 36.24441984164987,\n",
       " 36.45366128404488,\n",
       " 36.45996739072744,\n",
       " 36.490585885249324,\n",
       " 36.52351123762731,\n",
       " 36.73029767125007,\n",
       " 36.78316801910921,\n",
       " 36.824232661191004,\n",
       " 36.850903807324194,\n",
       " 36.86760032803637,\n",
       " 36.96814420109811,\n",
       " 37.14153751706439,\n",
       " 37.17232149067439,\n",
       " 37.344432854880054,\n",
       " 37.3795170088498,\n",
       " 37.38949047587039,\n",
       " 37.39666838075184,\n",
       " 37.568793902606686,\n",
       " 37.62586704298228,\n",
       " 37.6587283288162,\n",
       " 37.67061065943729,\n",
       " 37.683304392292136,\n",
       " 37.87822414718431,\n",
       " 38.12269154653974,\n",
       " 38.14910848772875,\n",
       " 38.601038844172386,\n",
       " 38.72800837251255,\n",
       " 38.754685780276105,\n",
       " 38.852797234248655,\n",
       " 38.865949513024425,\n",
       " 38.89421834913099,\n",
       " 39.02607352151885,\n",
       " 39.08871300935788,\n",
       " 39.36844507073667,\n",
       " 39.59463646837225,\n",
       " 39.79662095320597,\n",
       " 39.85196919188511,\n",
       " 39.9253964264206,\n",
       " 39.94398455523737]"
      ]
     },
     "execution_count": 66,
     "metadata": {},
     "output_type": "execute_result"
    }
   ],
   "source": [
    "sorted([i for _, i in zip(range(100), observations)])"
   ]
  },
  {
   "cell_type": "markdown",
   "metadata": {},
   "source": [
    "and check the corresponding quantiles"
   ]
  },
  {
   "cell_type": "code",
   "execution_count": 67,
   "metadata": {},
   "outputs": [
    {
     "data": {
      "text/plain": [
       "[16.99686785974616, 19.995166578121935, 37.49720072901549]"
      ]
     },
     "execution_count": 67,
     "metadata": {},
     "output_type": "execute_result"
    }
   ],
   "source": [
    "statistics.quantiles(observations)"
   ]
  },
  {
   "cell_type": "markdown",
   "metadata": {},
   "source": [
    "it should be uniform too. Finally, we test the corner case where $b=c$, so let $[10, 20)$ and $[20,40)$,"
   ]
  },
  {
   "cell_type": "code",
   "execution_count": 68,
   "metadata": {},
   "outputs": [],
   "source": [
    "observations = take(samples(slice(10, 20), slice(20, 40)), 1000000)"
   ]
  },
  {
   "cell_type": "markdown",
   "metadata": {},
   "source": [
    "look again at some observations,"
   ]
  },
  {
   "cell_type": "code",
   "execution_count": 69,
   "metadata": {},
   "outputs": [
    {
     "data": {
      "text/plain": [
       "[10.220506993337498,\n",
       " 10.260587558652016,\n",
       " 10.484692070122366,\n",
       " 10.62014082107819,\n",
       " 10.716907216811817,\n",
       " 11.059578641204899,\n",
       " 11.32138100417417,\n",
       " 11.593818846366288,\n",
       " 11.642898373028407,\n",
       " 11.835380635908852,\n",
       " 12.07497873143257,\n",
       " 12.311092872785627,\n",
       " 12.372471556874899,\n",
       " 12.528741487909699,\n",
       " 12.533954399994427,\n",
       " 12.698873438533695,\n",
       " 13.176279836528684,\n",
       " 13.586525086627985,\n",
       " 13.944379662183836,\n",
       " 13.959184739901707,\n",
       " 13.981153287065515,\n",
       " 14.000895353339368,\n",
       " 14.058731861028168,\n",
       " 14.06078869093613,\n",
       " 14.32800749089486,\n",
       " 14.588117887042511,\n",
       " 14.875747659228065,\n",
       " 15.257663006055465,\n",
       " 15.650659914540373,\n",
       " 15.847275824883377,\n",
       " 15.870874283684405,\n",
       " 15.88897040706754,\n",
       " 16.036639838802042,\n",
       " 16.05278288507251,\n",
       " 16.07164428762117,\n",
       " 16.289567316081033,\n",
       " 16.683463413688443,\n",
       " 16.888605068446786,\n",
       " 16.972846407265372,\n",
       " 17.050176440112484,\n",
       " 17.258915139395995,\n",
       " 17.371893542101574,\n",
       " 17.43299587297839,\n",
       " 17.51624465788484,\n",
       " 17.735319262220383,\n",
       " 17.84305048818223,\n",
       " 18.350336100137756,\n",
       " 18.64892714276403,\n",
       " 18.66760390953786,\n",
       " 18.94398065178452,\n",
       " 19.300495933227964,\n",
       " 20.12528469847449,\n",
       " 20.46142735180286,\n",
       " 20.86206580281022,\n",
       " 20.874500574482518,\n",
       " 21.750626829185087,\n",
       " 22.14390267598317,\n",
       " 22.75002173984211,\n",
       " 23.03725623526333,\n",
       " 23.041720287639468,\n",
       " 23.429201186117467,\n",
       " 23.585585621517072,\n",
       " 23.86788816158681,\n",
       " 24.39871179038679,\n",
       " 24.795985333846097,\n",
       " 25.279989200242422,\n",
       " 26.191697703699198,\n",
       " 26.44319296558182,\n",
       " 26.64426643575196,\n",
       " 27.479813164813667,\n",
       " 28.05941553643912,\n",
       " 28.26350413240277,\n",
       " 29.581648917089623,\n",
       " 29.61444785911453,\n",
       " 30.570688568364677,\n",
       " 31.140643196178605,\n",
       " 31.25175270850296,\n",
       " 31.343246396675582,\n",
       " 31.465988526059693,\n",
       " 31.977260863350544,\n",
       " 32.04815155247824,\n",
       " 32.68910230586178,\n",
       " 33.079261228352046,\n",
       " 34.016272659494696,\n",
       " 34.1427648058461,\n",
       " 34.389409078180506,\n",
       " 36.75237185013329,\n",
       " 37.10573818453108,\n",
       " 37.12639843651299,\n",
       " 37.181866718717146,\n",
       " 37.51981144842088,\n",
       " 37.70913241796731,\n",
       " 37.717163298513995,\n",
       " 37.97101359549681,\n",
       " 38.06407228243324,\n",
       " 38.76122108931287,\n",
       " 39.000838867618455,\n",
       " 39.65637566563923,\n",
       " 39.74648436772389,\n",
       " 39.894486209722814]"
      ]
     },
     "execution_count": 69,
     "metadata": {},
     "output_type": "execute_result"
    }
   ],
   "source": [
    "sorted([i for _, i in zip(range(100), observations)])"
   ]
  },
  {
   "cell_type": "markdown",
   "metadata": {},
   "source": [
    "and check the corresponding quantiles"
   ]
  },
  {
   "cell_type": "code",
   "execution_count": 70,
   "metadata": {},
   "outputs": [
    {
     "data": {
      "text/plain": [
       "[15.020045145603692, 20.03656438037431, 30.019022307929152]"
      ]
     },
     "execution_count": 70,
     "metadata": {},
     "output_type": "execute_result"
    }
   ],
   "source": [
    "statistics.quantiles(observations)"
   ]
  },
  {
   "cell_type": "markdown",
   "metadata": {},
   "source": [
    "it should be uniform either. Finally, attempt a sampling from `4` slices,"
   ]
  },
  {
   "cell_type": "code",
   "execution_count": 71,
   "metadata": {},
   "outputs": [],
   "source": [
    "observations = take(samples(slice(0, 5), slice(10, 15), slice(20, 25), slice(30, 35)), 1000000)"
   ]
  },
  {
   "cell_type": "markdown",
   "metadata": {},
   "source": [
    "look again at some observations,"
   ]
  },
  {
   "cell_type": "code",
   "execution_count": 72,
   "metadata": {},
   "outputs": [
    {
     "data": {
      "text/plain": [
       "[0.31380424920689043,\n",
       " 0.46171329548710505,\n",
       " 0.5809908902109329,\n",
       " 0.6010442620481715,\n",
       " 0.6887497588823455,\n",
       " 1.7254181853171602,\n",
       " 1.8271470660681088,\n",
       " 2.0481029382989546,\n",
       " 2.2471391668540175,\n",
       " 2.2549353500678992,\n",
       " 3.291409198290818,\n",
       " 3.4459073192196366,\n",
       " 3.647656459473969,\n",
       " 3.691047155812428,\n",
       " 4.123566779005962,\n",
       " 4.25518948312511,\n",
       " 4.593942703385368,\n",
       " 4.623470344617491,\n",
       " 4.927910999580658,\n",
       " 4.997354137841135,\n",
       " 10.07911660703169,\n",
       " 10.254978796163634,\n",
       " 10.490485665792912,\n",
       " 11.054516405276523,\n",
       " 11.211737952532603,\n",
       " 11.45623976041808,\n",
       " 11.60260157794309,\n",
       " 11.708890288498583,\n",
       " 11.710077039622028,\n",
       " 11.799231504229418,\n",
       " 12.03219517748649,\n",
       " 12.035293496546648,\n",
       " 12.105031263186536,\n",
       " 12.15323736571159,\n",
       " 12.268230511881487,\n",
       " 12.65993734676487,\n",
       " 12.737092627327328,\n",
       " 12.923510931274123,\n",
       " 13.008737081309608,\n",
       " 13.327399174343233,\n",
       " 13.453592676932015,\n",
       " 13.866526144133722,\n",
       " 14.123455082492187,\n",
       " 14.208087607316337,\n",
       " 14.577220917544247,\n",
       " 14.668265482140114,\n",
       " 20.16622603379456,\n",
       " 20.196788986994257,\n",
       " 20.42486357873761,\n",
       " 20.56683377208248,\n",
       " 21.22079055657177,\n",
       " 21.69996805446689,\n",
       " 21.88577771911336,\n",
       " 21.962891601792883,\n",
       " 22.03882568164739,\n",
       " 22.099486163058046,\n",
       " 22.198700736742005,\n",
       " 22.35490569770986,\n",
       " 22.408535739641955,\n",
       " 22.464447861807745,\n",
       " 23.11407434829636,\n",
       " 23.20443932438646,\n",
       " 23.360841985036092,\n",
       " 23.416465699558955,\n",
       " 23.426707076092853,\n",
       " 23.460607292367335,\n",
       " 23.536825387311424,\n",
       " 23.682155329333984,\n",
       " 23.789000983997582,\n",
       " 23.80205677267765,\n",
       " 24.33462907704822,\n",
       " 24.61305134877459,\n",
       " 24.947139080703636,\n",
       " 24.971709988499857,\n",
       " 30.276125897672962,\n",
       " 30.281484376382416,\n",
       " 30.306901588912826,\n",
       " 30.817452469116336,\n",
       " 31.013070224830447,\n",
       " 31.184367702548442,\n",
       " 31.759194550093298,\n",
       " 31.834065783582197,\n",
       " 31.873836952359216,\n",
       " 32.01770532574806,\n",
       " 32.06845448192055,\n",
       " 32.41331640659681,\n",
       " 32.446910237066085,\n",
       " 32.52552975176491,\n",
       " 32.64456279830529,\n",
       " 32.653192173300894,\n",
       " 32.80044163780898,\n",
       " 33.308853046448334,\n",
       " 33.4209022620311,\n",
       " 33.6355041822751,\n",
       " 33.911075150737,\n",
       " 34.0701398671635,\n",
       " 34.294102899388164,\n",
       " 34.41537711418714,\n",
       " 34.91263601614765,\n",
       " 34.96005689510007]"
      ]
     },
     "execution_count": 72,
     "metadata": {},
     "output_type": "execute_result"
    }
   ],
   "source": [
    "sorted([i for _, i in zip(range(100), observations)])"
   ]
  },
  {
   "cell_type": "markdown",
   "metadata": {},
   "source": [
    "and check the corresponding quantiles"
   ]
  },
  {
   "cell_type": "code",
   "execution_count": 73,
   "metadata": {},
   "outputs": [
    {
     "data": {
      "text/plain": [
       "[10.001575037417881, 20.000883532976324, 30.010509834567223]"
      ]
     },
     "execution_count": 73,
     "metadata": {},
     "output_type": "execute_result"
    }
   ],
   "source": [
    "statistics.quantiles(observations)"
   ]
  },
  {
   "cell_type": "markdown",
   "metadata": {},
   "source": [
    "it should be uniform either."
   ]
  },
  {
   "cell_type": "markdown",
   "metadata": {},
   "source": [
    "## Bernoulli random variable"
   ]
  },
  {
   "cell_type": "code",
   "execution_count": 74,
   "metadata": {},
   "outputs": [
    {
     "data": {
      "text/plain": [
       "1"
      ]
     },
     "execution_count": 74,
     "metadata": {},
     "output_type": "execute_result"
    }
   ],
   "source": [
    "int(True) # this is a very quick check to see if a Boolean can be used as integer"
   ]
  },
  {
   "cell_type": "code",
   "execution_count": 75,
   "metadata": {},
   "outputs": [],
   "source": [
    "def Bernoulli(p):\n",
    "    'This is a generator for a Bernoulli random variable of parameter `p` for success.'\n",
    "    \n",
    "    while True:              # forever we loop\n",
    "        r = random.random()  # get a sample\n",
    "        yield int(r < p)     # if that sample denotes a success or a failure we *yield* that outcome"
   ]
  },
  {
   "cell_type": "code",
   "execution_count": 76,
   "metadata": {},
   "outputs": [
    {
     "data": {
      "text/plain": [
       "<generator object Bernoulli at 0x7f888f769660>"
      ]
     },
     "execution_count": 76,
     "metadata": {},
     "output_type": "execute_result"
    }
   ],
   "source": [
    "B = Bernoulli(p=0.6) # B is our random variable\n",
    "B"
   ]
  },
  {
   "cell_type": "code",
   "execution_count": 77,
   "metadata": {},
   "outputs": [
    {
     "data": {
      "text/plain": [
       "1"
      ]
     },
     "execution_count": 77,
     "metadata": {},
     "output_type": "execute_result"
    }
   ],
   "source": [
    "next(B)"
   ]
  },
  {
   "cell_type": "code",
   "execution_count": 78,
   "metadata": {},
   "outputs": [
    {
     "data": {
      "text/plain": [
       "0"
      ]
     },
     "execution_count": 78,
     "metadata": {},
     "output_type": "execute_result"
    }
   ],
   "source": [
    "next(B)"
   ]
  },
  {
   "cell_type": "code",
   "execution_count": 79,
   "metadata": {},
   "outputs": [
    {
     "data": {
      "text/plain": [
       "1"
      ]
     },
     "execution_count": 79,
     "metadata": {},
     "output_type": "execute_result"
    }
   ],
   "source": [
    "next(B)"
   ]
  },
  {
   "cell_type": "code",
   "execution_count": 80,
   "metadata": {},
   "outputs": [
    {
     "data": {
      "text/plain": [
       "0"
      ]
     },
     "execution_count": 80,
     "metadata": {},
     "output_type": "execute_result"
    }
   ],
   "source": [
    "next(B)"
   ]
  },
  {
   "cell_type": "code",
   "execution_count": 81,
   "metadata": {},
   "outputs": [
    {
     "data": {
      "text/plain": [
       "[1, 1, 1, 1, 1, 0, 1, 1, 1, 0, 0, 1, 0, 1, 1, 0, 0, 0, 0, 0]"
      ]
     },
     "execution_count": 81,
     "metadata": {},
     "output_type": "execute_result"
    }
   ],
   "source": [
    "list(take(B, 20))"
   ]
  },
  {
   "cell_type": "code",
   "execution_count": 82,
   "metadata": {},
   "outputs": [
    {
     "data": {
      "text/plain": [
       "Counter({1: 599560, 0: 400440})"
      ]
     },
     "execution_count": 82,
     "metadata": {},
     "output_type": "execute_result"
    }
   ],
   "source": [
    "C = collections.Counter(take(B, 1_000_000))\n",
    "C"
   ]
  },
  {
   "cell_type": "code",
   "execution_count": 83,
   "metadata": {},
   "outputs": [
    {
     "data": {
      "text/plain": [
       "0.59956"
      ]
     },
     "execution_count": 83,
     "metadata": {},
     "output_type": "execute_result"
    }
   ],
   "source": [
    "C[1]/(C[0]+C[1])"
   ]
  },
  {
   "cell_type": "markdown",
   "metadata": {},
   "source": [
    "where"
   ]
  },
  {
   "cell_type": "code",
   "execution_count": 84,
   "metadata": {
    "scrolled": false
   },
   "outputs": [
    {
     "name": "stdout",
     "output_type": "stream",
     "text": [
      "Dict subclass for counting hashable items.  Sometimes called a bag\n",
      "    or multiset.  Elements are stored as dictionary keys and their counts\n",
      "    are stored as dictionary values.\n",
      "\n",
      "    >>> c = Counter('abcdeabcdabcaba')  # count elements from a string\n",
      "\n",
      "    >>> c.most_common(3)                # three most common elements\n",
      "    [('a', 5), ('b', 4), ('c', 3)]\n",
      "    >>> sorted(c)                       # list all unique elements\n",
      "    ['a', 'b', 'c', 'd', 'e']\n",
      "    >>> ''.join(sorted(c.elements()))   # list elements with repetitions\n",
      "    'aaaaabbbbcccdde'\n",
      "    >>> sum(c.values())                 # total of all counts\n",
      "    15\n",
      "\n",
      "    >>> c['a']                          # count of letter 'a'\n",
      "    5\n",
      "    >>> for elem in 'shazam':           # update counts from an iterable\n",
      "    ...     c[elem] += 1                # by adding 1 to each element's count\n",
      "    >>> c['a']                          # now there are seven 'a'\n",
      "    7\n",
      "    >>> del c['b']                      # remove all 'b'\n",
      "    >>> c['b']                          # now there are zero 'b'\n",
      "    0\n",
      "\n",
      "    >>> d = Counter('simsalabim')       # make another counter\n",
      "    >>> c.update(d)                     # add in the second counter\n",
      "    >>> c['a']                          # now there are nine 'a'\n",
      "    9\n",
      "\n",
      "    >>> c.clear()                       # empty the counter\n",
      "    >>> c\n",
      "    Counter()\n",
      "\n",
      "    Note:  If a count is set to zero or reduced to zero, it will remain\n",
      "    in the counter until the entry is deleted or the counter is cleared:\n",
      "\n",
      "    >>> c = Counter('aaabbc')\n",
      "    >>> c['b'] -= 2                     # reduce the count of 'b' by two\n",
      "    >>> c.most_common()                 # 'b' is still in, but its count is zero\n",
      "    [('a', 3), ('c', 1), ('b', 0)]\n",
      "\n",
      "    \n"
     ]
    }
   ],
   "source": [
    "print(collections.Counter.__doc__)"
   ]
  },
  {
   "cell_type": "markdown",
   "metadata": {},
   "source": [
    "## Russian Peasant Multiplication\n",
    "\n",
    "Let"
   ]
  },
  {
   "cell_type": "code",
   "execution_count": 85,
   "metadata": {},
   "outputs": [],
   "source": [
    "def halves_doubles(n, m):\n",
    "    halving = n\n",
    "    doubling = m\n",
    "    acc = 0\n",
    "    while halving:\n",
    "        digit = halving % 2 \n",
    "        acc = acc + digit * doubling\n",
    "        yield (digit, halving, doubling, acc)\n",
    "        halving = halving >> 1\n",
    "        doubling = doubling << 1"
   ]
  },
  {
   "cell_type": "markdown",
   "metadata": {},
   "source": [
    "in"
   ]
  },
  {
   "cell_type": "code",
   "execution_count": 86,
   "metadata": {},
   "outputs": [
    {
     "data": {
      "text/plain": [
       "[(1, 89, 18, 18),\n",
       " (0, 44, 36, 18),\n",
       " (0, 22, 72, 18),\n",
       " (1, 11, 144, 162),\n",
       " (1, 5, 288, 450),\n",
       " (0, 2, 576, 450),\n",
       " (1, 1, 1152, 1602)]"
      ]
     },
     "execution_count": 86,
     "metadata": {},
     "output_type": "execute_result"
    }
   ],
   "source": [
    "list(halves_doubles(89, 18))"
   ]
  },
  {
   "cell_type": "markdown",
   "metadata": {},
   "source": [
    "see https://en.wikipedia.org/wiki/Ancient_Egyptian_multiplication and also https://www.cut-the-knot.org/Curriculum/Algebra/PeasantMultiplication.shtml. Then,"
   ]
  },
  {
   "cell_type": "code",
   "execution_count": 87,
   "metadata": {},
   "outputs": [],
   "source": [
    "def rpm(n, m):\n",
    "    *prefix, (b, h, d, s) = halves_doubles(n, m)\n",
    "    return s"
   ]
  },
  {
   "cell_type": "markdown",
   "metadata": {},
   "source": [
    "so the check passes,"
   ]
  },
  {
   "cell_type": "code",
   "execution_count": 88,
   "metadata": {},
   "outputs": [],
   "source": [
    "assert rpm(89, 18) == 89 * 18 == 1602"
   ]
  },
  {
   "cell_type": "markdown",
   "metadata": {},
   "source": [
    "because"
   ]
  },
  {
   "cell_type": "code",
   "execution_count": 89,
   "metadata": {},
   "outputs": [
    {
     "data": {
      "text/plain": [
       "'0b1011001'"
      ]
     },
     "execution_count": 89,
     "metadata": {},
     "output_type": "execute_result"
    }
   ],
   "source": [
    "bin(89)"
   ]
  },
  {
   "cell_type": "markdown",
   "metadata": {},
   "source": [
    "Of course, it works too when the first number is even,"
   ]
  },
  {
   "cell_type": "code",
   "execution_count": 90,
   "metadata": {},
   "outputs": [
    {
     "data": {
      "text/plain": [
       "600"
      ]
     },
     "execution_count": 90,
     "metadata": {},
     "output_type": "execute_result"
    }
   ],
   "source": [
    "rpm(6, 100)"
   ]
  },
  {
   "cell_type": "markdown",
   "metadata": {},
   "source": [
    "Of course our implementation"
   ]
  },
  {
   "cell_type": "code",
   "execution_count": 91,
   "metadata": {},
   "outputs": [
    {
     "name": "stdout",
     "output_type": "stream",
     "text": [
      "30 µs ± 178 ns per loop (mean ± std. dev. of 7 runs, 10000 loops each)\n"
     ]
    }
   ],
   "source": [
    "%timeit rpm(293819385789379687596845, 921038209831568476843584365)"
   ]
  },
  {
   "cell_type": "markdown",
   "metadata": {},
   "source": [
    "is *slower* than the primitive one"
   ]
  },
  {
   "cell_type": "code",
   "execution_count": 92,
   "metadata": {},
   "outputs": [
    {
     "name": "stdout",
     "output_type": "stream",
     "text": [
      "96.9 ns ± 0.415 ns per loop (mean ± std. dev. of 7 runs, 10000000 loops each)\n"
     ]
    }
   ],
   "source": [
    "%timeit 293819385789379687596845 * 921038209831568476843584365"
   ]
  },
  {
   "cell_type": "markdown",
   "metadata": {},
   "source": [
    "because arithmetic is performed in the virtual machine."
   ]
  },
  {
   "cell_type": "markdown",
   "metadata": {},
   "source": [
    "Let us give a strict version also,"
   ]
  },
  {
   "cell_type": "code",
   "execution_count": 93,
   "metadata": {},
   "outputs": [],
   "source": [
    "def rpm_strict(n, m):\n",
    "    halving = n\n",
    "    doubling = m\n",
    "    acc = 0\n",
    "    while halving:\n",
    "        digit = halving % 2 \n",
    "        acc = acc + digit * doubling\n",
    "        halving = halving >> 1\n",
    "        doubling = doubling << 1\n",
    "    return acc"
   ]
  },
  {
   "cell_type": "markdown",
   "metadata": {},
   "source": [
    "check that it is correct,"
   ]
  },
  {
   "cell_type": "code",
   "execution_count": 94,
   "metadata": {},
   "outputs": [
    {
     "data": {
      "text/plain": [
       "1602"
      ]
     },
     "execution_count": 94,
     "metadata": {},
     "output_type": "execute_result"
    }
   ],
   "source": [
    "rpm_strict(89, 18)"
   ]
  },
  {
   "cell_type": "markdown",
   "metadata": {},
   "source": [
    "and observe that it is a little bit *faster* than our former implementation"
   ]
  },
  {
   "cell_type": "code",
   "execution_count": 95,
   "metadata": {},
   "outputs": [
    {
     "name": "stdout",
     "output_type": "stream",
     "text": [
      "22.9 µs ± 62.6 ns per loop (mean ± std. dev. of 7 runs, 10000 loops each)\n"
     ]
    }
   ],
   "source": [
    "%timeit rpm_strict(293819385789379687596845, 921038209831568476843584365)"
   ]
  },
  {
   "cell_type": "markdown",
   "metadata": {},
   "source": [
    "## Fixed sum"
   ]
  },
  {
   "cell_type": "code",
   "execution_count": 96,
   "metadata": {},
   "outputs": [],
   "source": [
    "def subarrays(L):\n",
    "   return (L[i:j] for i in range(len(L)) for j in range(i, len(L)+1))"
   ]
  },
  {
   "cell_type": "code",
   "execution_count": 97,
   "metadata": {},
   "outputs": [],
   "source": [
    "L = [-1, 5, 8, -9, 4, 1]"
   ]
  },
  {
   "cell_type": "code",
   "execution_count": 98,
   "metadata": {},
   "outputs": [
    {
     "data": {
      "text/plain": [
       "[[],\n",
       " [-1],\n",
       " [-1, 5],\n",
       " [-1, 5, 8],\n",
       " [-1, 5, 8, -9],\n",
       " [-1, 5, 8, -9, 4],\n",
       " [-1, 5, 8, -9, 4, 1],\n",
       " [],\n",
       " [5],\n",
       " [5, 8],\n",
       " [5, 8, -9],\n",
       " [5, 8, -9, 4],\n",
       " [5, 8, -9, 4, 1],\n",
       " [],\n",
       " [8],\n",
       " [8, -9],\n",
       " [8, -9, 4],\n",
       " [8, -9, 4, 1],\n",
       " [],\n",
       " [-9],\n",
       " [-9, 4],\n",
       " [-9, 4, 1],\n",
       " [],\n",
       " [4],\n",
       " [4, 1],\n",
       " [],\n",
       " [1]]"
      ]
     },
     "execution_count": 98,
     "metadata": {},
     "output_type": "execute_result"
    }
   ],
   "source": [
    "list(subarrays(L))"
   ]
  },
  {
   "cell_type": "code",
   "execution_count": 99,
   "metadata": {},
   "outputs": [],
   "source": [
    "def fixed_sum(L, n):\n",
    "    return filter(lambda s: sum(s)==n, subarrays(L))"
   ]
  },
  {
   "cell_type": "code",
   "execution_count": 100,
   "metadata": {},
   "outputs": [
    {
     "data": {
      "text/plain": [
       "[]"
      ]
     },
     "execution_count": 100,
     "metadata": {},
     "output_type": "execute_result"
    }
   ],
   "source": [
    "list(fixed_sum(L, 10))"
   ]
  },
  {
   "cell_type": "code",
   "execution_count": 101,
   "metadata": {},
   "outputs": [],
   "source": [
    "def partial_sums(L):\n",
    "    g = itertools.accumulate(subarrays(L), lambda s, each: s + each[-1] if each else 0, initial=0)\n",
    "    next(g) # to ignore the initial 0 given above\n",
    "    return g"
   ]
  },
  {
   "cell_type": "code",
   "execution_count": 102,
   "metadata": {},
   "outputs": [
    {
     "data": {
      "text/plain": [
       "[0,\n",
       " -1,\n",
       " 4,\n",
       " 12,\n",
       " 3,\n",
       " 7,\n",
       " 8,\n",
       " 0,\n",
       " 5,\n",
       " 13,\n",
       " 4,\n",
       " 8,\n",
       " 9,\n",
       " 0,\n",
       " 8,\n",
       " -1,\n",
       " 3,\n",
       " 4,\n",
       " 0,\n",
       " -9,\n",
       " -5,\n",
       " -4,\n",
       " 0,\n",
       " 4,\n",
       " 5,\n",
       " 0,\n",
       " 1]"
      ]
     },
     "execution_count": 102,
     "metadata": {},
     "output_type": "execute_result"
    }
   ],
   "source": [
    "list(partial_sums(L))"
   ]
  },
  {
   "cell_type": "markdown",
   "metadata": {},
   "source": [
    "Toward an optimization..."
   ]
  },
  {
   "cell_type": "code",
   "execution_count": 103,
   "metadata": {},
   "outputs": [],
   "source": [
    "def subarrays_rev(L):\n",
    "   return (tuple(L[i:j]) for i in range(len(L)-1, -1, -1) for j in range(i+1, len(L)+1))"
   ]
  },
  {
   "cell_type": "code",
   "execution_count": 104,
   "metadata": {},
   "outputs": [
    {
     "data": {
      "text/plain": [
       "[(1,),\n",
       " (4,),\n",
       " (4, 1),\n",
       " (-9,),\n",
       " (-9, 4),\n",
       " (-9, 4, 1),\n",
       " (8,),\n",
       " (8, -9),\n",
       " (8, -9, 4),\n",
       " (8, -9, 4, 1),\n",
       " (5,),\n",
       " (5, 8),\n",
       " (5, 8, -9),\n",
       " (5, 8, -9, 4),\n",
       " (5, 8, -9, 4, 1),\n",
       " (-1,),\n",
       " (-1, 5),\n",
       " (-1, 5, 8),\n",
       " (-1, 5, 8, -9),\n",
       " (-1, 5, 8, -9, 4),\n",
       " (-1, 5, 8, -9, 4, 1)]"
      ]
     },
     "execution_count": 104,
     "metadata": {},
     "output_type": "execute_result"
    }
   ],
   "source": [
    "list(subarrays_rev(L))"
   ]
  },
  {
   "cell_type": "code",
   "execution_count": 105,
   "metadata": {},
   "outputs": [],
   "source": [
    "def fixed_sum_rev(L, n, cache={}):\n",
    "    for tup in subarrays_rev(L):\n",
    "        rest = tup[1:]\n",
    "        s = tup[0] + cache.get(rest, 0)\n",
    "        cache[tup] = s\n",
    "        if s == n: yield tup"
   ]
  },
  {
   "cell_type": "code",
   "execution_count": 106,
   "metadata": {},
   "outputs": [
    {
     "data": {
      "text/plain": [
       "[]"
      ]
     },
     "execution_count": 106,
     "metadata": {},
     "output_type": "execute_result"
    }
   ],
   "source": [
    "cache = {}\n",
    "list(fixed_sum_rev(L, 10, cache))"
   ]
  },
  {
   "cell_type": "code",
   "execution_count": 107,
   "metadata": {},
   "outputs": [
    {
     "data": {
      "text/plain": [
       "{(1,): 1,\n",
       " (4,): 4,\n",
       " (4, 1): 5,\n",
       " (-9,): -9,\n",
       " (-9, 4): -5,\n",
       " (-9, 4, 1): -4,\n",
       " (8,): 8,\n",
       " (8, -9): -1,\n",
       " (8, -9, 4): 3,\n",
       " (8, -9, 4, 1): 4,\n",
       " (5,): 5,\n",
       " (5, 8): 13,\n",
       " (5, 8, -9): 4,\n",
       " (5, 8, -9, 4): 8,\n",
       " (5, 8, -9, 4, 1): 9,\n",
       " (-1,): -1,\n",
       " (-1, 5): 4,\n",
       " (-1, 5, 8): 12,\n",
       " (-1, 5, 8, -9): 3,\n",
       " (-1, 5, 8, -9, 4): 7,\n",
       " (-1, 5, 8, -9, 4, 1): 8}"
      ]
     },
     "execution_count": 107,
     "metadata": {},
     "output_type": "execute_result"
    }
   ],
   "source": [
    "cache # have a look at the collected values"
   ]
  },
  {
   "cell_type": "code",
   "execution_count": 108,
   "metadata": {},
   "outputs": [],
   "source": [
    "def sample(n):\n",
    "    O, b, *rest = bin(random.getrandbits(n)) # because `string`s are iterable objects indeed.\n",
    "    return list(map(int, rest))"
   ]
  },
  {
   "cell_type": "markdown",
   "metadata": {},
   "source": [
    "where"
   ]
  },
  {
   "cell_type": "code",
   "execution_count": 109,
   "metadata": {},
   "outputs": [
    {
     "name": "stdout",
     "output_type": "stream",
     "text": [
      "Help on built-in function getrandbits:\n",
      "\n",
      "getrandbits(k, /) method of random.Random instance\n",
      "    getrandbits(k) -> x.  Generates an int with k random bits.\n",
      "\n"
     ]
    }
   ],
   "source": [
    "help(random.getrandbits)"
   ]
  },
  {
   "cell_type": "code",
   "execution_count": 110,
   "metadata": {},
   "outputs": [],
   "source": [
    "LL = sample(1000)"
   ]
  },
  {
   "cell_type": "code",
   "execution_count": 111,
   "metadata": {
    "scrolled": false
   },
   "outputs": [],
   "source": [
    "assert set(map(tuple, fixed_sum(LL, 10))) == set(fixed_sum_rev(LL, 10))"
   ]
  },
  {
   "cell_type": "code",
   "execution_count": 112,
   "metadata": {},
   "outputs": [
    {
     "name": "stdout",
     "output_type": "stream",
     "text": [
      "2.64 s ± 4.93 ms per loop (mean ± std. dev. of 7 runs, 1 loop each)\n"
     ]
    }
   ],
   "source": [
    "%timeit list(fixed_sum(LL, 10))"
   ]
  },
  {
   "cell_type": "code",
   "execution_count": 113,
   "metadata": {},
   "outputs": [
    {
     "name": "stdout",
     "output_type": "stream",
     "text": [
      "5.14 s ± 4.72 ms per loop (mean ± std. dev. of 7 runs, 1 loop each)\n"
     ]
    }
   ],
   "source": [
    "%timeit list(fixed_sum_rev(LL, 10))"
   ]
  },
  {
   "cell_type": "markdown",
   "metadata": {},
   "source": [
    "**INTERMEZZO**"
   ]
  },
  {
   "cell_type": "code",
   "execution_count": 114,
   "metadata": {},
   "outputs": [
    {
     "name": "stdout",
     "output_type": "stream",
     "text": [
      "a\n"
     ]
    }
   ],
   "source": [
    "if 4 < 8:\n",
    "    print('a')\n",
    "else:\n",
    "    pass"
   ]
  },
  {
   "cell_type": "code",
   "execution_count": 116,
   "metadata": {},
   "outputs": [
    {
     "ename": "IndentationError",
     "evalue": "unindent does not match any outer indentation level (<tokenize>, line 11)",
     "output_type": "error",
     "traceback": [
      "\u001b[0;36m  File \u001b[0;32m\"<tokenize>\"\u001b[0;36m, line \u001b[0;32m11\u001b[0m\n\u001b[0;31m    else:\u001b[0m\n\u001b[0m    ^\u001b[0m\n\u001b[0;31mIndentationError\u001b[0m\u001b[0;31m:\u001b[0m unindent does not match any outer indentation level\n"
     ]
    }
   ],
   "source": [
    "b = if 4 < 8:\n",
    "       '''\n",
    "       \n",
    "       \n",
    "       lots of code\n",
    "       \n",
    "       \n",
    "       \n",
    "       \n",
    "       '''\n",
    "    else:\n",
    "       6"
   ]
  },
  {
   "cell_type": "code",
   "execution_count": 117,
   "metadata": {},
   "outputs": [],
   "source": [
    "b = 5 if 4 < 8 else 6"
   ]
  },
  {
   "cell_type": "code",
   "execution_count": 118,
   "metadata": {},
   "outputs": [
    {
     "data": {
      "text/plain": [
       "5"
      ]
     },
     "execution_count": 118,
     "metadata": {},
     "output_type": "execute_result"
    }
   ],
   "source": [
    "b"
   ]
  }
 ],
 "metadata": {
  "kernelspec": {
   "display_name": "Python 3",
   "language": "python",
   "name": "python3"
  },
  "language_info": {
   "codemirror_mode": {
    "name": "ipython",
    "version": 3
   },
   "file_extension": ".py",
   "mimetype": "text/x-python",
   "name": "python",
   "nbconvert_exporter": "python",
   "pygments_lexer": "ipython3",
   "version": "3.8.8"
  }
 },
 "nbformat": 4,
 "nbformat_minor": 4
}
