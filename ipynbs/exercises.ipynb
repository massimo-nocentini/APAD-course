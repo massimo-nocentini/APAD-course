{
 "cells": [
  {
   "cell_type": "markdown",
   "metadata": {},
   "source": [
    "# Exercises\n",
    "\n",
    "This chapter is an intermezzo that allows us to check and have a deeper understanding of the concepts seen so far by means of exercises. We will see how the code shown can be rewritten to take advantage of battle-tested solutions and idioms that emerges from daily practice.\n",
    "\n",
    "First of all, we import some modules"
   ]
  },
  {
   "cell_type": "code",
   "execution_count": 2,
   "metadata": {},
   "outputs": [],
   "source": [
    "import functools, operator, math, itertools, random, collections, statistics, bisect"
   ]
  },
  {
   "cell_type": "markdown",
   "metadata": {},
   "source": [
    "that contains useful definitions for the code that we are going to write. Moreover, an utility for generators,"
   ]
  },
  {
   "cell_type": "code",
   "execution_count": 3,
   "metadata": {},
   "outputs": [],
   "source": [
    "def take(iterable, n):\n",
    "    yield from map(lambda p: p[1], zip(range(n), iterable))"
   ]
  },
  {
   "cell_type": "markdown",
   "metadata": {},
   "source": [
    "that consumes an iterable and return a generator that will yield $n$ objects at most. For the sake of clarity,"
   ]
  },
  {
   "cell_type": "code",
   "execution_count": 4,
   "metadata": {},
   "outputs": [
    {
     "data": {
      "text/plain": [
       "<generator object take at 0x7feb34e879e0>"
      ]
     },
     "execution_count": 4,
     "metadata": {},
     "output_type": "execute_result"
    }
   ],
   "source": [
    "taken = take(itertools.count(), 50)\n",
    "taken"
   ]
  },
  {
   "cell_type": "markdown",
   "metadata": {},
   "source": [
    "is a actually generator and its content equals"
   ]
  },
  {
   "cell_type": "code",
   "execution_count": 5,
   "metadata": {},
   "outputs": [],
   "source": [
    "assert list(taken) == list(range(50))"
   ]
  },
  {
   "cell_type": "markdown",
   "metadata": {},
   "source": [
    "## (Pythagorean) tuples\n",
    "\n",
    "Let"
   ]
  },
  {
   "cell_type": "code",
   "execution_count": 40,
   "metadata": {},
   "outputs": [],
   "source": [
    "def tuples(*slices):\n",
    "    return itertools.product(*map(lambda s: range(s.start, s.stop), slices))"
   ]
  },
  {
   "cell_type": "markdown",
   "metadata": {},
   "source": [
    "where"
   ]
  },
  {
   "cell_type": "code",
   "execution_count": 7,
   "metadata": {},
   "outputs": [
    {
     "name": "stdout",
     "output_type": "stream",
     "text": [
      "Help on class product in module itertools:\n",
      "\n",
      "class product(builtins.object)\n",
      " |  product(*iterables, repeat=1) --> product object\n",
      " |  \n",
      " |  Cartesian product of input iterables.  Equivalent to nested for-loops.\n",
      " |  \n",
      " |  For example, product(A, B) returns the same as:  ((x,y) for x in A for y in B).\n",
      " |  The leftmost iterators are in the outermost for-loop, so the output tuples\n",
      " |  cycle in a manner similar to an odometer (with the rightmost element changing\n",
      " |  on every iteration).\n",
      " |  \n",
      " |  To compute the product of an iterable with itself, specify the number\n",
      " |  of repetitions with the optional repeat keyword argument. For example,\n",
      " |  product(A, repeat=4) means the same as product(A, A, A, A).\n",
      " |  \n",
      " |  product('ab', range(3)) --> ('a',0) ('a',1) ('a',2) ('b',0) ('b',1) ('b',2)\n",
      " |  product((0,1), (0,1), (0,1)) --> (0,0,0) (0,0,1) (0,1,0) (0,1,1) (1,0,0) ...\n",
      " |  \n",
      " |  Methods defined here:\n",
      " |  \n",
      " |  __getattribute__(self, name, /)\n",
      " |      Return getattr(self, name).\n",
      " |  \n",
      " |  __iter__(self, /)\n",
      " |      Implement iter(self).\n",
      " |  \n",
      " |  __next__(self, /)\n",
      " |      Implement next(self).\n",
      " |  \n",
      " |  __reduce__(...)\n",
      " |      Return state information for pickling.\n",
      " |  \n",
      " |  __setstate__(...)\n",
      " |      Set state information for unpickling.\n",
      " |  \n",
      " |  __sizeof__(...)\n",
      " |      Returns size in memory, in bytes.\n",
      " |  \n",
      " |  ----------------------------------------------------------------------\n",
      " |  Static methods defined here:\n",
      " |  \n",
      " |  __new__(*args, **kwargs) from builtins.type\n",
      " |      Create and return a new object.  See help(type) for accurate signature.\n",
      "\n"
     ]
    }
   ],
   "source": [
    "help(itertools.product)"
   ]
  },
  {
   "cell_type": "markdown",
   "metadata": {},
   "source": [
    "Consider the application to an empty sequence of `slide`s,"
   ]
  },
  {
   "cell_type": "code",
   "execution_count": 8,
   "metadata": {},
   "outputs": [
    {
     "data": {
      "text/plain": [
       "<itertools.product at 0x7feb34e6fe80>"
      ]
     },
     "execution_count": 8,
     "metadata": {},
     "output_type": "execute_result"
    }
   ],
   "source": [
    "units = tuples()\n",
    "units"
   ]
  },
  {
   "cell_type": "markdown",
   "metadata": {},
   "source": [
    "then saturate it"
   ]
  },
  {
   "cell_type": "code",
   "execution_count": 9,
   "metadata": {},
   "outputs": [
    {
     "data": {
      "text/plain": [
       "[()]"
      ]
     },
     "execution_count": 9,
     "metadata": {},
     "output_type": "execute_result"
    }
   ],
   "source": [
    "list(units)"
   ]
  },
  {
   "cell_type": "markdown",
   "metadata": {},
   "source": [
    "Now, build tuples using just a `slide` object,"
   ]
  },
  {
   "cell_type": "code",
   "execution_count": 10,
   "metadata": {},
   "outputs": [
    {
     "data": {
      "text/plain": [
       "<itertools.product at 0x7feb34e66540>"
      ]
     },
     "execution_count": 10,
     "metadata": {},
     "output_type": "execute_result"
    }
   ],
   "source": [
    "singletons = tuples(slice(5, 11))\n",
    "singletons"
   ]
  },
  {
   "cell_type": "markdown",
   "metadata": {},
   "source": [
    "then saturate it"
   ]
  },
  {
   "cell_type": "code",
   "execution_count": 11,
   "metadata": {},
   "outputs": [
    {
     "data": {
      "text/plain": [
       "[(5,), (6,), (7,), (8,), (9,), (10,)]"
      ]
     },
     "execution_count": 11,
     "metadata": {},
     "output_type": "execute_result"
    }
   ],
   "source": [
    "list(singletons)"
   ]
  },
  {
   "cell_type": "markdown",
   "metadata": {},
   "source": [
    "Now, build tuples using a twin `slide` object,"
   ]
  },
  {
   "cell_type": "code",
   "execution_count": 41,
   "metadata": {},
   "outputs": [
    {
     "data": {
      "text/plain": [
       "<itertools.product at 0x7feb34e7a180>"
      ]
     },
     "execution_count": 41,
     "metadata": {},
     "output_type": "execute_result"
    }
   ],
   "source": [
    "s = slice(5, 11)\n",
    "pairs = tuples(s, s)\n",
    "pairs"
   ]
  },
  {
   "cell_type": "markdown",
   "metadata": {},
   "source": [
    "then saturate it"
   ]
  },
  {
   "cell_type": "code",
   "execution_count": 42,
   "metadata": {},
   "outputs": [
    {
     "data": {
      "text/plain": [
       "[(5, 5),\n",
       " (5, 6),\n",
       " (5, 7),\n",
       " (5, 8),\n",
       " (5, 9),\n",
       " (5, 10),\n",
       " (6, 5),\n",
       " (6, 6),\n",
       " (6, 7),\n",
       " (6, 8),\n",
       " (6, 9),\n",
       " (6, 10),\n",
       " (7, 5),\n",
       " (7, 6),\n",
       " (7, 7),\n",
       " (7, 8),\n",
       " (7, 9),\n",
       " (7, 10),\n",
       " (8, 5),\n",
       " (8, 6),\n",
       " (8, 7),\n",
       " (8, 8),\n",
       " (8, 9),\n",
       " (8, 10),\n",
       " (9, 5),\n",
       " (9, 6),\n",
       " (9, 7),\n",
       " (9, 8),\n",
       " (9, 9),\n",
       " (9, 10),\n",
       " (10, 5),\n",
       " (10, 6),\n",
       " (10, 7),\n",
       " (10, 8),\n",
       " (10, 9),\n",
       " (10, 10)]"
      ]
     },
     "execution_count": 42,
     "metadata": {},
     "output_type": "execute_result"
    }
   ],
   "source": [
    "list(pairs)"
   ]
  },
  {
   "cell_type": "markdown",
   "metadata": {},
   "source": [
    "Now, build tuples using a three different `slide` objects (taking into account of splitting the returned generator),"
   ]
  },
  {
   "cell_type": "code",
   "execution_count": 33,
   "metadata": {},
   "outputs": [],
   "source": [
    "triples_a, triples_b = itertools.tee(tuples(slice(5, 11), slice(6, 13), slice(7, 14)))"
   ]
  },
  {
   "cell_type": "markdown",
   "metadata": {},
   "source": [
    "where"
   ]
  },
  {
   "cell_type": "code",
   "execution_count": 34,
   "metadata": {},
   "outputs": [
    {
     "name": "stdout",
     "output_type": "stream",
     "text": [
      "Help on built-in function tee in module itertools:\n",
      "\n",
      "tee(iterable, n=2, /)\n",
      "    Returns a tuple of n independent iterators.\n",
      "\n"
     ]
    }
   ],
   "source": [
    "help(itertools.tee)"
   ]
  },
  {
   "cell_type": "markdown",
   "metadata": {},
   "source": [
    "then saturate it"
   ]
  },
  {
   "cell_type": "code",
   "execution_count": 35,
   "metadata": {
    "scrolled": false
   },
   "outputs": [
    {
     "data": {
      "text/plain": [
       "[(5, 6, 7),\n",
       " (5, 6, 8),\n",
       " (5, 6, 9),\n",
       " (5, 6, 10),\n",
       " (5, 6, 11),\n",
       " (5, 6, 12),\n",
       " (5, 6, 13),\n",
       " (5, 7, 7),\n",
       " (5, 7, 8),\n",
       " (5, 7, 9),\n",
       " (5, 7, 10),\n",
       " (5, 7, 11),\n",
       " (5, 7, 12),\n",
       " (5, 7, 13),\n",
       " (5, 8, 7),\n",
       " (5, 8, 8),\n",
       " (5, 8, 9),\n",
       " (5, 8, 10),\n",
       " (5, 8, 11),\n",
       " (5, 8, 12),\n",
       " (5, 8, 13),\n",
       " (5, 9, 7),\n",
       " (5, 9, 8),\n",
       " (5, 9, 9),\n",
       " (5, 9, 10),\n",
       " (5, 9, 11),\n",
       " (5, 9, 12),\n",
       " (5, 9, 13),\n",
       " (5, 10, 7),\n",
       " (5, 10, 8),\n",
       " (5, 10, 9),\n",
       " (5, 10, 10),\n",
       " (5, 10, 11),\n",
       " (5, 10, 12),\n",
       " (5, 10, 13),\n",
       " (5, 11, 7),\n",
       " (5, 11, 8),\n",
       " (5, 11, 9),\n",
       " (5, 11, 10),\n",
       " (5, 11, 11),\n",
       " (5, 11, 12),\n",
       " (5, 11, 13),\n",
       " (5, 12, 7),\n",
       " (5, 12, 8),\n",
       " (5, 12, 9),\n",
       " (5, 12, 10),\n",
       " (5, 12, 11),\n",
       " (5, 12, 12),\n",
       " (5, 12, 13),\n",
       " (6, 6, 7),\n",
       " (6, 6, 8),\n",
       " (6, 6, 9),\n",
       " (6, 6, 10),\n",
       " (6, 6, 11),\n",
       " (6, 6, 12),\n",
       " (6, 6, 13),\n",
       " (6, 7, 7),\n",
       " (6, 7, 8),\n",
       " (6, 7, 9),\n",
       " (6, 7, 10),\n",
       " (6, 7, 11),\n",
       " (6, 7, 12),\n",
       " (6, 7, 13),\n",
       " (6, 8, 7),\n",
       " (6, 8, 8),\n",
       " (6, 8, 9),\n",
       " (6, 8, 10),\n",
       " (6, 8, 11),\n",
       " (6, 8, 12),\n",
       " (6, 8, 13),\n",
       " (6, 9, 7),\n",
       " (6, 9, 8),\n",
       " (6, 9, 9),\n",
       " (6, 9, 10),\n",
       " (6, 9, 11),\n",
       " (6, 9, 12),\n",
       " (6, 9, 13),\n",
       " (6, 10, 7),\n",
       " (6, 10, 8),\n",
       " (6, 10, 9),\n",
       " (6, 10, 10),\n",
       " (6, 10, 11),\n",
       " (6, 10, 12),\n",
       " (6, 10, 13),\n",
       " (6, 11, 7),\n",
       " (6, 11, 8),\n",
       " (6, 11, 9),\n",
       " (6, 11, 10),\n",
       " (6, 11, 11),\n",
       " (6, 11, 12),\n",
       " (6, 11, 13),\n",
       " (6, 12, 7),\n",
       " (6, 12, 8),\n",
       " (6, 12, 9),\n",
       " (6, 12, 10),\n",
       " (6, 12, 11),\n",
       " (6, 12, 12),\n",
       " (6, 12, 13),\n",
       " (7, 6, 7),\n",
       " (7, 6, 8),\n",
       " (7, 6, 9),\n",
       " (7, 6, 10),\n",
       " (7, 6, 11),\n",
       " (7, 6, 12),\n",
       " (7, 6, 13),\n",
       " (7, 7, 7),\n",
       " (7, 7, 8),\n",
       " (7, 7, 9),\n",
       " (7, 7, 10),\n",
       " (7, 7, 11),\n",
       " (7, 7, 12),\n",
       " (7, 7, 13),\n",
       " (7, 8, 7),\n",
       " (7, 8, 8),\n",
       " (7, 8, 9),\n",
       " (7, 8, 10),\n",
       " (7, 8, 11),\n",
       " (7, 8, 12),\n",
       " (7, 8, 13),\n",
       " (7, 9, 7),\n",
       " (7, 9, 8),\n",
       " (7, 9, 9),\n",
       " (7, 9, 10),\n",
       " (7, 9, 11),\n",
       " (7, 9, 12),\n",
       " (7, 9, 13),\n",
       " (7, 10, 7),\n",
       " (7, 10, 8),\n",
       " (7, 10, 9),\n",
       " (7, 10, 10),\n",
       " (7, 10, 11),\n",
       " (7, 10, 12),\n",
       " (7, 10, 13),\n",
       " (7, 11, 7),\n",
       " (7, 11, 8),\n",
       " (7, 11, 9),\n",
       " (7, 11, 10),\n",
       " (7, 11, 11),\n",
       " (7, 11, 12),\n",
       " (7, 11, 13),\n",
       " (7, 12, 7),\n",
       " (7, 12, 8),\n",
       " (7, 12, 9),\n",
       " (7, 12, 10),\n",
       " (7, 12, 11),\n",
       " (7, 12, 12),\n",
       " (7, 12, 13),\n",
       " (8, 6, 7),\n",
       " (8, 6, 8),\n",
       " (8, 6, 9),\n",
       " (8, 6, 10),\n",
       " (8, 6, 11),\n",
       " (8, 6, 12),\n",
       " (8, 6, 13),\n",
       " (8, 7, 7),\n",
       " (8, 7, 8),\n",
       " (8, 7, 9),\n",
       " (8, 7, 10),\n",
       " (8, 7, 11),\n",
       " (8, 7, 12),\n",
       " (8, 7, 13),\n",
       " (8, 8, 7),\n",
       " (8, 8, 8),\n",
       " (8, 8, 9),\n",
       " (8, 8, 10),\n",
       " (8, 8, 11),\n",
       " (8, 8, 12),\n",
       " (8, 8, 13),\n",
       " (8, 9, 7),\n",
       " (8, 9, 8),\n",
       " (8, 9, 9),\n",
       " (8, 9, 10),\n",
       " (8, 9, 11),\n",
       " (8, 9, 12),\n",
       " (8, 9, 13),\n",
       " (8, 10, 7),\n",
       " (8, 10, 8),\n",
       " (8, 10, 9),\n",
       " (8, 10, 10),\n",
       " (8, 10, 11),\n",
       " (8, 10, 12),\n",
       " (8, 10, 13),\n",
       " (8, 11, 7),\n",
       " (8, 11, 8),\n",
       " (8, 11, 9),\n",
       " (8, 11, 10),\n",
       " (8, 11, 11),\n",
       " (8, 11, 12),\n",
       " (8, 11, 13),\n",
       " (8, 12, 7),\n",
       " (8, 12, 8),\n",
       " (8, 12, 9),\n",
       " (8, 12, 10),\n",
       " (8, 12, 11),\n",
       " (8, 12, 12),\n",
       " (8, 12, 13),\n",
       " (9, 6, 7),\n",
       " (9, 6, 8),\n",
       " (9, 6, 9),\n",
       " (9, 6, 10),\n",
       " (9, 6, 11),\n",
       " (9, 6, 12),\n",
       " (9, 6, 13),\n",
       " (9, 7, 7),\n",
       " (9, 7, 8),\n",
       " (9, 7, 9),\n",
       " (9, 7, 10),\n",
       " (9, 7, 11),\n",
       " (9, 7, 12),\n",
       " (9, 7, 13),\n",
       " (9, 8, 7),\n",
       " (9, 8, 8),\n",
       " (9, 8, 9),\n",
       " (9, 8, 10),\n",
       " (9, 8, 11),\n",
       " (9, 8, 12),\n",
       " (9, 8, 13),\n",
       " (9, 9, 7),\n",
       " (9, 9, 8),\n",
       " (9, 9, 9),\n",
       " (9, 9, 10),\n",
       " (9, 9, 11),\n",
       " (9, 9, 12),\n",
       " (9, 9, 13),\n",
       " (9, 10, 7),\n",
       " (9, 10, 8),\n",
       " (9, 10, 9),\n",
       " (9, 10, 10),\n",
       " (9, 10, 11),\n",
       " (9, 10, 12),\n",
       " (9, 10, 13),\n",
       " (9, 11, 7),\n",
       " (9, 11, 8),\n",
       " (9, 11, 9),\n",
       " (9, 11, 10),\n",
       " (9, 11, 11),\n",
       " (9, 11, 12),\n",
       " (9, 11, 13),\n",
       " (9, 12, 7),\n",
       " (9, 12, 8),\n",
       " (9, 12, 9),\n",
       " (9, 12, 10),\n",
       " (9, 12, 11),\n",
       " (9, 12, 12),\n",
       " (9, 12, 13),\n",
       " (10, 6, 7),\n",
       " (10, 6, 8),\n",
       " (10, 6, 9),\n",
       " (10, 6, 10),\n",
       " (10, 6, 11),\n",
       " (10, 6, 12),\n",
       " (10, 6, 13),\n",
       " (10, 7, 7),\n",
       " (10, 7, 8),\n",
       " (10, 7, 9),\n",
       " (10, 7, 10),\n",
       " (10, 7, 11),\n",
       " (10, 7, 12),\n",
       " (10, 7, 13),\n",
       " (10, 8, 7),\n",
       " (10, 8, 8),\n",
       " (10, 8, 9),\n",
       " (10, 8, 10),\n",
       " (10, 8, 11),\n",
       " (10, 8, 12),\n",
       " (10, 8, 13),\n",
       " (10, 9, 7),\n",
       " (10, 9, 8),\n",
       " (10, 9, 9),\n",
       " (10, 9, 10),\n",
       " (10, 9, 11),\n",
       " (10, 9, 12),\n",
       " (10, 9, 13),\n",
       " (10, 10, 7),\n",
       " (10, 10, 8),\n",
       " (10, 10, 9),\n",
       " (10, 10, 10),\n",
       " (10, 10, 11),\n",
       " (10, 10, 12),\n",
       " (10, 10, 13),\n",
       " (10, 11, 7),\n",
       " (10, 11, 8),\n",
       " (10, 11, 9),\n",
       " (10, 11, 10),\n",
       " (10, 11, 11),\n",
       " (10, 11, 12),\n",
       " (10, 11, 13),\n",
       " (10, 12, 7),\n",
       " (10, 12, 8),\n",
       " (10, 12, 9),\n",
       " (10, 12, 10),\n",
       " (10, 12, 11),\n",
       " (10, 12, 12),\n",
       " (10, 12, 13)]"
      ]
     },
     "execution_count": 35,
     "metadata": {},
     "output_type": "execute_result"
    }
   ],
   "source": [
    "list(triples_a)"
   ]
  },
  {
   "cell_type": "markdown",
   "metadata": {},
   "source": [
    "Now a corner case, but still interesting for ensuring a sound behavior,"
   ]
  },
  {
   "cell_type": "code",
   "execution_count": 36,
   "metadata": {},
   "outputs": [],
   "source": [
    "triples = tuples(slice(5, 11), slice(6, 6), slice(7, 14)) # ouch!"
   ]
  },
  {
   "cell_type": "markdown",
   "metadata": {},
   "source": [
    "then saturate it"
   ]
  },
  {
   "cell_type": "code",
   "execution_count": 43,
   "metadata": {},
   "outputs": [
    {
     "data": {
      "text/plain": [
       "[]"
      ]
     },
     "execution_count": 43,
     "metadata": {},
     "output_type": "execute_result"
    }
   ],
   "source": [
    "list(triples) # who we have to blame?"
   ]
  },
  {
   "cell_type": "markdown",
   "metadata": {},
   "source": [
    "Finally, let"
   ]
  },
  {
   "cell_type": "code",
   "execution_count": 44,
   "metadata": {},
   "outputs": [],
   "source": [
    "def is_pythagorean(tup, n=2):\n",
    "    '''A Pythagorean triple consists of three positive integers a, b, and c, such that a^2 + b^2 = c^2. \n",
    "    \n",
    "    Such a triple is commonly written (a, b, c), and a well-known example is (3, 4, 5). \n",
    "    If (a, b, c) is a Pythagorean triple, then so is (ka, kb, kc) for any positive integer k. \n",
    "    \n",
    "    A primitive Pythagorean triple is one in which a, b and c are coprime (that is, \n",
    "    they have no common divisor larger than 1).\n",
    "    \n",
    "    See also https://en.wikipedia.org/wiki/Pythagorean_triple.\n",
    "    '''\n",
    "    a, b, c = tup\n",
    "    return (tup[0]**n + tup[1]**n == tup[2]**n) if a <= b <= c else False"
   ]
  },
  {
   "cell_type": "markdown",
   "metadata": {},
   "source": [
    "in"
   ]
  },
  {
   "cell_type": "code",
   "execution_count": 39,
   "metadata": {},
   "outputs": [
    {
     "data": {
      "text/plain": [
       "[(5, 12, 13), (6, 8, 10)]"
      ]
     },
     "execution_count": 39,
     "metadata": {},
     "output_type": "execute_result"
    }
   ],
   "source": [
    "list(filter(is_pythagorean, triples_b))"
   ]
  },
  {
   "cell_type": "markdown",
   "metadata": {},
   "source": [
    "and"
   ]
  },
  {
   "cell_type": "code",
   "execution_count": 22,
   "metadata": {},
   "outputs": [
    {
     "name": "stdout",
     "output_type": "stream",
     "text": [
      "Help on function is_pythagorean in module __main__:\n",
      "\n",
      "is_pythagorean(tup, n=2)\n",
      "    A Pythagorean triple consists of three positive integers a, b, and c, such that a^2 + b^2 = c^2. \n",
      "    \n",
      "    Such a triple is commonly written (a, b, c), and a well-known example is (3, 4, 5). \n",
      "    If (a, b, c) is a Pythagorean triple, then so is (ka, kb, kc) for any positive integer k. \n",
      "    \n",
      "    A primitive Pythagorean triple is one in which a, b and c are coprime (that is, \n",
      "    they have no common divisor larger than 1).\n",
      "    \n",
      "    See also https://en.wikipedia.org/wiki/Pythagorean_triple.\n",
      "\n"
     ]
    }
   ],
   "source": [
    "help(is_pythagorean) # just to show that writing docstrings is cool and useful."
   ]
  },
  {
   "cell_type": "markdown",
   "metadata": {},
   "source": [
    "## `sum_upto`"
   ]
  },
  {
   "cell_type": "markdown",
   "metadata": {},
   "source": [
    "Let"
   ]
  },
  {
   "cell_type": "code",
   "execution_count": 3,
   "metadata": {},
   "outputs": [],
   "source": [
    "def sum_upto(n):\n",
    "    return functools.reduce(operator.add, range(n+1))"
   ]
  },
  {
   "cell_type": "markdown",
   "metadata": {},
   "source": [
    "and test according to Euler's quicker formula"
   ]
  },
  {
   "cell_type": "code",
   "execution_count": 4,
   "metadata": {},
   "outputs": [],
   "source": [
    "n = 100\n",
    "v = sum_upto(n)\n",
    "assert v == (n*(n+1)/2) == 5050"
   ]
  },
  {
   "cell_type": "markdown",
   "metadata": {},
   "source": [
    "where"
   ]
  },
  {
   "cell_type": "code",
   "execution_count": 5,
   "metadata": {},
   "outputs": [
    {
     "name": "stdout",
     "output_type": "stream",
     "text": [
      "Help on built-in function reduce in module _functools:\n",
      "\n",
      "reduce(...)\n",
      "    reduce(function, sequence[, initial]) -> value\n",
      "    \n",
      "    Apply a function of two arguments cumulatively to the items of a sequence,\n",
      "    from left to right, so as to reduce the sequence to a single value.\n",
      "    For example, reduce(lambda x, y: x+y, [1, 2, 3, 4, 5]) calculates\n",
      "    ((((1+2)+3)+4)+5).  If initial is present, it is placed before the items\n",
      "    of the sequence in the calculation, and serves as a default when the\n",
      "    sequence is empty.\n",
      "\n"
     ]
    }
   ],
   "source": [
    "help(functools.reduce)"
   ]
  },
  {
   "cell_type": "markdown",
   "metadata": {},
   "source": [
    "and"
   ]
  },
  {
   "cell_type": "code",
   "execution_count": 6,
   "metadata": {},
   "outputs": [
    {
     "name": "stdout",
     "output_type": "stream",
     "text": [
      "Help on built-in function add in module _operator:\n",
      "\n",
      "add(a, b, /)\n",
      "    Same as a + b.\n",
      "\n"
     ]
    }
   ],
   "source": [
    "help(operator.add)"
   ]
  },
  {
   "cell_type": "markdown",
   "metadata": {},
   "source": [
    "## `sqrt`"
   ]
  },
  {
   "cell_type": "markdown",
   "metadata": {},
   "source": [
    "Let"
   ]
  },
  {
   "cell_type": "code",
   "execution_count": 7,
   "metadata": {},
   "outputs": [],
   "source": [
    "def sqrt(n):\n",
    "    \n",
    "    yield n\n",
    "    refined = n/2\n",
    "    while True:\n",
    "        yield refined\n",
    "        refined = (n/refined + refined)/2"
   ]
  },
  {
   "cell_type": "markdown",
   "metadata": {},
   "source": [
    "to enumerate 15 approximation of the square root of 37"
   ]
  },
  {
   "cell_type": "code",
   "execution_count": 8,
   "metadata": {},
   "outputs": [
    {
     "data": {
      "text/plain": [
       "[37,\n",
       " 18.5,\n",
       " 10.25,\n",
       " 6.929878048780488,\n",
       " 6.134538672432479,\n",
       " 6.082981028300877,\n",
       " 6.082762534222396,\n",
       " 6.08276253029822,\n",
       " 6.08276253029822,\n",
       " 6.08276253029822,\n",
       " 6.08276253029822,\n",
       " 6.08276253029822,\n",
       " 6.08276253029822,\n",
       " 6.08276253029822,\n",
       " 6.08276253029822]"
      ]
     },
     "execution_count": 8,
     "metadata": {},
     "output_type": "execute_result"
    }
   ],
   "source": [
    "n = 37\n",
    "list(take(sqrt(37), 15))"
   ]
  },
  {
   "cell_type": "markdown",
   "metadata": {},
   "source": [
    "and check with respect to"
   ]
  },
  {
   "cell_type": "code",
   "execution_count": 9,
   "metadata": {},
   "outputs": [
    {
     "data": {
      "text/plain": [
       "6.082762530298219"
      ]
     },
     "execution_count": 9,
     "metadata": {},
     "output_type": "execute_result"
    }
   ],
   "source": [
    "math.sqrt(n)"
   ]
  },
  {
   "cell_type": "markdown",
   "metadata": {},
   "source": [
    "where"
   ]
  },
  {
   "cell_type": "code",
   "execution_count": 10,
   "metadata": {},
   "outputs": [
    {
     "name": "stdout",
     "output_type": "stream",
     "text": [
      "Help on built-in function sqrt in module math:\n",
      "\n",
      "sqrt(x, /)\n",
      "    Return the square root of x.\n",
      "\n"
     ]
    }
   ],
   "source": [
    "help(math.sqrt)"
   ]
  },
  {
   "cell_type": "markdown",
   "metadata": {},
   "source": [
    "## $\\pi$\n",
    "\n",
    "According to https://en.wikipedia.org/wiki/Leibniz_formula_for_%CF%80, let"
   ]
  },
  {
   "cell_type": "code",
   "execution_count": 11,
   "metadata": {},
   "outputs": [],
   "source": [
    "def pi_Leibniz():\n",
    "    \n",
    "    d = 0\n",
    "    for i, coeff in enumerate(itertools.count(1, step=2)):\n",
    "        yield 4*d\n",
    "        d += (-1)**i/coeff"
   ]
  },
  {
   "cell_type": "markdown",
   "metadata": {},
   "source": [
    "in"
   ]
  },
  {
   "cell_type": "code",
   "execution_count": 12,
   "metadata": {},
   "outputs": [
    {
     "data": {
      "text/plain": [
       "[3.140582552837346,\n",
       " 3.1426017350685425,\n",
       " 3.140584589329763,\n",
       " 3.1425997026798886,\n",
       " 3.140586617627045,\n",
       " 3.142597678461635,\n",
       " 3.1405886377785612,\n",
       " 3.1425956623646125,\n",
       " 3.140590649833284,\n",
       " 3.142593654340044]"
      ]
     },
     "execution_count": 12,
     "metadata": {},
     "output_type": "execute_result"
    }
   ],
   "source": [
    "list(take(pi_Leibniz(), 1000))[-10:]"
   ]
  },
  {
   "cell_type": "markdown",
   "metadata": {},
   "source": [
    "and check against the"
   ]
  },
  {
   "cell_type": "code",
   "execution_count": 13,
   "metadata": {},
   "outputs": [
    {
     "data": {
      "text/plain": [
       "3.141592653589793"
      ]
     },
     "execution_count": 13,
     "metadata": {},
     "output_type": "execute_result"
    }
   ],
   "source": [
    "math.pi"
   ]
  },
  {
   "cell_type": "markdown",
   "metadata": {},
   "source": [
    "where"
   ]
  },
  {
   "cell_type": "code",
   "execution_count": 14,
   "metadata": {},
   "outputs": [
    {
     "name": "stdout",
     "output_type": "stream",
     "text": [
      "Help on class count in module itertools:\n",
      "\n",
      "class count(builtins.object)\n",
      " |  count(start=0, step=1)\n",
      " |  \n",
      " |  Return a count object whose .__next__() method returns consecutive values.\n",
      " |  \n",
      " |  Equivalent to:\n",
      " |      def count(firstval=0, step=1):\n",
      " |          x = firstval\n",
      " |          while 1:\n",
      " |              yield x\n",
      " |              x += step\n",
      " |  \n",
      " |  Methods defined here:\n",
      " |  \n",
      " |  __getattribute__(self, name, /)\n",
      " |      Return getattr(self, name).\n",
      " |  \n",
      " |  __iter__(self, /)\n",
      " |      Implement iter(self).\n",
      " |  \n",
      " |  __next__(self, /)\n",
      " |      Implement next(self).\n",
      " |  \n",
      " |  __reduce__(...)\n",
      " |      Return state information for pickling.\n",
      " |  \n",
      " |  __repr__(self, /)\n",
      " |      Return repr(self).\n",
      " |  \n",
      " |  ----------------------------------------------------------------------\n",
      " |  Static methods defined here:\n",
      " |  \n",
      " |  __new__(*args, **kwargs) from builtins.type\n",
      " |      Create and return a new object.  See help(type) for accurate signature.\n",
      "\n"
     ]
    }
   ],
   "source": [
    "help(itertools.count)"
   ]
  },
  {
   "cell_type": "markdown",
   "metadata": {},
   "source": [
    "## The Collatz's conjecture\n",
    "\n",
    "Consider the following operation on an arbitrary positive integer:\n",
    "\n",
    "    If the number is even, divide it by two.\n",
    "    If the number is odd, triple it and add one.\n",
    "    \n",
    "See also https://en.wikipedia.org/wiki/Collatz_conjecture. Let"
   ]
  },
  {
   "cell_type": "code",
   "execution_count": 15,
   "metadata": {},
   "outputs": [],
   "source": [
    "def collatz(n):\n",
    "    \n",
    "    yield n\n",
    "    \n",
    "    while True:\n",
    "        n = 3*n + 1 if n % 2 else n // 2\n",
    "        yield n"
   ]
  },
  {
   "cell_type": "markdown",
   "metadata": {},
   "source": [
    "in"
   ]
  },
  {
   "cell_type": "code",
   "execution_count": 16,
   "metadata": {
    "scrolled": false
   },
   "outputs": [
    {
     "data": {
      "text/plain": [
       "[[1, 4, 2, 1, 4, 2, 1, 4, 2, 1, 4, 2, 1, 4, 2],\n",
       " [2, 1, 4, 2, 1, 4, 2, 1, 4, 2, 1, 4, 2, 1, 4],\n",
       " [3, 10, 5, 16, 8, 4, 2, 1, 4, 2, 1, 4, 2, 1, 4],\n",
       " [4, 2, 1, 4, 2, 1, 4, 2, 1, 4, 2, 1, 4, 2, 1],\n",
       " [5, 16, 8, 4, 2, 1, 4, 2, 1, 4, 2, 1, 4, 2, 1],\n",
       " [6, 3, 10, 5, 16, 8, 4, 2, 1, 4, 2, 1, 4, 2, 1],\n",
       " [7, 22, 11, 34, 17, 52, 26, 13, 40, 20, 10, 5, 16, 8, 4],\n",
       " [8, 4, 2, 1, 4, 2, 1, 4, 2, 1, 4, 2, 1, 4, 2],\n",
       " [9, 28, 14, 7, 22, 11, 34, 17, 52, 26, 13, 40, 20, 10, 5],\n",
       " [10, 5, 16, 8, 4, 2, 1, 4, 2, 1, 4, 2, 1, 4, 2],\n",
       " [11, 34, 17, 52, 26, 13, 40, 20, 10, 5, 16, 8, 4, 2, 1],\n",
       " [12, 6, 3, 10, 5, 16, 8, 4, 2, 1, 4, 2, 1, 4, 2],\n",
       " [13, 40, 20, 10, 5, 16, 8, 4, 2, 1, 4, 2, 1, 4, 2],\n",
       " [14, 7, 22, 11, 34, 17, 52, 26, 13, 40, 20, 10, 5, 16, 8],\n",
       " [15, 46, 23, 70, 35, 106, 53, 160, 80, 40, 20, 10, 5, 16, 8],\n",
       " [16, 8, 4, 2, 1, 4, 2, 1, 4, 2, 1, 4, 2, 1, 4],\n",
       " [17, 52, 26, 13, 40, 20, 10, 5, 16, 8, 4, 2, 1, 4, 2],\n",
       " [18, 9, 28, 14, 7, 22, 11, 34, 17, 52, 26, 13, 40, 20, 10],\n",
       " [19, 58, 29, 88, 44, 22, 11, 34, 17, 52, 26, 13, 40, 20, 10]]"
      ]
     },
     "execution_count": 16,
     "metadata": {},
     "output_type": "execute_result"
    }
   ],
   "source": [
    "[list(take(collatz(n), 15)) for n in range(1, 20)]"
   ]
  },
  {
   "cell_type": "markdown",
   "metadata": {},
   "source": [
    "## Fibonacci numbers\n",
    "\n",
    "Directly from https://docs.python.org/3/library/functools.html#functools.cache:"
   ]
  },
  {
   "cell_type": "code",
   "execution_count": 20,
   "metadata": {},
   "outputs": [],
   "source": [
    "@functools.cache\n",
    "def factorial(n):\n",
    "    print('•', end='')\n",
    "    return n * factorial(n-1) if n else 1"
   ]
  },
  {
   "cell_type": "markdown",
   "metadata": {},
   "source": [
    "no previously cached result, makes 11 recursive calls (count the • symbols)"
   ]
  },
  {
   "cell_type": "code",
   "execution_count": 21,
   "metadata": {},
   "outputs": [
    {
     "name": "stdout",
     "output_type": "stream",
     "text": [
      "•••••••••••"
     ]
    },
    {
     "data": {
      "text/plain": [
       "3628800"
      ]
     },
     "execution_count": 21,
     "metadata": {},
     "output_type": "execute_result"
    }
   ],
   "source": [
    "factorial(10)"
   ]
  },
  {
   "cell_type": "markdown",
   "metadata": {},
   "source": [
    "just looks up cached value result"
   ]
  },
  {
   "cell_type": "code",
   "execution_count": 22,
   "metadata": {},
   "outputs": [
    {
     "data": {
      "text/plain": [
       "120"
      ]
     },
     "execution_count": 22,
     "metadata": {},
     "output_type": "execute_result"
    }
   ],
   "source": [
    "factorial(5)"
   ]
  },
  {
   "cell_type": "markdown",
   "metadata": {},
   "source": [
    "makes two new recursive calls, the other 10 are cached"
   ]
  },
  {
   "cell_type": "code",
   "execution_count": 23,
   "metadata": {},
   "outputs": [
    {
     "name": "stdout",
     "output_type": "stream",
     "text": [
      "••"
     ]
    },
    {
     "data": {
      "text/plain": [
       "479001600"
      ]
     },
     "execution_count": 23,
     "metadata": {},
     "output_type": "execute_result"
    }
   ],
   "source": [
    "factorial(12)"
   ]
  },
  {
   "cell_type": "markdown",
   "metadata": {},
   "source": [
    "## Uniform `random` on segmented interval\n",
    "\n",
    "The problem here reads as follow: sample uniformly from $[a, b)$ and $[c, d)$ where $b <= c$. <br>Eventually, try to generate to an arbitrary sequence of `slice`s, assuming they are fed in sorted order with respect to `<`."
   ]
  },
  {
   "cell_type": "code",
   "execution_count": 3,
   "metadata": {},
   "outputs": [],
   "source": [
    "random.seed(11)"
   ]
  },
  {
   "cell_type": "code",
   "execution_count": 4,
   "metadata": {},
   "outputs": [
    {
     "name": "stdout",
     "output_type": "stream",
     "text": [
      "Help on built-in function random:\n",
      "\n",
      "random() method of random.Random instance\n",
      "    random() -> x in the interval [0, 1).\n",
      "\n"
     ]
    }
   ],
   "source": [
    "help(random.random)"
   ]
  },
  {
   "cell_type": "code",
   "execution_count": 53,
   "metadata": {},
   "outputs": [],
   "source": [
    "def samples(*slices):\n",
    "    \n",
    "    step = 1/len(slices)\n",
    "    \n",
    "    steps = itertools.count(step, step)\n",
    "    bins = [(s, sl) for sl, s in zip(slices, steps)]\n",
    "    \n",
    "    while True:\n",
    "        r = random.random()\n",
    "        i = bisect.bisect_left(bins, (r, None))\n",
    "        sl = slices[i]\n",
    "        yield abs(sl.stop - sl.start) * (r - (i*step))/step + sl.start"
   ]
  },
  {
   "cell_type": "code",
   "execution_count": 54,
   "metadata": {},
   "outputs": [
    {
     "data": {
      "text/plain": [
       "<generator object samples at 0x7fafff38cdd0>"
      ]
     },
     "execution_count": 54,
     "metadata": {},
     "output_type": "execute_result"
    }
   ],
   "source": [
    "samples(slice(10, 20), slice(35, 40))"
   ]
  },
  {
   "cell_type": "markdown",
   "metadata": {},
   "source": [
    "Then define the generator with respect to $[10, 20)$ and $[35, 40)$"
   ]
  },
  {
   "cell_type": "code",
   "execution_count": 55,
   "metadata": {},
   "outputs": [],
   "source": [
    "observations = take(samples(slice(10, 20), slice(35, 40)), 1000000)"
   ]
  },
  {
   "cell_type": "markdown",
   "metadata": {},
   "source": [
    "have a look at some observations"
   ]
  },
  {
   "cell_type": "code",
   "execution_count": 56,
   "metadata": {},
   "outputs": [
    {
     "data": {
      "text/plain": [
       "[10.065881461992102,\n",
       " 10.330509017333556,\n",
       " 10.441575839089332,\n",
       " 10.604719759225034,\n",
       " 10.858605175592535,\n",
       " 11.236798187996238,\n",
       " 11.641011443860833,\n",
       " 11.871518103236177,\n",
       " 11.986890460958296,\n",
       " 12.075267775426607,\n",
       " 12.608099325319147,\n",
       " 12.798363472905239,\n",
       " 12.856743881488764,\n",
       " 13.08154257522419,\n",
       " 13.362210892491294,\n",
       " 14.128168241443795,\n",
       " 14.315705968961579,\n",
       " 14.37896297484304,\n",
       " 14.450627795676287,\n",
       " 14.61079891522304,\n",
       " 14.760075813291877,\n",
       " 14.902951957145492,\n",
       " 15.08834694399302,\n",
       " 15.371167906444871,\n",
       " 15.3899538387929,\n",
       " 15.610563670725771,\n",
       " 16.09503987209427,\n",
       " 16.46130759991724,\n",
       " 16.481315583169696,\n",
       " 16.6389393148966,\n",
       " 16.763965750086612,\n",
       " 17.161534614964296,\n",
       " 17.64373100766722,\n",
       " 17.6864448329581,\n",
       " 17.8612019835546,\n",
       " 18.07524974261635,\n",
       " 18.122155188589808,\n",
       " 18.19965345762347,\n",
       " 18.441417169832395,\n",
       " 18.549634661008042,\n",
       " 18.721268695280955,\n",
       " 18.74098994120328,\n",
       " 18.860144417322793,\n",
       " 19.39519055306905,\n",
       " 19.586777618471984,\n",
       " 19.81315603849211,\n",
       " 19.872737404498217,\n",
       " 35.208497374763105,\n",
       " 35.2716370564889,\n",
       " 35.37839974752564,\n",
       " 35.515220220228784,\n",
       " 35.54564539798049,\n",
       " 35.601439633620295,\n",
       " 35.61978555506285,\n",
       " 35.71956553656463,\n",
       " 35.875789991904966,\n",
       " 35.99354136611884,\n",
       " 36.03831329597236,\n",
       " 36.30504845696931,\n",
       " 36.40586779191911,\n",
       " 36.453695545741105,\n",
       " 36.55320010711284,\n",
       " 36.565632598338325,\n",
       " 36.57181860190921,\n",
       " 36.611399976317614,\n",
       " 36.64091434197609,\n",
       " 36.8497199427049,\n",
       " 37.008698108611824,\n",
       " 37.26189280583681,\n",
       " 37.2968682945781,\n",
       " 37.31188336629809,\n",
       " 37.407519263139065,\n",
       " 37.50022259557803,\n",
       " 37.59782524171885,\n",
       " 37.6433676336202,\n",
       " 37.78749072008687,\n",
       " 37.89417335165471,\n",
       " 37.907818486628635,\n",
       " 38.00838189076956,\n",
       " 38.20612732931414,\n",
       " 38.28062748521115,\n",
       " 38.316249792537675,\n",
       " 38.43330376572454,\n",
       " 38.504717212958525,\n",
       " 38.58303485698609,\n",
       " 38.59711217550104,\n",
       " 38.713565537601234,\n",
       " 38.73938020735429,\n",
       " 38.80049218866173,\n",
       " 38.880968853368245,\n",
       " 38.94168997915732,\n",
       " 39.00044528747109,\n",
       " 39.09218444693862,\n",
       " 39.31381532329558,\n",
       " 39.38104134484665,\n",
       " 39.382106599952536,\n",
       " 39.45089464453682,\n",
       " 39.5383639149662,\n",
       " 39.66637351444338,\n",
       " 39.71730205629479]"
      ]
     },
     "execution_count": 56,
     "metadata": {},
     "output_type": "execute_result"
    }
   ],
   "source": [
    "sorted([i for _, i in zip(range(100), observations)])"
   ]
  },
  {
   "cell_type": "markdown",
   "metadata": {},
   "source": [
    "then observe the quantiles:"
   ]
  },
  {
   "cell_type": "code",
   "execution_count": 57,
   "metadata": {},
   "outputs": [
    {
     "data": {
      "text/plain": [
       "[15.020211187738782, 35.009163151922635, 37.50463277093116]"
      ]
     },
     "execution_count": 57,
     "metadata": {},
     "output_type": "execute_result"
    }
   ],
   "source": [
    "statistics.quantiles(observations)"
   ]
  },
  {
   "cell_type": "markdown",
   "metadata": {},
   "source": [
    "it looks uniform. By the way, use different intervals, $[14, 20)$ and $[35,40)$,"
   ]
  },
  {
   "cell_type": "code",
   "execution_count": 58,
   "metadata": {},
   "outputs": [],
   "source": [
    "observations = take(samples(slice(14, 20), slice(35, 40)), 1000000)"
   ]
  },
  {
   "cell_type": "markdown",
   "metadata": {},
   "source": [
    "look again at some observations,"
   ]
  },
  {
   "cell_type": "code",
   "execution_count": 59,
   "metadata": {},
   "outputs": [
    {
     "data": {
      "text/plain": [
       "[14.2894744307065,\n",
       " 14.567855525427795,\n",
       " 14.614501321625536,\n",
       " 14.852171677145659,\n",
       " 14.907211181252041,\n",
       " 14.968285918761719,\n",
       " 15.12747212461315,\n",
       " 15.256758785197473,\n",
       " 15.319819952616513,\n",
       " 15.44896101893795,\n",
       " 15.46949182637184,\n",
       " 15.525693468769717,\n",
       " 15.529163152061802,\n",
       " 15.564301242054672,\n",
       " 15.669988205033237,\n",
       " 15.91439408404592,\n",
       " 15.97406682761393,\n",
       " 16.054197676349123,\n",
       " 16.07790148761498,\n",
       " 16.182666101173634,\n",
       " 16.19499475043846,\n",
       " 16.54359355182931,\n",
       " 16.554672845276883,\n",
       " 16.63735733131587,\n",
       " 16.90013210927373,\n",
       " 16.91040518268221,\n",
       " 17.14407920870184,\n",
       " 17.19439573863112,\n",
       " 17.20656960159678,\n",
       " 17.21169406763174,\n",
       " 17.266377968321734,\n",
       " 17.449317097232196,\n",
       " 17.50499488355765,\n",
       " 17.50874192896787,\n",
       " 17.519388933926933,\n",
       " 17.73526944538669,\n",
       " 17.795135494880203,\n",
       " 17.96784338955439,\n",
       " 18.01182702858506,\n",
       " 18.27125028419525,\n",
       " 18.782276887216405,\n",
       " 18.845361033130622,\n",
       " 18.90887123130714,\n",
       " 19.006137495735132,\n",
       " 19.149765544089583,\n",
       " 19.225553556099744,\n",
       " 19.326002868087613,\n",
       " 19.351687271024076,\n",
       " 19.49275684134995,\n",
       " 19.529506644760723,\n",
       " 19.543141154311517,\n",
       " 19.80679305871736,\n",
       " 19.818909959896757,\n",
       " 19.960761485115178,\n",
       " 35.2264429158269,\n",
       " 35.26316134160675,\n",
       " 35.39717789685274,\n",
       " 35.413270769481564,\n",
       " 35.61631140963445,\n",
       " 35.710258422050224,\n",
       " 35.71078259443684,\n",
       " 35.73964330872067,\n",
       " 36.361266985148426,\n",
       " 36.4220113449107,\n",
       " 36.533993761996705,\n",
       " 36.588136576654655,\n",
       " 36.70500446716608,\n",
       " 36.82761734963019,\n",
       " 36.88363712134305,\n",
       " 37.230062120983305,\n",
       " 37.23497490455708,\n",
       " 37.39078349992419,\n",
       " 37.451982805632326,\n",
       " 37.481621559867875,\n",
       " 37.48253856912495,\n",
       " 37.532357563267674,\n",
       " 37.68122554965463,\n",
       " 37.81658550477775,\n",
       " 37.846704164294735,\n",
       " 37.85993954384434,\n",
       " 37.93646175001616,\n",
       " 37.98371066447644,\n",
       " 38.02974643570607,\n",
       " 38.193978067218744,\n",
       " 38.496944350120096,\n",
       " 38.505911198634664,\n",
       " 38.58921207458006,\n",
       " 38.661575759662924,\n",
       " 38.723735852937985,\n",
       " 38.959886136067254,\n",
       " 39.08005250872501,\n",
       " 39.09641170421992,\n",
       " 39.26899396917356,\n",
       " 39.27978890748443,\n",
       " 39.316603621630925,\n",
       " 39.319574830618784,\n",
       " 39.32744441668071,\n",
       " 39.39013442125252,\n",
       " 39.65058001626882,\n",
       " 39.918848103357355]"
      ]
     },
     "execution_count": 59,
     "metadata": {},
     "output_type": "execute_result"
    }
   ],
   "source": [
    "sorted([i for _, i in zip(range(100), observations)])"
   ]
  },
  {
   "cell_type": "markdown",
   "metadata": {},
   "source": [
    "and check the corresponding quantiles"
   ]
  },
  {
   "cell_type": "code",
   "execution_count": 60,
   "metadata": {},
   "outputs": [
    {
     "data": {
      "text/plain": [
       "[17.001128260345325, 35.00061212444177, 37.50551249443724]"
      ]
     },
     "execution_count": 60,
     "metadata": {},
     "output_type": "execute_result"
    }
   ],
   "source": [
    "statistics.quantiles(observations)"
   ]
  },
  {
   "cell_type": "markdown",
   "metadata": {},
   "source": [
    "it should be uniform too. Finally, we test the corner case where $b=c$, so let $[10, 20)$ and $[20,40)$,"
   ]
  },
  {
   "cell_type": "code",
   "execution_count": 61,
   "metadata": {},
   "outputs": [],
   "source": [
    "observations = take(samples(slice(10, 20), slice(20, 40)), 1000000)"
   ]
  },
  {
   "cell_type": "markdown",
   "metadata": {},
   "source": [
    "look again at some observations,"
   ]
  },
  {
   "cell_type": "code",
   "execution_count": 62,
   "metadata": {},
   "outputs": [
    {
     "data": {
      "text/plain": [
       "[10.035161524701131,\n",
       " 10.40308438308476,\n",
       " 10.453627899958564,\n",
       " 10.894287941852813,\n",
       " 11.137389035252255,\n",
       " 11.271567923695416,\n",
       " 11.30608699829178,\n",
       " 11.544522349021864,\n",
       " 11.74277921905845,\n",
       " 12.012069938519831,\n",
       " 12.136974751909504,\n",
       " 12.324266350252092,\n",
       " 12.49959389354197,\n",
       " 12.61010885615925,\n",
       " 13.019606869537146,\n",
       " 13.288054541218981,\n",
       " 13.423939916930628,\n",
       " 13.511568813631374,\n",
       " 13.737441129061065,\n",
       " 13.861306291643,\n",
       " 14.258184740155516,\n",
       " 14.474335346483734,\n",
       " 14.593693889035517,\n",
       " 14.60801038570705,\n",
       " 14.749833724505542,\n",
       " 14.870016930190468,\n",
       " 14.876891369223362,\n",
       " 15.093252763369293,\n",
       " 15.135157633206049,\n",
       " 15.519619396036088,\n",
       " 15.672097842350068,\n",
       " 15.750183667118385,\n",
       " 16.047501759768053,\n",
       " 16.76510885338166,\n",
       " 17.065174770528312,\n",
       " 17.187341077888263,\n",
       " 17.533837405071807,\n",
       " 17.943968436070566,\n",
       " 18.580525687521288,\n",
       " 18.602115267373318,\n",
       " 18.741597072479713,\n",
       " 18.755126014685075,\n",
       " 19.430709547193594,\n",
       " 20.328030011433228,\n",
       " 21.065457638872587,\n",
       " 21.150029497917092,\n",
       " 21.64331235554475,\n",
       " 21.675688011896533,\n",
       " 21.80487140703719,\n",
       " 22.125989788171488,\n",
       " 22.17115789998934,\n",
       " 22.54764493635133,\n",
       " 22.548382726885393,\n",
       " 22.954332733511635,\n",
       " 24.01713576294756,\n",
       " 24.12811486601295,\n",
       " 24.322417996460175,\n",
       " 24.86966422112255,\n",
       " 25.175480248086217,\n",
       " 26.129652584544694,\n",
       " 26.200480003591192,\n",
       " 26.24826818412849,\n",
       " 27.306135759910415,\n",
       " 27.562416029763554,\n",
       " 28.47232080819992,\n",
       " 28.598240284545177,\n",
       " 28.707267102509274,\n",
       " 28.787179394128973,\n",
       " 28.794166965621116,\n",
       " 29.027213662092024,\n",
       " 30.03125474152972,\n",
       " 30.066841406703922,\n",
       " 30.62979241143689,\n",
       " 30.707624576632504,\n",
       " 30.98329013071671,\n",
       " 31.795902901342885,\n",
       " 33.21427078869403,\n",
       " 33.314753399381374,\n",
       " 33.317976586713286,\n",
       " 33.34406810249045,\n",
       " 33.55936812683325,\n",
       " 33.730632511361236,\n",
       " 33.80904945274633,\n",
       " 34.531591720999316,\n",
       " 34.81812280038163,\n",
       " 35.26864270173962,\n",
       " 35.306192053740496,\n",
       " 35.559079274178146,\n",
       " 35.66801886022802,\n",
       " 35.906444779733995,\n",
       " 36.97931930984736,\n",
       " 37.063335579459235,\n",
       " 37.710685335336294,\n",
       " 38.33042629574662,\n",
       " 38.649173590761734,\n",
       " 38.889346630611854,\n",
       " 39.19937308645714,\n",
       " 39.3384049281577,\n",
       " 39.61681208427888,\n",
       " 39.72508342159965]"
      ]
     },
     "execution_count": 62,
     "metadata": {},
     "output_type": "execute_result"
    }
   ],
   "source": [
    "sorted([i for _, i in zip(range(100), observations)])"
   ]
  },
  {
   "cell_type": "markdown",
   "metadata": {},
   "source": [
    "and check the corresponding quantiles"
   ]
  },
  {
   "cell_type": "code",
   "execution_count": 63,
   "metadata": {},
   "outputs": [
    {
     "data": {
      "text/plain": [
       "[15.008642335636235, 20.01690595801498, 30.01472494058433]"
      ]
     },
     "execution_count": 63,
     "metadata": {},
     "output_type": "execute_result"
    }
   ],
   "source": [
    "statistics.quantiles(observations)"
   ]
  },
  {
   "cell_type": "markdown",
   "metadata": {},
   "source": [
    "it should be uniform either. Finally, attempt a sampling from `4` slices,"
   ]
  },
  {
   "cell_type": "code",
   "execution_count": 73,
   "metadata": {},
   "outputs": [],
   "source": [
    "observations = take(samples(slice(0, 5), slice(10, 15), slice(20, 25), slice(30, 35)), 1000000)"
   ]
  },
  {
   "cell_type": "markdown",
   "metadata": {},
   "source": [
    "look again at some observations,"
   ]
  },
  {
   "cell_type": "code",
   "execution_count": 74,
   "metadata": {},
   "outputs": [
    {
     "data": {
      "text/plain": [
       "[0.11923026607978837,\n",
       " 0.20622452924056178,\n",
       " 0.6427695574235814,\n",
       " 0.6931050064070732,\n",
       " 0.7782212305433633,\n",
       " 0.9047274444387332,\n",
       " 1.0822218428878982,\n",
       " 1.3726146723625865,\n",
       " 1.618923732998998,\n",
       " 1.8385208349809212,\n",
       " 1.947641224796055,\n",
       " 2.3410522857775073,\n",
       " 2.4413920911374265,\n",
       " 2.671911366387516,\n",
       " 2.814955074658434,\n",
       " 3.092914489684082,\n",
       " 3.5020880409413224,\n",
       " 3.592949885528516,\n",
       " 4.246285417360472,\n",
       " 4.559865356341081,\n",
       " 4.579226492320392,\n",
       " 4.767941092068093,\n",
       " 10.044642533351421,\n",
       " 10.08020363010737,\n",
       " 10.21446040236147,\n",
       " 10.248407701391995,\n",
       " 10.347838101020972,\n",
       " 10.463062241451,\n",
       " 10.496132827744978,\n",
       " 10.523422077785238,\n",
       " 10.566932540109637,\n",
       " 10.59104497781158,\n",
       " 10.85364531530621,\n",
       " 10.947077934382033,\n",
       " 11.204845397741996,\n",
       " 11.279279126164397,\n",
       " 11.43030370617164,\n",
       " 11.538631149765106,\n",
       " 11.640385607920683,\n",
       " 11.688425359613321,\n",
       " 11.96166099423535,\n",
       " 11.983792454792932,\n",
       " 12.17860887400474,\n",
       " 12.614946135952351,\n",
       " 12.756170091509397,\n",
       " 13.028057221653018,\n",
       " 13.166899825688429,\n",
       " 13.316065559382116,\n",
       " 13.428823087943842,\n",
       " 13.514662599651013,\n",
       " 13.551691062794223,\n",
       " 13.747270713216999,\n",
       " 13.815685285706383,\n",
       " 14.996054887560593,\n",
       " 20.037346049071566,\n",
       " 20.091942199419293,\n",
       " 20.100425729725625,\n",
       " 20.36815544969909,\n",
       " 20.99704408429071,\n",
       " 21.391432825963722,\n",
       " 21.530646833486205,\n",
       " 21.71999529101945,\n",
       " 21.757565069058362,\n",
       " 21.775545596682772,\n",
       " 21.99540772118588,\n",
       " 22.016378465189284,\n",
       " 22.032364481742768,\n",
       " 22.676534848811414,\n",
       " 22.71439964846263,\n",
       " 22.910516341080204,\n",
       " 22.965985343136843,\n",
       " 22.98277899475418,\n",
       " 23.157785815015348,\n",
       " 23.446981121415423,\n",
       " 24.56634224541175,\n",
       " 24.577255309494504,\n",
       " 24.63408067498932,\n",
       " 24.69115607963368,\n",
       " 24.79324917427499,\n",
       " 24.855393479827413,\n",
       " 30.26976515728243,\n",
       " 30.335775525783216,\n",
       " 30.432092088269027,\n",
       " 30.734904305546827,\n",
       " 30.884700861618093,\n",
       " 31.058427345902192,\n",
       " 31.06339521360841,\n",
       " 31.092998268532966,\n",
       " 31.649996202110536,\n",
       " 32.071258272297186,\n",
       " 32.46482608354354,\n",
       " 33.21858345263357,\n",
       " 33.32071681501621,\n",
       " 33.59112941584716,\n",
       " 33.651825164261474,\n",
       " 33.70124047645148,\n",
       " 33.81505139831141,\n",
       " 33.9157171998315,\n",
       " 34.028172038278875,\n",
       " 34.05409261039254]"
      ]
     },
     "execution_count": 74,
     "metadata": {},
     "output_type": "execute_result"
    }
   ],
   "source": [
    "sorted([i for _, i in zip(range(100), observations)])"
   ]
  },
  {
   "cell_type": "markdown",
   "metadata": {},
   "source": [
    "and check the corresponding quantiles"
   ]
  },
  {
   "cell_type": "code",
   "execution_count": 75,
   "metadata": {},
   "outputs": [
    {
     "data": {
      "text/plain": [
       "[4.997958378071746, 14.989752400547736, 24.992706341887065]"
      ]
     },
     "execution_count": 75,
     "metadata": {},
     "output_type": "execute_result"
    }
   ],
   "source": [
    "statistics.quantiles(observations)"
   ]
  },
  {
   "cell_type": "markdown",
   "metadata": {},
   "source": [
    "it should be uniform either."
   ]
  },
  {
   "cell_type": "markdown",
   "metadata": {},
   "source": [
    "## Bernoulli random variable"
   ]
  },
  {
   "cell_type": "code",
   "execution_count": 45,
   "metadata": {},
   "outputs": [
    {
     "data": {
      "text/plain": [
       "1"
      ]
     },
     "execution_count": 45,
     "metadata": {},
     "output_type": "execute_result"
    }
   ],
   "source": [
    "int(True) # this is a very quick check to see if a Boolean can be used as integer"
   ]
  },
  {
   "cell_type": "code",
   "execution_count": 52,
   "metadata": {},
   "outputs": [],
   "source": [
    "def Bernoulli(p):\n",
    "    'This is a generator for a Bernoulli random variable of parameter `p` for success.'\n",
    "    \n",
    "    while True:              # forever we loop\n",
    "        r = random.random()         # get a sample\n",
    "        yield int(r <= p)    # if that sample denotes a success or a failure we *yield* that outcome"
   ]
  },
  {
   "cell_type": "code",
   "execution_count": 55,
   "metadata": {},
   "outputs": [
    {
     "data": {
      "text/plain": [
       "<generator object Bernoulli at 0x7feb34db7970>"
      ]
     },
     "execution_count": 55,
     "metadata": {},
     "output_type": "execute_result"
    }
   ],
   "source": [
    "B = Bernoulli(p=0.6) # B is our random variable\n",
    "B"
   ]
  },
  {
   "cell_type": "code",
   "execution_count": 56,
   "metadata": {},
   "outputs": [
    {
     "data": {
      "text/plain": [
       "0"
      ]
     },
     "execution_count": 56,
     "metadata": {},
     "output_type": "execute_result"
    }
   ],
   "source": [
    "next(B)"
   ]
  },
  {
   "cell_type": "code",
   "execution_count": 57,
   "metadata": {},
   "outputs": [
    {
     "data": {
      "text/plain": [
       "1"
      ]
     },
     "execution_count": 57,
     "metadata": {},
     "output_type": "execute_result"
    }
   ],
   "source": [
    "next(B)"
   ]
  },
  {
   "cell_type": "code",
   "execution_count": 58,
   "metadata": {},
   "outputs": [
    {
     "data": {
      "text/plain": [
       "1"
      ]
     },
     "execution_count": 58,
     "metadata": {},
     "output_type": "execute_result"
    }
   ],
   "source": [
    "next(B)"
   ]
  },
  {
   "cell_type": "code",
   "execution_count": 59,
   "metadata": {},
   "outputs": [
    {
     "data": {
      "text/plain": [
       "1"
      ]
     },
     "execution_count": 59,
     "metadata": {},
     "output_type": "execute_result"
    }
   ],
   "source": [
    "next(B)"
   ]
  },
  {
   "cell_type": "code",
   "execution_count": 65,
   "metadata": {},
   "outputs": [
    {
     "data": {
      "text/plain": [
       "[0, 1, 1, 0, 1, 1, 1, 1, 0, 0, 1, 0, 1, 1, 1, 0, 1, 1, 0, 0]"
      ]
     },
     "execution_count": 65,
     "metadata": {},
     "output_type": "execute_result"
    }
   ],
   "source": [
    "list(take(B, 20))"
   ]
  },
  {
   "cell_type": "code",
   "execution_count": 68,
   "metadata": {},
   "outputs": [
    {
     "data": {
      "text/plain": [
       "Counter({1: 600385, 0: 399615})"
      ]
     },
     "execution_count": 68,
     "metadata": {},
     "output_type": "execute_result"
    }
   ],
   "source": [
    "C = collections.Counter(take(B, 1_000_000))\n",
    "C"
   ]
  },
  {
   "cell_type": "code",
   "execution_count": 77,
   "metadata": {},
   "outputs": [
    {
     "data": {
      "text/plain": [
       "0.600385"
      ]
     },
     "execution_count": 77,
     "metadata": {},
     "output_type": "execute_result"
    }
   ],
   "source": [
    "C[1]/(C[0]+C[1])"
   ]
  },
  {
   "cell_type": "markdown",
   "metadata": {},
   "source": [
    "where"
   ]
  },
  {
   "cell_type": "code",
   "execution_count": 79,
   "metadata": {
    "scrolled": false
   },
   "outputs": [
    {
     "name": "stdout",
     "output_type": "stream",
     "text": [
      "Dict subclass for counting hashable items.  Sometimes called a bag\n",
      "    or multiset.  Elements are stored as dictionary keys and their counts\n",
      "    are stored as dictionary values.\n",
      "\n",
      "    >>> c = Counter('abcdeabcdabcaba')  # count elements from a string\n",
      "\n",
      "    >>> c.most_common(3)                # three most common elements\n",
      "    [('a', 5), ('b', 4), ('c', 3)]\n",
      "    >>> sorted(c)                       # list all unique elements\n",
      "    ['a', 'b', 'c', 'd', 'e']\n",
      "    >>> ''.join(sorted(c.elements()))   # list elements with repetitions\n",
      "    'aaaaabbbbcccdde'\n",
      "    >>> sum(c.values())                 # total of all counts\n",
      "    15\n",
      "\n",
      "    >>> c['a']                          # count of letter 'a'\n",
      "    5\n",
      "    >>> for elem in 'shazam':           # update counts from an iterable\n",
      "    ...     c[elem] += 1                # by adding 1 to each element's count\n",
      "    >>> c['a']                          # now there are seven 'a'\n",
      "    7\n",
      "    >>> del c['b']                      # remove all 'b'\n",
      "    >>> c['b']                          # now there are zero 'b'\n",
      "    0\n",
      "\n",
      "    >>> d = Counter('simsalabim')       # make another counter\n",
      "    >>> c.update(d)                     # add in the second counter\n",
      "    >>> c['a']                          # now there are nine 'a'\n",
      "    9\n",
      "\n",
      "    >>> c.clear()                       # empty the counter\n",
      "    >>> c\n",
      "    Counter()\n",
      "\n",
      "    Note:  If a count is set to zero or reduced to zero, it will remain\n",
      "    in the counter until the entry is deleted or the counter is cleared:\n",
      "\n",
      "    >>> c = Counter('aaabbc')\n",
      "    >>> c['b'] -= 2                     # reduce the count of 'b' by two\n",
      "    >>> c.most_common()                 # 'b' is still in, but its count is zero\n",
      "    [('a', 3), ('c', 1), ('b', 0)]\n",
      "\n",
      "    \n"
     ]
    }
   ],
   "source": [
    "print(collections.Counter.__doc__)"
   ]
  }
 ],
 "metadata": {
  "kernelspec": {
   "display_name": "Python 3",
   "language": "python",
   "name": "python3"
  },
  "language_info": {
   "codemirror_mode": {
    "name": "ipython",
    "version": 3
   },
   "file_extension": ".py",
   "mimetype": "text/x-python",
   "name": "python",
   "nbconvert_exporter": "python",
   "pygments_lexer": "ipython3",
   "version": "3.9.1"
  }
 },
 "nbformat": 4,
 "nbformat_minor": 4
}
