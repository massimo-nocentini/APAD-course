{
 "cells": [
  {
   "cell_type": "markdown",
   "metadata": {},
   "source": [
    "# Exercises\n",
    "\n",
    "This chapter is an intermezzo that allows us to check and have a deeper understanding of the concepts seen so far by means of exercises. We will see how the code shown can be rewritten to take advantage of battle-tested solutions and idioms that emerges from daily practice.\n",
    "\n",
    "First of all, we import some modules"
   ]
  },
  {
   "cell_type": "code",
   "execution_count": 17,
   "metadata": {},
   "outputs": [],
   "source": [
    "import functools, operator, math, itertools, random, collections, statistics"
   ]
  },
  {
   "cell_type": "markdown",
   "metadata": {},
   "source": [
    "that contains useful definitions for the code that we are going to write. Moreover, an utility for generators:"
   ]
  },
  {
   "cell_type": "code",
   "execution_count": 22,
   "metadata": {},
   "outputs": [],
   "source": [
    "def take(iterable, n):\n",
    "    yield from map(lambda p: p[1], zip(range(n), iterable))"
   ]
  },
  {
   "cell_type": "markdown",
   "metadata": {},
   "source": [
    "## `sum_upto`"
   ]
  },
  {
   "cell_type": "markdown",
   "metadata": {},
   "source": [
    "Let"
   ]
  },
  {
   "cell_type": "code",
   "execution_count": 4,
   "metadata": {},
   "outputs": [],
   "source": [
    "def sum_upto(n):\n",
    "    return functools.reduce(operator.add, range(n+1))"
   ]
  },
  {
   "cell_type": "markdown",
   "metadata": {},
   "source": [
    "and test according to Euler's quicker formula"
   ]
  },
  {
   "cell_type": "code",
   "execution_count": 10,
   "metadata": {},
   "outputs": [],
   "source": [
    "n = 100\n",
    "v = sum_upto(n)\n",
    "assert v == (n*(n+1)/2) == 5050"
   ]
  },
  {
   "cell_type": "markdown",
   "metadata": {},
   "source": [
    "where"
   ]
  },
  {
   "cell_type": "code",
   "execution_count": 11,
   "metadata": {},
   "outputs": [
    {
     "name": "stdout",
     "output_type": "stream",
     "text": [
      "Help on built-in function reduce in module _functools:\n",
      "\n",
      "reduce(...)\n",
      "    reduce(function, sequence[, initial]) -> value\n",
      "    \n",
      "    Apply a function of two arguments cumulatively to the items of a sequence,\n",
      "    from left to right, so as to reduce the sequence to a single value.\n",
      "    For example, reduce(lambda x, y: x+y, [1, 2, 3, 4, 5]) calculates\n",
      "    ((((1+2)+3)+4)+5).  If initial is present, it is placed before the items\n",
      "    of the sequence in the calculation, and serves as a default when the\n",
      "    sequence is empty.\n",
      "\n"
     ]
    }
   ],
   "source": [
    "help(functools.reduce)"
   ]
  },
  {
   "cell_type": "markdown",
   "metadata": {},
   "source": [
    "and"
   ]
  },
  {
   "cell_type": "code",
   "execution_count": 12,
   "metadata": {},
   "outputs": [
    {
     "name": "stdout",
     "output_type": "stream",
     "text": [
      "Help on built-in function add in module _operator:\n",
      "\n",
      "add(a, b, /)\n",
      "    Same as a + b.\n",
      "\n"
     ]
    }
   ],
   "source": [
    "help(operator.add)"
   ]
  },
  {
   "cell_type": "markdown",
   "metadata": {},
   "source": [
    "## `sqrt`"
   ]
  },
  {
   "cell_type": "markdown",
   "metadata": {},
   "source": [
    "Let"
   ]
  },
  {
   "cell_type": "code",
   "execution_count": 11,
   "metadata": {},
   "outputs": [],
   "source": [
    "def sqrt(n):\n",
    "    \n",
    "    yield n\n",
    "    refined = n/2\n",
    "    while True:\n",
    "        yield refined\n",
    "        refined = (n/refined + refined)/2"
   ]
  },
  {
   "cell_type": "markdown",
   "metadata": {},
   "source": [
    "to enumerate 15 approximation of the square root of 37"
   ]
  },
  {
   "cell_type": "code",
   "execution_count": 16,
   "metadata": {},
   "outputs": [
    {
     "data": {
      "text/plain": [
       "[(0, 37),\n",
       " (1, 18.5),\n",
       " (2, 10.25),\n",
       " (3, 6.929878048780488),\n",
       " (4, 6.134538672432479),\n",
       " (5, 6.082981028300877),\n",
       " (6, 6.082762534222396),\n",
       " (7, 6.08276253029822),\n",
       " (8, 6.08276253029822),\n",
       " (9, 6.08276253029822),\n",
       " (10, 6.08276253029822),\n",
       " (11, 6.08276253029822),\n",
       " (12, 6.08276253029822),\n",
       " (13, 6.08276253029822),\n",
       " (14, 6.08276253029822)]"
      ]
     },
     "execution_count": 16,
     "metadata": {},
     "output_type": "execute_result"
    }
   ],
   "source": [
    "n = 37\n",
    "list(zip(range(15), sqrt(37)))"
   ]
  },
  {
   "cell_type": "markdown",
   "metadata": {},
   "source": [
    "and check with respect to"
   ]
  },
  {
   "cell_type": "code",
   "execution_count": 22,
   "metadata": {},
   "outputs": [
    {
     "data": {
      "text/plain": [
       "6.082762530298219"
      ]
     },
     "execution_count": 22,
     "metadata": {},
     "output_type": "execute_result"
    }
   ],
   "source": [
    "math.sqrt(n)"
   ]
  },
  {
   "cell_type": "markdown",
   "metadata": {},
   "source": [
    "where"
   ]
  },
  {
   "cell_type": "code",
   "execution_count": 24,
   "metadata": {},
   "outputs": [
    {
     "name": "stdout",
     "output_type": "stream",
     "text": [
      "Help on built-in function sqrt in module math:\n",
      "\n",
      "sqrt(x, /)\n",
      "    Return the square root of x.\n",
      "\n"
     ]
    }
   ],
   "source": [
    "help(math.sqrt)"
   ]
  },
  {
   "cell_type": "markdown",
   "metadata": {},
   "source": [
    "## $\\pi$\n",
    "\n",
    "According to https://en.wikipedia.org/wiki/Leibniz_formula_for_%CF%80, let"
   ]
  },
  {
   "cell_type": "code",
   "execution_count": 19,
   "metadata": {},
   "outputs": [],
   "source": [
    "def pi_Leibniz():\n",
    "    \n",
    "    d = 0\n",
    "    for i, coeff in enumerate(itertools.count(1, step=2)):\n",
    "        yield 4*d\n",
    "        d += (-1)**i/coeff"
   ]
  },
  {
   "cell_type": "markdown",
   "metadata": {},
   "source": [
    "in"
   ]
  },
  {
   "cell_type": "code",
   "execution_count": 20,
   "metadata": {},
   "outputs": [
    {
     "data": {
      "text/plain": [
       "[(990, 3.140582552837346),\n",
       " (991, 3.1426017350685425),\n",
       " (992, 3.140584589329763),\n",
       " (993, 3.1425997026798886),\n",
       " (994, 3.140586617627045),\n",
       " (995, 3.142597678461635),\n",
       " (996, 3.1405886377785612),\n",
       " (997, 3.1425956623646125),\n",
       " (998, 3.140590649833284),\n",
       " (999, 3.142593654340044)]"
      ]
     },
     "execution_count": 20,
     "metadata": {},
     "output_type": "execute_result"
    }
   ],
   "source": [
    "list(zip(range(1000), pi_Leibniz()))[-10:]"
   ]
  },
  {
   "cell_type": "markdown",
   "metadata": {},
   "source": [
    "and check against the"
   ]
  },
  {
   "cell_type": "code",
   "execution_count": 87,
   "metadata": {},
   "outputs": [
    {
     "data": {
      "text/plain": [
       "3.141592653589793"
      ]
     },
     "execution_count": 87,
     "metadata": {},
     "output_type": "execute_result"
    }
   ],
   "source": [
    "math.pi"
   ]
  },
  {
   "cell_type": "markdown",
   "metadata": {},
   "source": [
    "where"
   ]
  },
  {
   "cell_type": "code",
   "execution_count": 82,
   "metadata": {},
   "outputs": [
    {
     "name": "stdout",
     "output_type": "stream",
     "text": [
      "Help on class count in module itertools:\n",
      "\n",
      "class count(builtins.object)\n",
      " |  count(start=0, step=1)\n",
      " |  \n",
      " |  Return a count object whose .__next__() method returns consecutive values.\n",
      " |  \n",
      " |  Equivalent to:\n",
      " |      def count(firstval=0, step=1):\n",
      " |          x = firstval\n",
      " |          while 1:\n",
      " |              yield x\n",
      " |              x += step\n",
      " |  \n",
      " |  Methods defined here:\n",
      " |  \n",
      " |  __getattribute__(self, name, /)\n",
      " |      Return getattr(self, name).\n",
      " |  \n",
      " |  __iter__(self, /)\n",
      " |      Implement iter(self).\n",
      " |  \n",
      " |  __next__(self, /)\n",
      " |      Implement next(self).\n",
      " |  \n",
      " |  __reduce__(...)\n",
      " |      Return state information for pickling.\n",
      " |  \n",
      " |  __repr__(self, /)\n",
      " |      Return repr(self).\n",
      " |  \n",
      " |  ----------------------------------------------------------------------\n",
      " |  Static methods defined here:\n",
      " |  \n",
      " |  __new__(*args, **kwargs) from builtins.type\n",
      " |      Create and return a new object.  See help(type) for accurate signature.\n",
      "\n"
     ]
    }
   ],
   "source": [
    "help(itertools.count)"
   ]
  },
  {
   "cell_type": "markdown",
   "metadata": {},
   "source": [
    "## The Collatz's conjecture\n",
    "\n",
    "Consider the following operation on an arbitrary positive integer:\n",
    "\n",
    "    If the number is even, divide it by two.\n",
    "    If the number is odd, triple it and add one.\n",
    "    \n",
    "See also https://en.wikipedia.org/wiki/Collatz_conjecture. Let"
   ]
  },
  {
   "cell_type": "code",
   "execution_count": 21,
   "metadata": {},
   "outputs": [],
   "source": [
    "def collatz(n):\n",
    "    \n",
    "    yield n\n",
    "    \n",
    "    while True:\n",
    "        n = 3*n + 1 if n % 2 else n // 2\n",
    "        yield n"
   ]
  },
  {
   "cell_type": "markdown",
   "metadata": {},
   "source": [
    "in"
   ]
  },
  {
   "cell_type": "code",
   "execution_count": 100,
   "metadata": {
    "scrolled": false
   },
   "outputs": [
    {
     "data": {
      "text/plain": [
       "[[1, 4, 2, 1, 4, 2, 1, 4, 2, 1, 4, 2, 1, 4, 2],\n",
       " [2, 1, 4, 2, 1, 4, 2, 1, 4, 2, 1, 4, 2, 1, 4],\n",
       " [3, 10, 5, 16, 8, 4, 2, 1, 4, 2, 1, 4, 2, 1, 4],\n",
       " [4, 2, 1, 4, 2, 1, 4, 2, 1, 4, 2, 1, 4, 2, 1],\n",
       " [5, 16, 8, 4, 2, 1, 4, 2, 1, 4, 2, 1, 4, 2, 1],\n",
       " [6, 3, 10, 5, 16, 8, 4, 2, 1, 4, 2, 1, 4, 2, 1],\n",
       " [7, 22, 11, 34, 17, 52, 26, 13, 40, 20, 10, 5, 16, 8, 4],\n",
       " [8, 4, 2, 1, 4, 2, 1, 4, 2, 1, 4, 2, 1, 4, 2],\n",
       " [9, 28, 14, 7, 22, 11, 34, 17, 52, 26, 13, 40, 20, 10, 5],\n",
       " [10, 5, 16, 8, 4, 2, 1, 4, 2, 1, 4, 2, 1, 4, 2],\n",
       " [11, 34, 17, 52, 26, 13, 40, 20, 10, 5, 16, 8, 4, 2, 1],\n",
       " [12, 6, 3, 10, 5, 16, 8, 4, 2, 1, 4, 2, 1, 4, 2],\n",
       " [13, 40, 20, 10, 5, 16, 8, 4, 2, 1, 4, 2, 1, 4, 2],\n",
       " [14, 7, 22, 11, 34, 17, 52, 26, 13, 40, 20, 10, 5, 16, 8],\n",
       " [15, 46, 23, 70, 35, 106, 53, 160, 80, 40, 20, 10, 5, 16, 8],\n",
       " [16, 8, 4, 2, 1, 4, 2, 1, 4, 2, 1, 4, 2, 1, 4],\n",
       " [17, 52, 26, 13, 40, 20, 10, 5, 16, 8, 4, 2, 1, 4, 2],\n",
       " [18, 9, 28, 14, 7, 22, 11, 34, 17, 52, 26, 13, 40, 20, 10],\n",
       " [19, 58, 29, 88, 44, 22, 11, 34, 17, 52, 26, 13, 40, 20, 10]]"
      ]
     },
     "execution_count": 100,
     "metadata": {},
     "output_type": "execute_result"
    }
   ],
   "source": [
    "[list(map(lambda p: p[1], zip(range(15), collatz(n)))) for n in range(1, 20)]"
   ]
  },
  {
   "cell_type": "markdown",
   "metadata": {},
   "source": [
    "## Fibonacci numbers\n",
    "\n",
    "Directly from https://docs.python.org/3/library/functools.html#functools.cache:"
   ]
  },
  {
   "cell_type": "code",
   "execution_count": 23,
   "metadata": {},
   "outputs": [],
   "source": [
    "@functools.cache\n",
    "def factorial(n):\n",
    "    return n * factorial(n-1) if n else 1"
   ]
  },
  {
   "cell_type": "markdown",
   "metadata": {},
   "source": [
    "no previously cached result, makes 11 recursive calls"
   ]
  },
  {
   "cell_type": "code",
   "execution_count": 28,
   "metadata": {},
   "outputs": [
    {
     "data": {
      "text/plain": [
       "3628800"
      ]
     },
     "execution_count": 28,
     "metadata": {},
     "output_type": "execute_result"
    }
   ],
   "source": [
    "factorial(10)"
   ]
  },
  {
   "cell_type": "markdown",
   "metadata": {},
   "source": [
    "just looks up cached value result"
   ]
  },
  {
   "cell_type": "code",
   "execution_count": 25,
   "metadata": {},
   "outputs": [
    {
     "data": {
      "text/plain": [
       "120"
      ]
     },
     "execution_count": 25,
     "metadata": {},
     "output_type": "execute_result"
    }
   ],
   "source": [
    "factorial(5)"
   ]
  },
  {
   "cell_type": "markdown",
   "metadata": {},
   "source": [
    "makes two new recursive calls, the other 10 are cached"
   ]
  },
  {
   "cell_type": "code",
   "execution_count": 29,
   "metadata": {},
   "outputs": [
    {
     "data": {
      "text/plain": [
       "479001600"
      ]
     },
     "execution_count": 29,
     "metadata": {},
     "output_type": "execute_result"
    }
   ],
   "source": [
    "factorial(12)"
   ]
  },
  {
   "cell_type": "markdown",
   "metadata": {},
   "source": [
    "## Uniform `random` on segmented interval\n",
    "\n",
    "The problem here reads as follow:\n",
    "\n",
    ">Sample uniformly from $[a, b)$ and $[c, d)$ where $b <= c$."
   ]
  },
  {
   "cell_type": "code",
   "execution_count": 78,
   "metadata": {},
   "outputs": [],
   "source": [
    "random.seed(11)"
   ]
  },
  {
   "cell_type": "code",
   "execution_count": 79,
   "metadata": {},
   "outputs": [
    {
     "name": "stdout",
     "output_type": "stream",
     "text": [
      "Help on built-in function random:\n",
      "\n",
      "random() method of random.Random instance\n",
      "    random() -> x in the interval [0, 1).\n",
      "\n"
     ]
    }
   ],
   "source": [
    "help(random.random)"
   ]
  },
  {
   "cell_type": "code",
   "execution_count": 81,
   "metadata": {},
   "outputs": [],
   "source": [
    "def samples(firstSlice, secondSlice):\n",
    "    secondLength = secondSlice.stop - secondSlice.start\n",
    "    ratio = secondLength/firstSlice.start\n",
    "    while True:\n",
    "        sample = random.random()*firstSlice.stop\n",
    "        yield (sample*ratio + secondSlice.start) if sample < firstSlice.start else sample"
   ]
  },
  {
   "cell_type": "markdown",
   "metadata": {},
   "source": [
    "Then define the generator with respect to $[10, 20)$ and $[35, 40)$"
   ]
  },
  {
   "cell_type": "code",
   "execution_count": 82,
   "metadata": {},
   "outputs": [],
   "source": [
    "observations = take(samples(slice(10, 20), slice(35, 40)), 1000000)"
   ]
  },
  {
   "cell_type": "markdown",
   "metadata": {},
   "source": [
    "have a look at some observations"
   ]
  },
  {
   "cell_type": "code",
   "execution_count": 83,
   "metadata": {},
   "outputs": [
    {
     "data": {
      "text/plain": [
       "[10.156825461245422,\n",
       " 10.23817278083611,\n",
       " 10.382482295281534,\n",
       " 10.567625323409576,\n",
       " 11.185902832207898,\n",
       " 11.19544772160992,\n",
       " 11.65469596335104,\n",
       " 11.747696576997939,\n",
       " 12.025676871638776,\n",
       " 12.311254091571415,\n",
       " 12.589098244680484,\n",
       " 12.597654404336039,\n",
       " 12.805834158383542,\n",
       " 12.83671313180921,\n",
       " 12.874302474223342,\n",
       " 13.078450670676808,\n",
       " 13.248990637807363,\n",
       " 13.868769650824781,\n",
       " 14.156192429958988,\n",
       " 14.637884314287007,\n",
       " 15.160810339875177,\n",
       " 15.32575772820814,\n",
       " 15.453793795456463,\n",
       " 15.570217173533017,\n",
       " 15.859537450399053,\n",
       " 15.940430236879482,\n",
       " 16.06823006164143,\n",
       " 16.19289068734355,\n",
       " 16.804310989857235,\n",
       " 16.84854257037064,\n",
       " 16.931672437623572,\n",
       " 16.94619546605609,\n",
       " 17.08753803402461,\n",
       " 17.697302254979416,\n",
       " 18.20543856208363,\n",
       " 18.484211680474587,\n",
       " 19.160847666396272,\n",
       " 19.281524331875282,\n",
       " 19.295155622511334,\n",
       " 19.41858112437383,\n",
       " 19.607178823485842,\n",
       " 19.643868415975565,\n",
       " 19.786033950203446,\n",
       " 19.913832833123983,\n",
       " 19.953124009261686,\n",
       " 35.0054493705557,\n",
       " 35.15000736949605,\n",
       " 35.300825892247886,\n",
       " 35.41880336369846,\n",
       " 35.59551105168855,\n",
       " 35.59893402941077,\n",
       " 35.70223499559926,\n",
       " 35.73038343833698,\n",
       " 35.733985533884244,\n",
       " 35.8714419835217,\n",
       " 35.9011717296193,\n",
       " 35.906705374918396,\n",
       " 35.94123456229219,\n",
       " 36.00332752183883,\n",
       " 36.010463089567054,\n",
       " 36.16507987639706,\n",
       " 36.179916794195506,\n",
       " 36.309670837166195,\n",
       " 36.57494095140162,\n",
       " 36.77678128198366,\n",
       " 36.84660343854877,\n",
       " 36.90208262797929,\n",
       " 36.90684415290366,\n",
       " 37.09717414729611,\n",
       " 37.107102214344394,\n",
       " 37.128656730090896,\n",
       " 37.132433685775226,\n",
       " 37.296659016079055,\n",
       " 37.419430136652146,\n",
       " 37.43012920137562,\n",
       " 37.4638794889313,\n",
       " 37.58277557861621,\n",
       " 37.697755868501424,\n",
       " 37.69794977190598,\n",
       " 37.78162899663886,\n",
       " 37.89039947314202,\n",
       " 37.96324762598947,\n",
       " 38.03401262624526,\n",
       " 38.0414514987099,\n",
       " 38.1527721701555,\n",
       " 38.2895542554773,\n",
       " 38.32585625463348,\n",
       " 38.86513531705935,\n",
       " 38.94274637072054,\n",
       " 38.97424388079281,\n",
       " 39.00399804918491,\n",
       " 39.20755617246421,\n",
       " 39.40531116656657,\n",
       " 39.47424877501022,\n",
       " 39.52379553509819,\n",
       " 39.57329881599558,\n",
       " 39.63934461223285,\n",
       " 39.65650070099773,\n",
       " 39.699872760136664,\n",
       " 39.997731522067916]"
      ]
     },
     "execution_count": 83,
     "metadata": {},
     "output_type": "execute_result"
    }
   ],
   "source": [
    "sorted([i for _, i in zip(range(100), observations)])"
   ]
  },
  {
   "cell_type": "markdown",
   "metadata": {},
   "source": [
    "then observe the quantiles:"
   ]
  },
  {
   "cell_type": "code",
   "execution_count": 84,
   "metadata": {},
   "outputs": [
    {
     "data": {
      "text/plain": [
       "[15.006802680976536, 35.007462054114015, 37.49996307800869]"
      ]
     },
     "execution_count": 84,
     "metadata": {},
     "output_type": "execute_result"
    }
   ],
   "source": [
    "statistics.quantiles(observations)"
   ]
  },
  {
   "cell_type": "markdown",
   "metadata": {},
   "source": [
    "it looks uniform. By the way, use different intervals, $[14, 20)$ and $[35,40)$,"
   ]
  },
  {
   "cell_type": "code",
   "execution_count": 85,
   "metadata": {},
   "outputs": [],
   "source": [
    "observations = take(samples(slice(14, 20), slice(35, 40)), 1000000)"
   ]
  },
  {
   "cell_type": "markdown",
   "metadata": {},
   "source": [
    "look again at some observations,"
   ]
  },
  {
   "cell_type": "code",
   "execution_count": 86,
   "metadata": {},
   "outputs": [
    {
     "data": {
      "text/plain": [
       "[14.283075034128789,\n",
       " 14.344642981348786,\n",
       " 14.688865709760112,\n",
       " 14.759034017699605,\n",
       " 14.778980951740772,\n",
       " 14.793336761503678,\n",
       " 15.137587805213371,\n",
       " 15.25173408596455,\n",
       " 15.317456657632407,\n",
       " 15.341221318874577,\n",
       " 15.366608784584269,\n",
       " 15.75644829436862,\n",
       " 16.245383093079482,\n",
       " 16.298216975457503,\n",
       " 17.20207768834477,\n",
       " 17.456016745025092,\n",
       " 17.509371560552218,\n",
       " 17.705594468497303,\n",
       " 17.731899026048854,\n",
       " 17.78843669826197,\n",
       " 18.0521470430377,\n",
       " 18.177426018715767,\n",
       " 18.73689014147333,\n",
       " 19.189272936744505,\n",
       " 19.593241906411937,\n",
       " 19.703938383770225,\n",
       " 19.8507928528412,\n",
       " 19.887969110474742,\n",
       " 35.008702180712774,\n",
       " 35.031213404638414,\n",
       " 35.07897380159041,\n",
       " 35.21760289840942,\n",
       " 35.223380744668454,\n",
       " 35.26193861838462,\n",
       " 35.294145330270894,\n",
       " 35.31170199505849,\n",
       " 35.449376551236426,\n",
       " 35.60144001605446,\n",
       " 35.64760723966421,\n",
       " 35.68577876398881,\n",
       " 35.91400870547509,\n",
       " 35.929374327392374,\n",
       " 35.932498216020036,\n",
       " 36.13186191840736,\n",
       " 36.134474531367275,\n",
       " 36.18535713925314,\n",
       " 36.25646869520796,\n",
       " 36.303542756492355,\n",
       " 36.40246365192152,\n",
       " 36.41034136482392,\n",
       " 36.45668027028991,\n",
       " 36.460897463798574,\n",
       " 36.59670352660416,\n",
       " 36.81583242104361,\n",
       " 36.92723359120805,\n",
       " 36.99290510212475,\n",
       " 37.048300531609044,\n",
       " 37.0592163372416,\n",
       " 37.10366397950206,\n",
       " 37.18007684151863,\n",
       " 37.33372859458535,\n",
       " 37.33945749070277,\n",
       " 37.49028201577179,\n",
       " 37.58480891368881,\n",
       " 37.644628469866184,\n",
       " 37.652988942869214,\n",
       " 37.761856125620014,\n",
       " 37.93886042643186,\n",
       " 38.051323784670906,\n",
       " 38.12518302320556,\n",
       " 38.175634454937644,\n",
       " 38.17747324721339,\n",
       " 38.240341489144406,\n",
       " 38.30600639027821,\n",
       " 38.3470597325234,\n",
       " 38.4043709943189,\n",
       " 38.58627660256967,\n",
       " 38.73974841472965,\n",
       " 38.75550750411811,\n",
       " 38.772494369032756,\n",
       " 38.874746439594524,\n",
       " 38.88212438125607,\n",
       " 38.992503274233236,\n",
       " 39.099681803499095,\n",
       " 39.19450496377118,\n",
       " 39.26942730030338,\n",
       " 39.27131074779202,\n",
       " 39.314045810968814,\n",
       " 39.376495789397254,\n",
       " 39.46029988689277,\n",
       " 39.60975806003205,\n",
       " 39.614262421948176,\n",
       " 39.63613277517809,\n",
       " 39.659650884019506,\n",
       " 39.807355479464334,\n",
       " 39.845120013649435,\n",
       " 39.87445190085072,\n",
       " 39.893502719517286,\n",
       " 39.905428805740264,\n",
       " 39.97724585792723]"
      ]
     },
     "execution_count": 86,
     "metadata": {},
     "output_type": "execute_result"
    }
   ],
   "source": [
    "sorted([i for _, i in zip(range(100), observations)])"
   ]
  },
  {
   "cell_type": "markdown",
   "metadata": {},
   "source": [
    "and check the corresponding quantiles"
   ]
  },
  {
   "cell_type": "code",
   "execution_count": 87,
   "metadata": {},
   "outputs": [
    {
     "data": {
      "text/plain": [
       "[19.00663637522749, 36.4308193958336, 38.21339522407641]"
      ]
     },
     "execution_count": 87,
     "metadata": {},
     "output_type": "execute_result"
    }
   ],
   "source": [
    "statistics.quantiles(observations)"
   ]
  },
  {
   "cell_type": "markdown",
   "metadata": {},
   "source": [
    "it should be uniform too."
   ]
  }
 ],
 "metadata": {
  "kernelspec": {
   "display_name": "Python 3",
   "language": "python",
   "name": "python3"
  },
  "language_info": {
   "codemirror_mode": {
    "name": "ipython",
    "version": 3
   },
   "file_extension": ".py",
   "mimetype": "text/x-python",
   "name": "python",
   "nbconvert_exporter": "python",
   "pygments_lexer": "ipython3",
   "version": "3.9.0"
  }
 },
 "nbformat": 4,
 "nbformat_minor": 4
}
