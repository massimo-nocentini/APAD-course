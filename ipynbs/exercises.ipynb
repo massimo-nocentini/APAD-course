{
 "cells": [
  {
   "cell_type": "markdown",
   "metadata": {},
   "source": [
    "# Exercises\n",
    "\n",
    "This chapter is an intermezzo that allows us to check and have a deeper understanding of the concepts seen so far by means of exercises. We will see how the code shown can be rewritten to take advantage of battle-tested solutions and idioms that emerges from daily practice.\n",
    "\n",
    "First of all, we import some modules"
   ]
  },
  {
   "cell_type": "code",
   "execution_count": 1,
   "metadata": {},
   "outputs": [],
   "source": [
    "import functools, operator, math, itertools, random, collections, statistics"
   ]
  },
  {
   "cell_type": "markdown",
   "metadata": {},
   "source": [
    "that contains useful definitions for the code that we are going to write. Moreover, an utility for generators,"
   ]
  },
  {
   "cell_type": "code",
   "execution_count": 2,
   "metadata": {},
   "outputs": [],
   "source": [
    "def take(iterable, n):\n",
    "    yield from map(lambda p: p[1], zip(range(n), iterable))"
   ]
  },
  {
   "cell_type": "markdown",
   "metadata": {},
   "source": [
    "that consumes an iterable and return a generator that will yield $n$ objects at most. For the sake of clarity,"
   ]
  },
  {
   "cell_type": "code",
   "execution_count": 48,
   "metadata": {},
   "outputs": [
    {
     "data": {
      "text/plain": [
       "<generator object take at 0x7fc40bf47e40>"
      ]
     },
     "execution_count": 48,
     "metadata": {},
     "output_type": "execute_result"
    }
   ],
   "source": [
    "taken = take(itertools.count(), 50)\n",
    "taken"
   ]
  },
  {
   "cell_type": "markdown",
   "metadata": {},
   "source": [
    "is a actually generator and its content equals"
   ]
  },
  {
   "cell_type": "code",
   "execution_count": 49,
   "metadata": {},
   "outputs": [],
   "source": [
    "assert list(taken) == list(range(50))"
   ]
  },
  {
   "cell_type": "markdown",
   "metadata": {},
   "source": [
    "## `sum_upto`"
   ]
  },
  {
   "cell_type": "markdown",
   "metadata": {},
   "source": [
    "Let"
   ]
  },
  {
   "cell_type": "code",
   "execution_count": 3,
   "metadata": {},
   "outputs": [],
   "source": [
    "def sum_upto(n):\n",
    "    return functools.reduce(operator.add, range(n+1))"
   ]
  },
  {
   "cell_type": "markdown",
   "metadata": {},
   "source": [
    "and test according to Euler's quicker formula"
   ]
  },
  {
   "cell_type": "code",
   "execution_count": 4,
   "metadata": {},
   "outputs": [],
   "source": [
    "n = 100\n",
    "v = sum_upto(n)\n",
    "assert v == (n*(n+1)/2) == 5050"
   ]
  },
  {
   "cell_type": "markdown",
   "metadata": {},
   "source": [
    "where"
   ]
  },
  {
   "cell_type": "code",
   "execution_count": 5,
   "metadata": {},
   "outputs": [
    {
     "name": "stdout",
     "output_type": "stream",
     "text": [
      "Help on built-in function reduce in module _functools:\n",
      "\n",
      "reduce(...)\n",
      "    reduce(function, sequence[, initial]) -> value\n",
      "    \n",
      "    Apply a function of two arguments cumulatively to the items of a sequence,\n",
      "    from left to right, so as to reduce the sequence to a single value.\n",
      "    For example, reduce(lambda x, y: x+y, [1, 2, 3, 4, 5]) calculates\n",
      "    ((((1+2)+3)+4)+5).  If initial is present, it is placed before the items\n",
      "    of the sequence in the calculation, and serves as a default when the\n",
      "    sequence is empty.\n",
      "\n"
     ]
    }
   ],
   "source": [
    "help(functools.reduce)"
   ]
  },
  {
   "cell_type": "markdown",
   "metadata": {},
   "source": [
    "and"
   ]
  },
  {
   "cell_type": "code",
   "execution_count": 6,
   "metadata": {},
   "outputs": [
    {
     "name": "stdout",
     "output_type": "stream",
     "text": [
      "Help on built-in function add in module _operator:\n",
      "\n",
      "add(a, b, /)\n",
      "    Same as a + b.\n",
      "\n"
     ]
    }
   ],
   "source": [
    "help(operator.add)"
   ]
  },
  {
   "cell_type": "markdown",
   "metadata": {},
   "source": [
    "## `sqrt`"
   ]
  },
  {
   "cell_type": "markdown",
   "metadata": {},
   "source": [
    "Let"
   ]
  },
  {
   "cell_type": "code",
   "execution_count": 7,
   "metadata": {},
   "outputs": [],
   "source": [
    "def sqrt(n):\n",
    "    \n",
    "    yield n\n",
    "    refined = n/2\n",
    "    while True:\n",
    "        yield refined\n",
    "        refined = (n/refined + refined)/2"
   ]
  },
  {
   "cell_type": "markdown",
   "metadata": {},
   "source": [
    "to enumerate 15 approximation of the square root of 37"
   ]
  },
  {
   "cell_type": "code",
   "execution_count": 8,
   "metadata": {},
   "outputs": [
    {
     "data": {
      "text/plain": [
       "[37,\n",
       " 18.5,\n",
       " 10.25,\n",
       " 6.929878048780488,\n",
       " 6.134538672432479,\n",
       " 6.082981028300877,\n",
       " 6.082762534222396,\n",
       " 6.08276253029822,\n",
       " 6.08276253029822,\n",
       " 6.08276253029822,\n",
       " 6.08276253029822,\n",
       " 6.08276253029822,\n",
       " 6.08276253029822,\n",
       " 6.08276253029822,\n",
       " 6.08276253029822]"
      ]
     },
     "execution_count": 8,
     "metadata": {},
     "output_type": "execute_result"
    }
   ],
   "source": [
    "n = 37\n",
    "list(take(sqrt(37), 15))"
   ]
  },
  {
   "cell_type": "markdown",
   "metadata": {},
   "source": [
    "and check with respect to"
   ]
  },
  {
   "cell_type": "code",
   "execution_count": 9,
   "metadata": {},
   "outputs": [
    {
     "data": {
      "text/plain": [
       "6.082762530298219"
      ]
     },
     "execution_count": 9,
     "metadata": {},
     "output_type": "execute_result"
    }
   ],
   "source": [
    "math.sqrt(n)"
   ]
  },
  {
   "cell_type": "markdown",
   "metadata": {},
   "source": [
    "where"
   ]
  },
  {
   "cell_type": "code",
   "execution_count": 10,
   "metadata": {},
   "outputs": [
    {
     "name": "stdout",
     "output_type": "stream",
     "text": [
      "Help on built-in function sqrt in module math:\n",
      "\n",
      "sqrt(x, /)\n",
      "    Return the square root of x.\n",
      "\n"
     ]
    }
   ],
   "source": [
    "help(math.sqrt)"
   ]
  },
  {
   "cell_type": "markdown",
   "metadata": {},
   "source": [
    "## $\\pi$\n",
    "\n",
    "According to https://en.wikipedia.org/wiki/Leibniz_formula_for_%CF%80, let"
   ]
  },
  {
   "cell_type": "code",
   "execution_count": 11,
   "metadata": {},
   "outputs": [],
   "source": [
    "def pi_Leibniz():\n",
    "    \n",
    "    d = 0\n",
    "    for i, coeff in enumerate(itertools.count(1, step=2)):\n",
    "        yield 4*d\n",
    "        d += (-1)**i/coeff"
   ]
  },
  {
   "cell_type": "markdown",
   "metadata": {},
   "source": [
    "in"
   ]
  },
  {
   "cell_type": "code",
   "execution_count": 12,
   "metadata": {},
   "outputs": [
    {
     "data": {
      "text/plain": [
       "[3.140582552837346,\n",
       " 3.1426017350685425,\n",
       " 3.140584589329763,\n",
       " 3.1425997026798886,\n",
       " 3.140586617627045,\n",
       " 3.142597678461635,\n",
       " 3.1405886377785612,\n",
       " 3.1425956623646125,\n",
       " 3.140590649833284,\n",
       " 3.142593654340044]"
      ]
     },
     "execution_count": 12,
     "metadata": {},
     "output_type": "execute_result"
    }
   ],
   "source": [
    "list(take(pi_Leibniz(), 1000))[-10:]"
   ]
  },
  {
   "cell_type": "markdown",
   "metadata": {},
   "source": [
    "and check against the"
   ]
  },
  {
   "cell_type": "code",
   "execution_count": 13,
   "metadata": {},
   "outputs": [
    {
     "data": {
      "text/plain": [
       "3.141592653589793"
      ]
     },
     "execution_count": 13,
     "metadata": {},
     "output_type": "execute_result"
    }
   ],
   "source": [
    "math.pi"
   ]
  },
  {
   "cell_type": "markdown",
   "metadata": {},
   "source": [
    "where"
   ]
  },
  {
   "cell_type": "code",
   "execution_count": 14,
   "metadata": {},
   "outputs": [
    {
     "name": "stdout",
     "output_type": "stream",
     "text": [
      "Help on class count in module itertools:\n",
      "\n",
      "class count(builtins.object)\n",
      " |  count(start=0, step=1)\n",
      " |  \n",
      " |  Return a count object whose .__next__() method returns consecutive values.\n",
      " |  \n",
      " |  Equivalent to:\n",
      " |      def count(firstval=0, step=1):\n",
      " |          x = firstval\n",
      " |          while 1:\n",
      " |              yield x\n",
      " |              x += step\n",
      " |  \n",
      " |  Methods defined here:\n",
      " |  \n",
      " |  __getattribute__(self, name, /)\n",
      " |      Return getattr(self, name).\n",
      " |  \n",
      " |  __iter__(self, /)\n",
      " |      Implement iter(self).\n",
      " |  \n",
      " |  __next__(self, /)\n",
      " |      Implement next(self).\n",
      " |  \n",
      " |  __reduce__(...)\n",
      " |      Return state information for pickling.\n",
      " |  \n",
      " |  __repr__(self, /)\n",
      " |      Return repr(self).\n",
      " |  \n",
      " |  ----------------------------------------------------------------------\n",
      " |  Static methods defined here:\n",
      " |  \n",
      " |  __new__(*args, **kwargs) from builtins.type\n",
      " |      Create and return a new object.  See help(type) for accurate signature.\n",
      "\n"
     ]
    }
   ],
   "source": [
    "help(itertools.count)"
   ]
  },
  {
   "cell_type": "markdown",
   "metadata": {},
   "source": [
    "## The Collatz's conjecture\n",
    "\n",
    "Consider the following operation on an arbitrary positive integer:\n",
    "\n",
    "    If the number is even, divide it by two.\n",
    "    If the number is odd, triple it and add one.\n",
    "    \n",
    "See also https://en.wikipedia.org/wiki/Collatz_conjecture. Let"
   ]
  },
  {
   "cell_type": "code",
   "execution_count": 15,
   "metadata": {},
   "outputs": [],
   "source": [
    "def collatz(n):\n",
    "    \n",
    "    yield n\n",
    "    \n",
    "    while True:\n",
    "        n = 3*n + 1 if n % 2 else n // 2\n",
    "        yield n"
   ]
  },
  {
   "cell_type": "markdown",
   "metadata": {},
   "source": [
    "in"
   ]
  },
  {
   "cell_type": "code",
   "execution_count": 16,
   "metadata": {
    "scrolled": false
   },
   "outputs": [
    {
     "data": {
      "text/plain": [
       "[[1, 4, 2, 1, 4, 2, 1, 4, 2, 1, 4, 2, 1, 4, 2],\n",
       " [2, 1, 4, 2, 1, 4, 2, 1, 4, 2, 1, 4, 2, 1, 4],\n",
       " [3, 10, 5, 16, 8, 4, 2, 1, 4, 2, 1, 4, 2, 1, 4],\n",
       " [4, 2, 1, 4, 2, 1, 4, 2, 1, 4, 2, 1, 4, 2, 1],\n",
       " [5, 16, 8, 4, 2, 1, 4, 2, 1, 4, 2, 1, 4, 2, 1],\n",
       " [6, 3, 10, 5, 16, 8, 4, 2, 1, 4, 2, 1, 4, 2, 1],\n",
       " [7, 22, 11, 34, 17, 52, 26, 13, 40, 20, 10, 5, 16, 8, 4],\n",
       " [8, 4, 2, 1, 4, 2, 1, 4, 2, 1, 4, 2, 1, 4, 2],\n",
       " [9, 28, 14, 7, 22, 11, 34, 17, 52, 26, 13, 40, 20, 10, 5],\n",
       " [10, 5, 16, 8, 4, 2, 1, 4, 2, 1, 4, 2, 1, 4, 2],\n",
       " [11, 34, 17, 52, 26, 13, 40, 20, 10, 5, 16, 8, 4, 2, 1],\n",
       " [12, 6, 3, 10, 5, 16, 8, 4, 2, 1, 4, 2, 1, 4, 2],\n",
       " [13, 40, 20, 10, 5, 16, 8, 4, 2, 1, 4, 2, 1, 4, 2],\n",
       " [14, 7, 22, 11, 34, 17, 52, 26, 13, 40, 20, 10, 5, 16, 8],\n",
       " [15, 46, 23, 70, 35, 106, 53, 160, 80, 40, 20, 10, 5, 16, 8],\n",
       " [16, 8, 4, 2, 1, 4, 2, 1, 4, 2, 1, 4, 2, 1, 4],\n",
       " [17, 52, 26, 13, 40, 20, 10, 5, 16, 8, 4, 2, 1, 4, 2],\n",
       " [18, 9, 28, 14, 7, 22, 11, 34, 17, 52, 26, 13, 40, 20, 10],\n",
       " [19, 58, 29, 88, 44, 22, 11, 34, 17, 52, 26, 13, 40, 20, 10]]"
      ]
     },
     "execution_count": 16,
     "metadata": {},
     "output_type": "execute_result"
    }
   ],
   "source": [
    "[list(take(collatz(n), 15)) for n in range(1, 20)]"
   ]
  },
  {
   "cell_type": "markdown",
   "metadata": {},
   "source": [
    "## Fibonacci numbers\n",
    "\n",
    "Directly from https://docs.python.org/3/library/functools.html#functools.cache:"
   ]
  },
  {
   "cell_type": "code",
   "execution_count": 20,
   "metadata": {},
   "outputs": [],
   "source": [
    "@functools.cache\n",
    "def factorial(n):\n",
    "    print('•', end='')\n",
    "    return n * factorial(n-1) if n else 1"
   ]
  },
  {
   "cell_type": "markdown",
   "metadata": {},
   "source": [
    "no previously cached result, makes 11 recursive calls (count the • symbols)"
   ]
  },
  {
   "cell_type": "code",
   "execution_count": 21,
   "metadata": {},
   "outputs": [
    {
     "name": "stdout",
     "output_type": "stream",
     "text": [
      "•••••••••••"
     ]
    },
    {
     "data": {
      "text/plain": [
       "3628800"
      ]
     },
     "execution_count": 21,
     "metadata": {},
     "output_type": "execute_result"
    }
   ],
   "source": [
    "factorial(10)"
   ]
  },
  {
   "cell_type": "markdown",
   "metadata": {},
   "source": [
    "just looks up cached value result"
   ]
  },
  {
   "cell_type": "code",
   "execution_count": 22,
   "metadata": {},
   "outputs": [
    {
     "data": {
      "text/plain": [
       "120"
      ]
     },
     "execution_count": 22,
     "metadata": {},
     "output_type": "execute_result"
    }
   ],
   "source": [
    "factorial(5)"
   ]
  },
  {
   "cell_type": "markdown",
   "metadata": {},
   "source": [
    "makes two new recursive calls, the other 10 are cached"
   ]
  },
  {
   "cell_type": "code",
   "execution_count": 23,
   "metadata": {},
   "outputs": [
    {
     "name": "stdout",
     "output_type": "stream",
     "text": [
      "••"
     ]
    },
    {
     "data": {
      "text/plain": [
       "479001600"
      ]
     },
     "execution_count": 23,
     "metadata": {},
     "output_type": "execute_result"
    }
   ],
   "source": [
    "factorial(12)"
   ]
  },
  {
   "cell_type": "markdown",
   "metadata": {},
   "source": [
    "## Uniform `random` on segmented interval\n",
    "\n",
    "The problem here reads as follow:\n",
    "\n",
    ">Sample uniformly from $[a, b)$ and $[c, d)$ where $b <= c$."
   ]
  },
  {
   "cell_type": "code",
   "execution_count": 24,
   "metadata": {},
   "outputs": [],
   "source": [
    "random.seed(11)"
   ]
  },
  {
   "cell_type": "code",
   "execution_count": 25,
   "metadata": {},
   "outputs": [
    {
     "name": "stdout",
     "output_type": "stream",
     "text": [
      "Help on built-in function random:\n",
      "\n",
      "random() method of random.Random instance\n",
      "    random() -> x in the interval [0, 1).\n",
      "\n"
     ]
    }
   ],
   "source": [
    "help(random.random)"
   ]
  },
  {
   "cell_type": "code",
   "execution_count": 26,
   "metadata": {},
   "outputs": [],
   "source": [
    "def samples(firstSlice, secondSlice):\n",
    "    secondLength = secondSlice.stop - secondSlice.start\n",
    "    ratio = secondLength/firstSlice.start\n",
    "    while True:\n",
    "        sample = random.random()*firstSlice.stop\n",
    "        yield (sample*ratio + secondSlice.start) if sample < firstSlice.start else sample"
   ]
  },
  {
   "cell_type": "markdown",
   "metadata": {},
   "source": [
    "Then define the generator with respect to $[10, 20)$ and $[35, 40)$"
   ]
  },
  {
   "cell_type": "code",
   "execution_count": 27,
   "metadata": {},
   "outputs": [],
   "source": [
    "observations = take(samples(slice(10, 20), slice(35, 40)), 1000000)"
   ]
  },
  {
   "cell_type": "markdown",
   "metadata": {},
   "source": [
    "have a look at some observations"
   ]
  },
  {
   "cell_type": "code",
   "execution_count": 28,
   "metadata": {},
   "outputs": [
    {
     "data": {
      "text/plain": [
       "[10.156825461245422,\n",
       " 10.23817278083611,\n",
       " 10.382482295281534,\n",
       " 10.567625323409576,\n",
       " 11.185902832207898,\n",
       " 11.19544772160992,\n",
       " 11.65469596335104,\n",
       " 11.747696576997939,\n",
       " 12.025676871638776,\n",
       " 12.311254091571415,\n",
       " 12.589098244680484,\n",
       " 12.597654404336039,\n",
       " 12.805834158383542,\n",
       " 12.83671313180921,\n",
       " 12.874302474223342,\n",
       " 13.078450670676808,\n",
       " 13.248990637807363,\n",
       " 13.868769650824781,\n",
       " 14.156192429958988,\n",
       " 14.637884314287007,\n",
       " 15.160810339875177,\n",
       " 15.32575772820814,\n",
       " 15.453793795456463,\n",
       " 15.570217173533017,\n",
       " 15.859537450399053,\n",
       " 15.940430236879482,\n",
       " 16.06823006164143,\n",
       " 16.19289068734355,\n",
       " 16.804310989857235,\n",
       " 16.84854257037064,\n",
       " 16.931672437623572,\n",
       " 16.94619546605609,\n",
       " 17.08753803402461,\n",
       " 17.697302254979416,\n",
       " 18.20543856208363,\n",
       " 18.484211680474587,\n",
       " 19.160847666396272,\n",
       " 19.281524331875282,\n",
       " 19.295155622511334,\n",
       " 19.41858112437383,\n",
       " 19.607178823485842,\n",
       " 19.643868415975565,\n",
       " 19.786033950203446,\n",
       " 19.913832833123983,\n",
       " 19.953124009261686,\n",
       " 35.0054493705557,\n",
       " 35.15000736949605,\n",
       " 35.300825892247886,\n",
       " 35.41880336369846,\n",
       " 35.59551105168855,\n",
       " 35.59893402941077,\n",
       " 35.70223499559926,\n",
       " 35.73038343833698,\n",
       " 35.733985533884244,\n",
       " 35.8714419835217,\n",
       " 35.9011717296193,\n",
       " 35.906705374918396,\n",
       " 35.94123456229219,\n",
       " 36.00332752183883,\n",
       " 36.010463089567054,\n",
       " 36.16507987639706,\n",
       " 36.179916794195506,\n",
       " 36.309670837166195,\n",
       " 36.57494095140162,\n",
       " 36.77678128198366,\n",
       " 36.84660343854877,\n",
       " 36.90208262797929,\n",
       " 36.90684415290366,\n",
       " 37.09717414729611,\n",
       " 37.107102214344394,\n",
       " 37.128656730090896,\n",
       " 37.132433685775226,\n",
       " 37.296659016079055,\n",
       " 37.419430136652146,\n",
       " 37.43012920137562,\n",
       " 37.4638794889313,\n",
       " 37.58277557861621,\n",
       " 37.697755868501424,\n",
       " 37.69794977190598,\n",
       " 37.78162899663886,\n",
       " 37.89039947314202,\n",
       " 37.96324762598947,\n",
       " 38.03401262624526,\n",
       " 38.0414514987099,\n",
       " 38.1527721701555,\n",
       " 38.2895542554773,\n",
       " 38.32585625463348,\n",
       " 38.86513531705935,\n",
       " 38.94274637072054,\n",
       " 38.97424388079281,\n",
       " 39.00399804918491,\n",
       " 39.20755617246421,\n",
       " 39.40531116656657,\n",
       " 39.47424877501022,\n",
       " 39.52379553509819,\n",
       " 39.57329881599558,\n",
       " 39.63934461223285,\n",
       " 39.65650070099773,\n",
       " 39.699872760136664,\n",
       " 39.997731522067916]"
      ]
     },
     "execution_count": 28,
     "metadata": {},
     "output_type": "execute_result"
    }
   ],
   "source": [
    "sorted([i for _, i in zip(range(100), observations)])"
   ]
  },
  {
   "cell_type": "markdown",
   "metadata": {},
   "source": [
    "then observe the quantiles:"
   ]
  },
  {
   "cell_type": "code",
   "execution_count": 29,
   "metadata": {},
   "outputs": [
    {
     "data": {
      "text/plain": [
       "[15.006802680976536, 35.007462054114015, 37.49996307800869]"
      ]
     },
     "execution_count": 29,
     "metadata": {},
     "output_type": "execute_result"
    }
   ],
   "source": [
    "statistics.quantiles(observations)"
   ]
  },
  {
   "cell_type": "markdown",
   "metadata": {},
   "source": [
    "it looks uniform. By the way, use different intervals, $[14, 20)$ and $[35,40)$,"
   ]
  },
  {
   "cell_type": "code",
   "execution_count": 41,
   "metadata": {},
   "outputs": [],
   "source": [
    "observations = take(samples(slice(14, 20), slice(35, 40)), 1000000)"
   ]
  },
  {
   "cell_type": "markdown",
   "metadata": {},
   "source": [
    "look again at some observations,"
   ]
  },
  {
   "cell_type": "code",
   "execution_count": 42,
   "metadata": {},
   "outputs": [
    {
     "data": {
      "text/plain": [
       "[14.099613130242322,\n",
       " 15.042430039294727,\n",
       " 15.054925822215415,\n",
       " 15.400719904549653,\n",
       " 15.714577581986779,\n",
       " 16.09454750184962,\n",
       " 16.169172163612973,\n",
       " 16.672057492150884,\n",
       " 16.711732516830907,\n",
       " 16.803542016379748,\n",
       " 17.175014561251693,\n",
       " 17.240811855776695,\n",
       " 17.772625718884473,\n",
       " 17.987971331377178,\n",
       " 18.19395704461553,\n",
       " 18.42354783087974,\n",
       " 18.667352819315536,\n",
       " 18.682055196236355,\n",
       " 18.74217199872048,\n",
       " 18.816441065824897,\n",
       " 19.083221061479573,\n",
       " 19.183024972873685,\n",
       " 19.209936295249342,\n",
       " 19.43480148067072,\n",
       " 19.61117446876884,\n",
       " 19.627303300465165,\n",
       " 19.923738316438143,\n",
       " 35.12305214548047,\n",
       " 35.18142206774488,\n",
       " 35.18411858785431,\n",
       " 35.22664081632368,\n",
       " 35.27251614283628,\n",
       " 35.40904435345992,\n",
       " 35.43912467552985,\n",
       " 35.68429940080377,\n",
       " 35.71888190108937,\n",
       " 35.7271442388945,\n",
       " 35.75783263239378,\n",
       " 35.872470640844284,\n",
       " 35.89195950774178,\n",
       " 35.980757049799315,\n",
       " 35.981775604695045,\n",
       " 35.98434046759749,\n",
       " 35.98473482345873,\n",
       " 36.07737189602656,\n",
       " 36.11351094158937,\n",
       " 36.11952812083598,\n",
       " 36.157499696186704,\n",
       " 36.180553828747875,\n",
       " 36.18802609066498,\n",
       " 36.22657655241199,\n",
       " 36.243473589718356,\n",
       " 36.46865347170687,\n",
       " 36.805659562487676,\n",
       " 36.82474577813992,\n",
       " 37.07773865377199,\n",
       " 37.0780698604367,\n",
       " 37.07854758591836,\n",
       " 37.079515903350924,\n",
       " 37.36094263623299,\n",
       " 37.40626697392589,\n",
       " 37.42153929699421,\n",
       " 37.48756387147119,\n",
       " 37.491016452646676,\n",
       " 37.55697665858069,\n",
       " 37.58872841059282,\n",
       " 37.62717861617942,\n",
       " 37.679355622177994,\n",
       " 37.70489687642647,\n",
       " 37.7481581145108,\n",
       " 37.88358813292845,\n",
       " 37.88770055968942,\n",
       " 37.91267386834141,\n",
       " 37.93199215717868,\n",
       " 37.95408410704644,\n",
       " 38.056929861397975,\n",
       " 38.095721330360234,\n",
       " 38.13602604283887,\n",
       " 38.15292939276711,\n",
       " 38.25067211387302,\n",
       " 38.39266083030915,\n",
       " 38.464135746965944,\n",
       " 38.49457858166925,\n",
       " 38.590996465501185,\n",
       " 38.65329345037358,\n",
       " 38.75102574605713,\n",
       " 38.77274430938016,\n",
       " 38.819249082159075,\n",
       " 38.84201684521456,\n",
       " 39.10687878541622,\n",
       " 39.127167753676034,\n",
       " 39.24073266998679,\n",
       " 39.24213187134309,\n",
       " 39.25258447458132,\n",
       " 39.30314518065818,\n",
       " 39.52161609334226,\n",
       " 39.638322973070714,\n",
       " 39.70200203063223,\n",
       " 39.70925513471737,\n",
       " 39.922903856012475]"
      ]
     },
     "execution_count": 42,
     "metadata": {},
     "output_type": "execute_result"
    }
   ],
   "source": [
    "sorted([i for _, i in zip(range(100), observations)])"
   ]
  },
  {
   "cell_type": "markdown",
   "metadata": {},
   "source": [
    "and check the corresponding quantiles"
   ]
  },
  {
   "cell_type": "code",
   "execution_count": 43,
   "metadata": {},
   "outputs": [
    {
     "data": {
      "text/plain": [
       "[19.02225548120831, 36.43524239264308, 38.22073926901422]"
      ]
     },
     "execution_count": 43,
     "metadata": {},
     "output_type": "execute_result"
    }
   ],
   "source": [
    "statistics.quantiles(observations)"
   ]
  },
  {
   "cell_type": "markdown",
   "metadata": {},
   "source": [
    "it should be uniform too. Finally, we test the corner case where $b=c$, so let $[10, 20)$ and $[20,40)$,"
   ]
  },
  {
   "cell_type": "code",
   "execution_count": 35,
   "metadata": {},
   "outputs": [],
   "source": [
    "observations = take(samples(slice(10, 20), slice(20, 40)), 1000000)"
   ]
  },
  {
   "cell_type": "markdown",
   "metadata": {},
   "source": [
    "look again at some observations,"
   ]
  },
  {
   "cell_type": "code",
   "execution_count": 36,
   "metadata": {},
   "outputs": [
    {
     "data": {
      "text/plain": [
       "[10.29443967255584,\n",
       " 10.389582851361535,\n",
       " 10.751803056983524,\n",
       " 11.292356727115278,\n",
       " 11.388428251836682,\n",
       " 11.461856587348677,\n",
       " 11.596674101681474,\n",
       " 11.77511398954632,\n",
       " 12.01569935558677,\n",
       " 12.222155549127304,\n",
       " 12.279085221483117,\n",
       " 12.301425945566313,\n",
       " 12.921546513858807,\n",
       " 12.959893801770384,\n",
       " 14.156887631621961,\n",
       " 14.711457129780037,\n",
       " 14.736947433880584,\n",
       " 14.774414405894628,\n",
       " 15.030943610162508,\n",
       " 15.092833805259025,\n",
       " 15.148548419843436,\n",
       " 15.162966656289903,\n",
       " 15.272230478182166,\n",
       " 15.630515301172018,\n",
       " 15.67229149723666,\n",
       " 15.810394189658044,\n",
       " 15.94338711287187,\n",
       " 16.284960496589807,\n",
       " 16.45543016468218,\n",
       " 16.47371438529651,\n",
       " 16.911799312375187,\n",
       " 17.03975152472178,\n",
       " 17.170833892131427,\n",
       " 17.25436778360172,\n",
       " 17.32744960946101,\n",
       " 17.404337721732265,\n",
       " 17.444921313078254,\n",
       " 17.45413381549554,\n",
       " 17.989541837428828,\n",
       " 18.085746826185847,\n",
       " 18.332269054958687,\n",
       " 18.584995913258552,\n",
       " 18.990264761683168,\n",
       " 19.098687838804537,\n",
       " 19.311621011420634,\n",
       " 19.47334051653072,\n",
       " 19.70317513159338,\n",
       " 19.8588492840531,\n",
       " 19.97872576227502,\n",
       " 20.11767716639163,\n",
       " 20.150592220732868,\n",
       " 20.22751839644842,\n",
       " 20.581460757660274,\n",
       " 20.853682832398054,\n",
       " 21.19475550948293,\n",
       " 21.450044132391973,\n",
       " 21.617152507972346,\n",
       " 22.13952962160949,\n",
       " 22.168250775920416,\n",
       " 22.26095582669094,\n",
       " 22.950246737152845,\n",
       " 23.530518187290554,\n",
       " 23.74954640393728,\n",
       " 25.181588875922955,\n",
       " 25.44095626751403,\n",
       " 25.744905205209303,\n",
       " 26.263245724832935,\n",
       " 26.77866675200537,\n",
       " 26.85227195075615,\n",
       " 27.217436442346212,\n",
       " 28.003210378672065,\n",
       " 28.225755967675465,\n",
       " 28.74801620415561,\n",
       " 28.840033458738166,\n",
       " 28.947601640541233,\n",
       " 29.23424321009936,\n",
       " 29.267543341480714,\n",
       " 29.655389146378738,\n",
       " 29.864917396264605,\n",
       " 30.13383841405905,\n",
       " 30.695480992481286,\n",
       " 30.70666981185014,\n",
       " 31.70997411709306,\n",
       " 32.47493817587067,\n",
       " 32.61592854003962,\n",
       " 32.822684380690546,\n",
       " 33.02611771273637,\n",
       " 33.38591261644087,\n",
       " 33.53334749587938,\n",
       " 33.69155999551302,\n",
       " 34.0572572820421,\n",
       " 34.178303357761685,\n",
       " 34.53318255967711,\n",
       " 36.08847203528956,\n",
       " 36.47311476852358,\n",
       " 37.29241949096567,\n",
       " 37.41084139391073,\n",
       " 39.32355513566131,\n",
       " 39.790964180290636,\n",
       " 39.85414323920364]"
      ]
     },
     "execution_count": 36,
     "metadata": {},
     "output_type": "execute_result"
    }
   ],
   "source": [
    "sorted([i for _, i in zip(range(100), observations)])"
   ]
  },
  {
   "cell_type": "markdown",
   "metadata": {},
   "source": [
    "and check the corresponding quantiles"
   ]
  },
  {
   "cell_type": "code",
   "execution_count": 37,
   "metadata": {},
   "outputs": [
    {
     "data": {
      "text/plain": [
       "[14.990949386533936, 19.981113933657763, 30.00265344224226]"
      ]
     },
     "execution_count": 37,
     "metadata": {},
     "output_type": "execute_result"
    }
   ],
   "source": [
    "statistics.quantiles(observations)"
   ]
  },
  {
   "cell_type": "markdown",
   "metadata": {},
   "source": [
    "it should be uniform either."
   ]
  }
 ],
 "metadata": {
  "kernelspec": {
   "display_name": "Python 3",
   "language": "python",
   "name": "python3"
  },
  "language_info": {
   "codemirror_mode": {
    "name": "ipython",
    "version": 3
   },
   "file_extension": ".py",
   "mimetype": "text/x-python",
   "name": "python",
   "nbconvert_exporter": "python",
   "pygments_lexer": "ipython3",
   "version": "3.9.0"
  }
 },
 "nbformat": 4,
 "nbformat_minor": 4
}
